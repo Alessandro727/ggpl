{
 "cells": [
  {
   "cell_type": "markdown",
   "metadata": {},
   "source": [
    "# Workshop N.7: Modeling wooden doors and windows"
   ]
  },
  {
   "cell_type": "markdown",
   "metadata": {},
   "source": [
    "Implemented functions are able to return HPC models represented doors and windows of any size with a rectangular shape. Secondary functions have been added to allow the addition of the windows arches, to allow the insertion of handles in the doors and opportunely to resize the models in the desired size."
   ]
  },
  {
   "cell_type": "markdown",
   "metadata": {},
   "source": [
    "## Reference images"
   ]
  },
  {
   "cell_type": "markdown",
   "metadata": {},
   "source": [
    "### Window:"
   ]
  },
  {
   "cell_type": "markdown",
   "metadata": {},
   "source": [
    "<img src=img/finestra.jpg>"
   ]
  },
  {
   "cell_type": "markdown",
   "metadata": {},
   "source": [
    "### Door: "
   ]
  },
  {
   "cell_type": "markdown",
   "metadata": {},
   "source": [
    "<img src=img/porta.jpg>"
   ]
  },
  {
   "cell_type": "markdown",
   "metadata": {},
   "source": [
    "## Main code:"
   ]
  },
  {
   "cell_type": "code",
   "execution_count": null,
   "metadata": {
    "collapsed": true
   },
   "outputs": [],
   "source": [
    "\"\"\" ggpl_window is a function able to realize any type of rectangular window \n",
    "\tthanks to two arrays with the distances of the various parts which is on the x axis and y axis \n",
    "\tto an array with the occurrences of each part. \n",
    "\tThe function in question creates the window and adds a bow to produce the image to be displayed.\n",
    "\t@param xWindow: array with the distances of the various parts of the window on the x axis\n",
    "\t@param yWindow: array with the distances of the various parts of the window on the y axis \n",
    "\t@param occurrencyWindow: array with the parties occurrences\n",
    "\t@param dx: length of the final window on the x axis \n",
    "\t@param dy: length of the final window on the y axis\n",
    "\t@param dz: length of the final window on the z axis \"\"\"\n",
    "def ggpl_window(xWindow,yWindow, occurrencyWindow):\n",
    "\n",
    "\tdef ggpl_window0(dx,dy,dz):\n",
    "\t\n",
    "\t\twindow=STRUCT([CUBOID([0,0,0])])\n",
    "\t\tresize(xWindow,yWindow,dx,dz)\n",
    "\t\tfor i in range(len(xWindow)):\n",
    "\t\t\tcounterX=sum(xWindow[:i])\n",
    "\t\t\tfor j in range(len(yWindow)):\n",
    "\t\t\t\tcounterY=sum(yWindow[:j])\n",
    "\t\t\t\tif occurrencyWindow[j][i]==1:\n",
    "\t\t\t\t\tcube=CUBOID([xWindow[i],yWindow[j],dy])\n",
    "\t\t\t\t\twindow=STRUCT([window,T([1,2])([counterX,counterY])(cube)])\n",
    "\t\twindow = R([2,3])(PI/2)(window)\n",
    "\t\twindow = T(2)(dy)(window)\n",
    "\t\tarc = make_arc(sum(xWindow)-dy/3.,dy,dz)\n",
    "\n",
    "\t\tVIEW(COLOR(Color4f([165/255.0,131/255.0,36/255.0,1.0]))(STRUCT([window,arc])))\n",
    "\n",
    "\treturn ggpl_window0\t\n",
    "\n",
    "\"\"\" ggpl_window is a function able to realize any type of rectangular door \n",
    "\tthanks to two arrays with the distances of the various parts which is on the x axis and y axis \n",
    "\tto an array with the occurrences of each part. \n",
    "\tThe function in question creates the door and adds a handle to produce the image to be displayed.\n",
    "\t@param xDoor: array with the distances of the various parts of the door on the x axis\n",
    "\t@param yDoor: array with the distances of the various parts of the door on the y axis \n",
    "\t@param occurrencyDoor: array with the parties occurrences\n",
    "\t@param dx: length of the final door on the x axis \n",
    "\t@param dy: length of the final door on the y axis\n",
    "\t@param dz: length of the final door on the z axis \"\"\"\n",
    "def ggpl_door(xDoor,yDoor, occurrencyDoor):\n",
    "\n",
    "\tdef ggpl_door0(dx,dy,dz):\n",
    "\t\n",
    "\t\tdoor=STRUCT([CUBOID([0,0,0])])\n",
    "\t\tresize(xDoor,yDoor,dx,dz)\n",
    "\t\tfor i in range(len(xDoor)):\n",
    "\t\t\t\n",
    "\t\t\tcounterX=sum(xDoor[:i])\n",
    "\t\t\tfor j in range(len(yDoor)):\n",
    "\t\t\t\tcounterY=sum(yDoor[:j])\n",
    "\t\t\t\tif occurrencyDoor[j][i]==1:\n",
    "\t\t\t\t\tcube=CUBOID([xDoor[i],yDoor[j],dy])\n",
    "\t\t\t\t\tdoor=STRUCT([door,T([1,2])([counterX,counterY])(cube)])\n",
    "\t\tdoor = R([2,3])(PI/2)(door)\n",
    "\t\tdoor = T(2)(dy)(door)\n",
    "\t\thandle = COLOR(GRAY)(make_handle(dz/2.5))\n",
    "\t\thandle = R([1,2])(PI)(handle)\n",
    "\t\thandle = T([1,2,3])([2*dx/2.7,0.03,dz/2])(handle)\n",
    "\t\tVIEW(STRUCT([door,handle]))\n",
    "\n",
    "\treturn ggpl_door0\t\n",
    "\n",
    "\t\n",
    "\n",
    "\t\t\t\n",
    "\t\t\n",
    "\n",
    "\n",
    "if __name__=='__main__':\n",
    "\tx1=[.05,.003,.3,.8,.3,.003,.05,.25,.05]\n",
    "\ty1=[.1,.45,.15,.15,.15,.15,.15,.15,.15,.15,.15,.4,.1,.05]\n",
    "\tb1=[[1,0,1,1,1,0,1,1,1],[1,0,1,1,1,0,1,0,1],[1,0,1,0,1,0,1,0,1],[1,0,1,1,1,0,1,0,1],[1,0,1,0,1,0,1,0,1],[1,0,1,1,1,0,1,0,1],[1,0,1,0,1,0,1,0,1],[1,0,1,1,1,0,1,0,1],[1,0,1,0,1,0,1,0,1],[1,0,1,1,1,0,1,0,1],[1,0,1,0,1,0,1,0,1],[1,0,1,1,1,0,1,0,1],[1,1,1,1,1,1,1,1,1],[1,1,1,1,1,1,1,1,1]]\n",
    "\tx=[.05,.4,.05,.4,.05,.4,.05,.4,.05]\n",
    "\ty=[.05,.4,.05,.4,.05,.4,.05,.4,.05]\n",
    "\tb=[[1,1,1,1,1,1,1,1,1],[1,0,1,0,1,0,1,0,1],[1,1,1,1,1,1,1,1,1],[1,0,1,0,1,0,1,0,1],[1,1,1,1,1,1,1,1,1],[1,0,1,0,1,0,1,0,1],[1,1,1,1,1,1,1,1,1],[1,0,1,0,1,0,1,0,1],[1,1,1,1,1,1,1,1,1]]\n",
    "\tggpl_window(x,y,b)(1.5,0.2,1.5)\n",
    "\tggpl_door(x1,y1,b1)(2,0.2,4)\n",
    "\t\n"
   ]
  },
  {
   "cell_type": "markdown",
   "metadata": {},
   "source": [
    "## Secondary functions:"
   ]
  },
  {
   "cell_type": "code",
   "execution_count": null,
   "metadata": {
    "collapsed": true
   },
   "outputs": [],
   "source": [
    "\"\"\" resize is a function that can change the size of the door/window without altering the width of the object frame.\n",
    "\t@param x: array of distances on x axis\n",
    "\t@param y: array of distances on y axis\n",
    "\t@param dX: length of the final window on the x axis\n",
    "\t@param dY: length of the final window on the y axis \"\"\"\n",
    "def resize(x,y,dX,dY):\n",
    "\tsumX = sum(x)\n",
    "\tsumY = sum(y)\n",
    "\n",
    "\tfor i in range(len(x)-2):\n",
    "\t\tx[i+1] = x[i+1]/(sumX/dX)\n",
    "\tfor j in range(len(y)-2):\n",
    "\t\ty[j+1] = y[j+1]/(sumY/dY)\n",
    "\n",
    "\"\"\" removeNegative is a function to remove the part of an object \n",
    "\twhich is located below the reference axis by removing the negative cells calculated through the object UKPOL \n",
    "\tand it returns the original object without the bad part.\n",
    "\t@param ukpol: object UKPOL \"\"\"\n",
    "def removeNegative(ukpol):\n",
    "\tfor cell_index in range(len(ukpol[1])):\n",
    "\t\tfor vertex in ukpol[1][cell_index]:\n",
    "\t\t\tif (ukpol[0][vertex-1][1] < -0.01):\n",
    "\t\t\t\tukpol[1][cell_index] = [0,0]\n",
    "\treturn MKPOL([ukpol[0], ukpol[1], 1])\n",
    "\n",
    "\"\"\" make_arc is a function to realize the upper arc of a window. \n",
    "\t@param dx: length of the final window on the x axis\n",
    "\t@param dy: length of the final window on the y axis\n",
    "\t@param dz: length of the final window on the z axis \"\"\"\n",
    "def make_arc(dx,dy,dz):\n",
    "\tarc = CIRCLE(dx/2.)([12,2])\n",
    "\tarc = R([1,3])(PI/2)(arc)\n",
    "\tarc = removeNegative(UKPOL(SKEL_1(arc)))\n",
    "\tarc = OFFSET([dy/3.,dy/3.,dy/3.])(arc)\n",
    "\tarc = R([1,3])(3*PI/2)(arc)\n",
    "\tarc = MAP([S1,S3,S2])(arc)\n",
    "\tarc = T([1,2,3])([dx/2.,dy/3., dz-dy/3.])(arc)\n",
    "\tarc = S(2)(dy/SIZE([2])(arc)[0])(arc)\n",
    "\n",
    "\treturn arc\n",
    "\n",
    "\n",
    "\"\"\" make_handle is a function for the creation of the door handle to represent. \n",
    "\tThe function returns handles that have a semi-elliptical shape. \n",
    "\t@param dz: length of the final door on the z axis \"\"\"\n",
    "def make_handle(dz):\n",
    "\thandle = CIRCLE(2*dz/3.)([100,1])\n",
    "\thandle = R([1,3])(PI/2)(handle)\n",
    "\thandle = T(2)((-dz)/1.8)(handle)\n",
    "\thandle = removeNegative(UKPOL(SKEL_1(handle)))\n",
    "\thandle = OFFSET([0.1,0.05,0])(handle)\n",
    "\thandle = T(2)(-dz/20.)(handle)\n",
    "\thandle = removeNegative(UKPOL((handle)))\n",
    "\n",
    "\treturn handle"
   ]
  },
  {
   "cell_type": "markdown",
   "metadata": {},
   "source": [
    "## Results:"
   ]
  },
  {
   "cell_type": "markdown",
   "metadata": {},
   "source": [
    "<img src=img/finestra2.jpg>"
   ]
  },
  {
   "cell_type": "markdown",
   "metadata": {},
   "source": [
    "<img src=img/portabianca.jpg>"
   ]
  }
 ],
 "metadata": {
  "anaconda-cloud": {},
  "kernelspec": {
   "display_name": "Python [default]",
   "language": "python",
   "name": "python2"
  },
  "language_info": {
   "codemirror_mode": {
    "name": "ipython",
    "version": 2
   },
   "file_extension": ".py",
   "mimetype": "text/x-python",
   "name": "python",
   "nbconvert_exporter": "python",
   "pygments_lexer": "ipython2",
   "version": "2.7.12"
  }
 },
 "nbformat": 4,
 "nbformat_minor": 1
}
