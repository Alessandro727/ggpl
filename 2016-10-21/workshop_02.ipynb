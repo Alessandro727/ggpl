{
 "cells": [
  {
   "cell_type": "markdown",
   "metadata": {},
   "source": [
    "# Workshop N.2: Parametric (spatial) building frame in reinforced concrete\n",
    "\n",
    "# Immagine di riferimento da realizzare:\n",
    "\n",
    "<img src=\"http://design.rootiers.it/2010/sites/default/files/155/telaio%20finale.JPG\"> "
   ]
  },
  {
   "cell_type": "code",
   "execution_count": null,
   "metadata": {
    "collapsed": true
   },
   "outputs": [],
   "source": [
    "\"\"\"Funzione per la lettura delle dimensioni dell'edificio in cemento armato da file csv\"\"\"\n",
    "def ggpl_bone_structure(file_name):\n",
    "\t\n",
    "\tlengthPerpendicularBeams = []\n",
    "\t\"\"\" open csv file \"\"\"\n",
    "\twith open(file_name, 'rb') as csvFile:\n",
    "\t\treader = csv.reader(csvFile)\n",
    "\t\ti=0\n",
    "\"\"\"Ciclo for per recuperare le dimensioni dal file csv \n",
    "(nelle righe dispari ci sono le dimensioni per la realizzazione del telaio mentre in quelle pari le distanze tra i telai)\"\"\"\n",
    "\t\tfor row in reader:\n",
    "\t\t\tif i%2==1:\n",
    "\t\t\t\tlengthPerpendicularBeams = lengthPerpendicularBeams + [float(row[0])]\n",
    "\t\t\t\ti=i+1\n",
    "\t\t\telif i%2==0:\n",
    "\t\t\t\t(px,py)=(float(row[0]),float(row[1]))\n",
    "\t\t\t\tpillarDistances = []\n",
    "\t\t\t\tj=3\n",
    "\t\t\t\twhile row[j]!=\"]\":\n",
    "\t\t\t\t\tpillarDistances.append(float(row[j]))\n",
    "\t\t\t\t\tj=j+1\n",
    "\t\t\t\t(by,bz)= (float(row[j+1]),float(row[j+2]))\n",
    "\t\t\t\tj= j+4\n",
    "\t\t\t\tbeamInterstoryHeights = []\n",
    "\t\t\t\twhile row[j]!=\"]\":\n",
    "\t\t\t\t\tbeamInterstoryHeights.append(float(row[j]))\n",
    "\t\t\t\t\tj=j+1\t\n",
    "\t\t\t\ti=i+1\n",
    "\"\"\"La funzione ritorna la struttura realizzata attraverso la funzione \"makeStruct\"\n",
    "I paramentri da passare alla funzione sono stati presi dal file csv e salvati nelle rispettive variabili \n",
    "attraverso il precedente ciclo for\"\"\"\n",
    "\treturn makeStruct((px,py), pillarDistances, (by,bz), beamInterstoryHeights, lengthPerpendicularBeams)\n",
    "    "
   ]
  },
  {
   "cell_type": "markdown",
   "metadata": {},
   "source": [
    "# File csv contenente le dimensioni dell'edificio in cemento armato\n",
    "\n",
    "    0.4,0.4,[,6,3,],0.4,0.4,[,2,2,2,2,]\n",
    "    4\n",
    "    0.4,0.4,[,6,3,],0.4,0.4,[,2,2,2,2,]\n",
    "    4\n",
    "    0.4,0.4,[,6,3,],0.4,0.4,[,2,2,2,2,]\n",
    "    4\n",
    "    0.4,0.4,[,6,3,],0.4,0.4,[,2,2,2,2,]\n",
    "    4\n",
    "    0.4,0.4,[,6,3,],0.4,0.4,[,2,2,2,2,]\n",
    "    4\n",
    "    0.4,0.4,[,6,3,],0.4,0.4,[,2,2,2,2,]\n",
    "    4\n",
    "    0.4,0.4,[,6,3,],0.4,0.4,[,2,2,2,2,]"
   ]
  },
  {
   "cell_type": "markdown",
   "metadata": {},
   "source": [
    "# Funzione per la realizzazione della struttura "
   ]
  },
  {
   "cell_type": "code",
   "execution_count": null,
   "metadata": {
    "collapsed": true
   },
   "outputs": [],
   "source": [
    "\"\"\"La funzione \"makeStruct\" necessita in input delle coordinate px e py della base dei pilastri, \n",
    "un array con la distanza tra i pilastri in un unico telaio, le coordinate by e bz delle travi del singolo telaio, \n",
    "un array contenente le distanze tra le travi nel singolo telaio ed infine un array contenente le distanze tra i telai\"\"\"\n",
    "\n",
    "def makeStruct((px,py),pillarDistances,(by,bz), beamInterstoryHeights, lengthPerpendicularBeams):\n",
    "\n",
    "\t\"\"\" array for the pillar foundations \"\"\"\n",
    "\tpillarArray = [px]\n",
    "\tfor value in pillarDistances:\n",
    "\t\tpillarArray = pillarArray+[-value]+[px]\n",
    "\t\n",
    "\t\"\"\" x-axis of the pillar \"\"\"\n",
    "\txBasePillar = QUOTE(pillarArray)\n",
    "\t\n",
    "\t\"\"\" y-axis of the pillar \"\"\"\n",
    "\tyBasePillar = QUOTE([py])\n",
    "\n",
    "\txyBasePillar = PROD([xBasePillar, yBasePillar])\n",
    "\n",
    "\t\"\"\" array for the z-axis of the pillar \"\"\"\n",
    "\theightsPillar = []\n",
    "\tfor value in beamInterstoryHeights:\n",
    "\t\theightsPillar = heightsPillar+[value+bz]\n",
    "\t\n",
    "\t\"\"\" z-axis of the pillar \"\"\"\n",
    "\tzBasePillar = QUOTE(heightsPillar)\n",
    "\n",
    "\tpillars = PROD([xyBasePillar, zBasePillar])\n",
    "\n",
    "\t\"\"\" array for the realization of the beams \"\"\"\n",
    "\tbeamStruct = [ -x for x in pillarArray]\n",
    "\t\n",
    "\t\"\"\" x-axis of the beams \"\"\"\n",
    "\txBaseBeam = QUOTE(beamStruct)\n",
    "\n",
    "\t\"\"\" y-axis of the beams \"\"\"\n",
    "\tyBaseBeam = QUOTE([by])\n",
    "\n",
    "\txyBaseBeam = PROD([xBaseBeam, yBaseBeam])\n",
    "\n",
    "\t\"\"\" array for distance between the beams \"\"\"\n",
    "\tbeamsDistance = []\n",
    "\tfor value in beamInterstoryHeights:\n",
    "\t\tbeamsDistance = beamsDistance+[-value]+[bz]\n",
    "\n",
    "\tbeams = PROD([xyBaseBeam, QUOTE(beamsDistance)])\n",
    "\n",
    "\t\"\"\" frame \"\"\"\n",
    "\tstruct = STRUCT([pillars, beams])\n",
    "\t\n",
    "\t\"\"\" distance between frames \"\"\"\n",
    "\tframesDistance = []\n",
    "\tfor value in lengthPerpendicularBeams:\n",
    "\t\tframesDistance = framesDistance + [-py] + [value]\n",
    "\n",
    "\t\"\"\" creating beams between frames \"\"\"\n",
    "\tyBasePerpendicularBeams = QUOTE(framesDistance)\n",
    "\n",
    "\txBasePerpendicularBeams = QUOTE([by])\n",
    "\n",
    "\txyBasePerpendicularBeams = PROD([xBasePerpendicularBeams, yBasePerpendicularBeams])\n",
    "\n",
    "\txyzBasePerpendicularBeams = PROD([xyBasePerpendicularBeams, QUOTE(beamsDistance)])\n",
    "\n",
    "\txyzStruct = STRUCT([xyzBasePerpendicularBeams])\n",
    "\t\n",
    "\t\"\"\" creating arrays for the function T() \"\"\"\n",
    "\taccumulator=0\n",
    "\tarrayBeams = []\n",
    "\n",
    "\tfor value in lengthPerpendicularBeams:\n",
    "\t\taccumulator = accumulator+value\n",
    "\t\tarrayBeams=arrayBeams+[accumulator]\n",
    "\n",
    "\taccumulator = 0\n",
    "\tarrayPillar = []\n",
    "\tfor value in pillarDistances:\n",
    "\t\taccumulator = accumulator+value\n",
    "\t\tarrayPillar=arrayPillar+[accumulator]\n",
    "\n",
    "\t\"\"\" duplication frames and perpendicular beams \"\"\"\n",
    "\tdist=py\n",
    "\tstructFrames=struct\n",
    "\tfor value in arrayBeams:\n",
    "\t\tstructFrames = STRUCT([structFrames, T(2)(value+dist), struct])\n",
    "\t\tdist+=py\n",
    "\n",
    "\tdist=px\n",
    "\tstructBeams= xyzStruct\n",
    "\tfor value in arrayPillar:\n",
    "\t\tstructBeams = STRUCT([structBeams, T(1)(value+dist), xyzStruct])\n",
    "\t\tdist+=px\n",
    "\n",
    "\t\"\"\" merge duplicate structures \"\"\"\n",
    "\tfinalStruct =  STRUCT([structFrames, structBeams])\n",
    "    \n",
    "\"\"\"La funzione ritorna la struttura realizzata attraverso la primitiva \"STRUCT()\" \"\"\"\n",
    "\treturn finalStruct"
   ]
  },
  {
   "cell_type": "markdown",
   "metadata": {},
   "source": [
    "# Porzione della funzione \"makeStruct()\" per la realizzazione dei pilastri di un telaio della struttura"
   ]
  },
  {
   "cell_type": "code",
   "execution_count": null,
   "metadata": {
    "collapsed": true
   },
   "outputs": [],
   "source": [
    "\"\"\"Creazione array da passare a QUOTE() per la realizzazione della coordinata x della base dei pilastri del telaio (l'array conterrà la coordinata px del pilastro seguito dalla distanza negativa tra il pilastro successivo in modo da lasciare tale distanza in sequenza fino all'aggiunta dell'ultima px per l'ultimo pilastro)\"\"\"\n",
    "\n",
    "    \"\"\" array for the pillar foundations \"\"\"\n",
    "\tpillarArray = [px]\n",
    "\tfor value in pillarDistances:\n",
    "\t\tpillarArray = pillarArray+[-value]+[px]\n",
    "\t\n",
    "\t\"\"\" x-axis of the pillar \"\"\"\n",
    "\txBasePillar = QUOTE(pillarArray)\n",
    "\t\n",
    "\t\"\"\" y-axis of the pillar \"\"\"\n",
    "\tyBasePillar = QUOTE([py])\n",
    "\n",
    "\"\"\"Prodotto tra la coordinata x e la coordinata y della base del telaio in modo da realizzare la base del telaio in 2D (senza altezza)\"\"\"\n",
    "\t\n",
    "    xyBasePillar = PROD([xBasePillar, yBasePillar])\n",
    "\n",
    "\"\"\"Creazione array da passare a QUOTE() per realizzare l'altezza dei pilastri (l'array conterra la distanza tra le travi del telaio più la lunghezza bz della singola trave)\"\"\"\n",
    "\t\n",
    "    \"\"\" array for the z-axis of the pillar \"\"\"\n",
    "\theightsPillar = []\n",
    "\tfor value in beamInterstoryHeights:\n",
    "\t\theightsPillar = heightsPillar+[value+bz]\n",
    "\n",
    "\t\"\"\" z-axis of the pillar \"\"\"\n",
    "\tzBasePillar = QUOTE(heightsPillar)\n",
    "    \n",
    "\"\"\"Prodotto tra la base xy in 2D e l'altezza dei pilastri\"\"\"\n",
    "\t\n",
    "    pillars = PROD([xyBasePillar, zBasePillar])"
   ]
  },
  {
   "cell_type": "markdown",
   "metadata": {
    "collapsed": false
   },
   "source": [
    "<img src='img/pilastri.jpg'> "
   ]
  },
  {
   "cell_type": "markdown",
   "metadata": {},
   "source": [
    "# Porzione della funzione \"makeStruct()\" per la realizzazione delle travi di un telaio della struttura"
   ]
  },
  {
   "cell_type": "code",
   "execution_count": null,
   "metadata": {
    "collapsed": true
   },
   "outputs": [],
   "source": [
    "\"\"\"Creazione array da passare a QUOTE() per la realizzazione della coordinata x della base delle travi del telaio (l'array sarà avrà i stessi elementi dell'array utilizzato per i pilatri cambiati di segno poichè dove c'è un pilastro ci deve essere dello spazio mentre dove c'è dello spazio ci deve essere una trave)\"\"\"\n",
    "    \n",
    "    \"\"\" array for the realization of the beams \"\"\"\n",
    "\tbeamStruct = [ -x for x in pillarArray]\n",
    "\t\n",
    "\t\"\"\" x-axis of the beams \"\"\"\n",
    "\txBaseBeam = QUOTE(beamStruct)\n",
    "\n",
    "\t\"\"\" y-axis of the beams \"\"\"\n",
    "\tyBaseBeam = QUOTE([by])\n",
    "    \n",
    "\"\"\"Prodotto tra la coordinata x e la coordinata y della prima fila di travi del telaio in 2D (senza altezza)\"\"\"\n",
    "\t\n",
    "    xyBaseBeam = PROD([xBaseBeam, yBaseBeam])\n",
    "\n",
    "\"\"\"Creazione array da passare a QUOTE() per realizzare le travi (l'array conterra la distanza negativa tra le travi del telaio in modo da lasciare il giusto spazio più la lunghezza bz della singola trave)\"\"\"\n",
    "\t\n",
    "    \"\"\" array for distance between the beams \"\"\"\n",
    "\tbeamsDistance = []\n",
    "\tfor value in beamInterstoryHeights:\n",
    "\t\tbeamsDistance = beamsDistance+[-value]+[bz]\n",
    "\n",
    "\"\"\"Prodotto tra la base xy in 2D della prima fila di travi e l'altezza \"\"\"\n",
    "\t\n",
    "    beams = PROD([xyBaseBeam, QUOTE(beamsDistance)])"
   ]
  },
  {
   "cell_type": "markdown",
   "metadata": {
    "collapsed": false
   },
   "source": [
    "<img src='img/travi.jpg'> "
   ]
  },
  {
   "cell_type": "markdown",
   "metadata": {},
   "source": [
    "# Realizzazione primo telaio\n",
    "\n",
    "\"\"\" frame \"\"\"\n",
    "\tstruct = STRUCT([pillars, beams])"
   ]
  },
  {
   "cell_type": "markdown",
   "metadata": {
    "collapsed": false
   },
   "source": [
    "<img src='img/telaio.jpg'> "
   ]
  },
  {
   "cell_type": "markdown",
   "metadata": {},
   "source": [
    "# Porzione della funzione \"makeStruct()\" per la realizzazione di una fila di travi perpendicolari tra i telai della struttura"
   ]
  },
  {
   "cell_type": "code",
   "execution_count": null,
   "metadata": {
    "collapsed": true
   },
   "outputs": [],
   "source": [
    "\"\"\"Creazione array per realizzare la coordinata y della prima fila di travi tra i telai\"\"\"\n",
    "    \n",
    "    \"\"\" distance between frames \"\"\"\n",
    "\tframesDistance = []\n",
    "\tfor value in lengthPerpendicularBeams:\n",
    "\t\tframesDistance = framesDistance + [-py] + [value]\n",
    "\n",
    "\t\"\"\" creating beams between frames \"\"\"\n",
    "\tyBasePerpendicularBeams = QUOTE(framesDistance)\n",
    "\n",
    "\txBasePerpendicularBeams = QUOTE([by])\n",
    "    \n",
    "\"\"\"Prodotto tra la coordinata x e la coordinata y della prima fila di travi tra i telai per realizzare fila in 2D\"\"\"\n",
    "\t\n",
    "    xyBasePerpendicularBeams = PROD([xBasePerpendicularBeams, yBasePerpendicularBeams])\n",
    "\n",
    "\"\"\"Prodotto tra fila in 2D e altezze delle travi tra i telai\"\"\"\n",
    "\t\n",
    "    xyzBasePerpendicularBeams = PROD([xyBasePerpendicularBeams, QUOTE(beamsDistance)])\n",
    "\n",
    "\"\"\"Realizzazione prima fila di travi tra i telai\"\"\"\n",
    "\txyzStruct = STRUCT([xyzBasePerpendicularBeams])\n",
    "\n"
   ]
  },
  {
   "cell_type": "markdown",
   "metadata": {
    "collapsed": false
   },
   "source": [
    "<img src='img/traviperpendicolari.jpg'> "
   ]
  },
  {
   "cell_type": "markdown",
   "metadata": {},
   "source": [
    "# Duplicazione telaio iniziale e prima fila di travi tra i telai"
   ]
  },
  {
   "cell_type": "code",
   "execution_count": null,
   "metadata": {
    "collapsed": true
   },
   "outputs": [],
   "source": [
    "\"\"\" creating arrays for the function T() \"\"\"\n",
    "\taccumulator=0\n",
    "\tarrayBeams = []\n",
    "\n",
    "\"\"\"Creazione array per passare le corrette distanze alla funzione T() per la duplicazione del telaio\"\"\"\n",
    "\tfor value in lengthPerpendicularBeams:\n",
    "\t\taccumulator = accumulator+value\n",
    "\t\tarrayBeams=arrayBeams+[accumulator]\n",
    "        \n",
    "\"\"\"Creazione array per passare le corrette distanze alla funzione T() per la duplicazione delle travi perpendicolari\"\"\"\n",
    "\taccumulator = 0\n",
    "\tarrayPillar = []\n",
    "\tfor value in pillarDistances:\n",
    "\t\taccumulator = accumulator+value\n",
    "\t\tarrayPillar=arrayPillar+[accumulator]\n",
    "\n",
    "\"\"\"Duplicazione telaio (la distanza è uguale alla lunghezza della trave perpendicolare più py per ogni pilastro precedente)\"\"\"\n",
    "\t\"\"\" duplication frames and perpendicular beams \"\"\"\n",
    "\tdist=py\n",
    "\tstructFrames=struct\n",
    "\tfor value in arrayBeams:\n",
    "\t\tstructFrames = STRUCT([structFrames, T(2)(value+dist), struct])\n",
    "\t\tdist+=py\n",
    "\"\"\"Duplicazione travi perpendicolari (la distanza è uguale alla lunghezza della trave perpendicolare più px per ogni pilastro precedente)\"\"\"\n",
    "\tdist=px\n",
    "\tstructBeams= xyzStruct\n",
    "\tfor value in arrayPillar:\n",
    "\t\tstructBeams = STRUCT([structBeams, T(1)(value+dist), xyzStruct])\n",
    "\t\tdist+=px\n",
    "\n",
    "\"\"\"Realizzazione della struttura finale attraverso l'unione delle strutture duplicate\"\"\"\n",
    "\t\"\"\" merge duplicate structures \"\"\"\n",
    "\tfinalStruct =  STRUCT([structFrames, structBeams])"
   ]
  },
  {
   "cell_type": "markdown",
   "metadata": {
    "collapsed": false
   },
   "source": [
    "<img src='img/duplicazionetelai.jpg'>"
   ]
  },
  {
   "cell_type": "markdown",
   "metadata": {
    "collapsed": false
   },
   "source": [
    "<img src='img/traviduplicate.jpg'>"
   ]
  },
  {
   "cell_type": "markdown",
   "metadata": {
    "collapsed": false
   },
   "source": [
    "<img src='img/strutturafinale.jpg'>"
   ]
  },
  {
   "cell_type": "markdown",
   "metadata": {},
   "source": [
    "# Funzione completa:"
   ]
  },
  {
   "cell_type": "code",
   "execution_count": null,
   "metadata": {
    "collapsed": true
   },
   "outputs": [],
   "source": [
    "\n",
    "from larlib import * \n",
    "\n",
    "import csv\n",
    "import sys\n",
    "\n",
    "def ggpl_bone_structure(file_name):\n",
    "\t\n",
    "\tlengthPerpendicularBeams = []\n",
    "\t\"\"\" open csv file \"\"\"\n",
    "\twith open(file_name, 'rb') as csvFile:\n",
    "\t\treader = csv.reader(csvFile)\n",
    "\t\ti=0\n",
    "\t\tfor row in reader:\n",
    "\t\t\tif i%2==1:\n",
    "\t\t\t\tlengthPerpendicularBeams = lengthPerpendicularBeams + [float(row[0])]\n",
    "\t\t\t\ti=i+1\n",
    "\t\t\telif i%2==0:\n",
    "\t\t\t\t(px,py)=(float(row[0]),float(row[1]))\n",
    "\t\t\t\tpillarDistances = []\n",
    "\t\t\t\tj=3\n",
    "\t\t\t\twhile row[j]!=\"]\":\n",
    "\t\t\t\t\tpillarDistances.append(float(row[j]))\n",
    "\t\t\t\t\tj=j+1\n",
    "\t\t\t\t(by,bz)= (float(row[j+1]),float(row[j+2]))\n",
    "\t\t\t\tj= j+4\n",
    "\t\t\t\tbeamInterstoryHeights = []\n",
    "\t\t\t\twhile row[j]!=\"]\":\n",
    "\t\t\t\t\tbeamInterstoryHeights.append(float(row[j]))\n",
    "\t\t\t\t\tj=j+1\t\n",
    "\t\t\t\ti=i+1\n",
    "\n",
    "\treturn makeStruct((px,py), pillarDistances, (by,bz), beamInterstoryHeights, lengthPerpendicularBeams)\n",
    "\n",
    "def makeStruct((px,py),pillarDistances,(by,bz), beamInterstoryHeights, lengthPerpendicularBeams):\n",
    "\n",
    "\t\"\"\" array for the pillar foundations \"\"\"\n",
    "\tpillarArray = [px]\n",
    "\tfor value in pillarDistances:\n",
    "\t\tpillarArray = pillarArray+[-value]+[px]\n",
    "\t\n",
    "\t\"\"\" x-axis of the pillar \"\"\"\n",
    "\txBasePillar = QUOTE(pillarArray)\n",
    "\t\n",
    "\t\"\"\" y-axis of the pillar \"\"\"\n",
    "\tyBasePillar = QUOTE([py])\n",
    "\n",
    "\txyBasePillar = PROD([xBasePillar, yBasePillar])\n",
    "\n",
    "\t\"\"\" array for the z-axis of the pillar \"\"\"\n",
    "\theightsPillar = []\n",
    "\tfor value in beamInterstoryHeights:\n",
    "\t\theightsPillar = heightsPillar+[value+bz]\n",
    "\t\n",
    "\t\"\"\" z-axis of the pillar \"\"\"\n",
    "\tzBasePillar = QUOTE(heightsPillar)\n",
    "\n",
    "\tpillars = PROD([xyBasePillar, zBasePillar])\n",
    "\n",
    "\t\"\"\" array for the realization of the beams \"\"\"\n",
    "\tbeamStruct = [ -x for x in pillarArray]\n",
    "\t\n",
    "\t\"\"\" x-axis of the beams \"\"\"\n",
    "\txBaseBeam = QUOTE(beamStruct)\n",
    "\n",
    "\t\"\"\" y-axis of the beams \"\"\"\n",
    "\tyBaseBeam = QUOTE([by])\n",
    "\n",
    "\txyBaseBeam = PROD([xBaseBeam, yBaseBeam])\n",
    "\n",
    "\t\"\"\" array for distance between the beams \"\"\"\n",
    "\tbeamsDistance = []\n",
    "\tfor value in beamInterstoryHeights:\n",
    "\t\tbeamsDistance = beamsDistance+[-value]+[bz]\n",
    "\n",
    "\tbeams = PROD([xyBaseBeam, QUOTE(beamsDistance)])\n",
    "\n",
    "\t\"\"\" frame \"\"\"\n",
    "\tstruct = STRUCT([pillars, beams])\n",
    "\t\n",
    "\t\"\"\" distance between frames \"\"\"\n",
    "\tframesDistance = []\n",
    "\tfor value in lengthPerpendicularBeams:\n",
    "\t\tframesDistance = framesDistance + [-py] + [value]\n",
    "\n",
    "\t\"\"\" creating beams between frames \"\"\"\n",
    "\tyBasePerpendicularBeams = QUOTE(framesDistance)\n",
    "\n",
    "\txBasePerpendicularBeams = QUOTE([by])\n",
    "\n",
    "\txyBasePerpendicularBeams = PROD([xBasePerpendicularBeams, yBasePerpendicularBeams])\n",
    "\n",
    "\txyzBasePerpendicularBeams = PROD([xyBasePerpendicularBeams, QUOTE(beamsDistance)])\n",
    "\n",
    "\txyzStruct = STRUCT([xyzBasePerpendicularBeams])\n",
    "\n",
    "\tVIEW(xyzStruct)\n",
    "\t\n",
    "\t\"\"\" creating arrays for the function T() \"\"\"\n",
    "\taccumulator=0\n",
    "\tarrayBeams = []\n",
    "\n",
    "\tfor value in lengthPerpendicularBeams:\n",
    "\t\taccumulator = accumulator+value\n",
    "\t\tarrayBeams=arrayBeams+[accumulator]\n",
    "\n",
    "\taccumulator = 0\n",
    "\tarrayPillar = []\n",
    "\tfor value in pillarDistances:\n",
    "\t\taccumulator = accumulator+value\n",
    "\t\tarrayPillar=arrayPillar+[accumulator]\n",
    "\n",
    "\t\"\"\" duplication frames and perpendicular beams \"\"\"\n",
    "\tdist=py\n",
    "\tstructFrames=struct\n",
    "\tfor value in arrayBeams:\n",
    "\t\tstructFrames = STRUCT([structFrames, T(2)(value+dist), struct])\n",
    "\t\tdist+=py\n",
    "\n",
    "\tdist=px\n",
    "\tstructBeams= xyzStruct\n",
    "\tfor value in arrayPillar:\n",
    "\t\tstructBeams = STRUCT([structBeams, T(1)(value+dist), xyzStruct])\n",
    "\t\tdist+=px\n",
    "\n",
    "\tVIEW(STRUCT([structBeams]))\n",
    "\tVIEW(STRUCT([structFrames]))\n",
    "\t\"\"\" merge duplicate structures \"\"\"\n",
    "\tfinalStruct =  STRUCT([structFrames, structBeams])\n",
    "\n",
    "\treturn finalStruct\n",
    "\n",
    "def main():\n",
    "\t\n",
    "    VIEW(ggpl_bone_structure('frame_data_456893.csv'))\n",
    "\n",
    "if __name__=='__main__':\n",
    "\t\n",
    "    main()"
   ]
  }
 ],
 "metadata": {
  "anaconda-cloud": {},
  "kernelspec": {
   "display_name": "Python [default]",
   "language": "python",
   "name": "python2"
  },
  "language_info": {
   "codemirror_mode": {
    "name": "ipython",
    "version": 2
   },
   "file_extension": ".py",
   "mimetype": "text/x-python",
   "name": "python",
   "nbconvert_exporter": "python",
   "pygments_lexer": "ipython2",
   "version": "2.7.12"
  }
 },
 "nbformat": 4,
 "nbformat_minor": 1
}
