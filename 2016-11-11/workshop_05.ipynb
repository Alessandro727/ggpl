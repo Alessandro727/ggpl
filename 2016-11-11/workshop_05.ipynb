{
 "cells": [
  {
   "cell_type": "markdown",
   "metadata": {},
   "source": [
    "# Modeling the furnishings of high schools"
   ]
  },
  {
   "cell_type": "markdown",
   "metadata": {},
   "source": [
    "#### Within this code several functions have been defined, one for each model HPC. Finally they were included in a single room to recreate a classroom. The objects involved are the following:"
   ]
  },
  {
   "cell_type": "markdown",
   "metadata": {},
   "source": [
    "### 1) Chair"
   ]
  },
  {
   "cell_type": "markdown",
   "metadata": {},
   "source": [
    "<img src='chair.JPG'>"
   ]
  },
  {
   "cell_type": "markdown",
   "metadata": {},
   "source": [
    "<img src='chair2.jpg'>"
   ]
  },
  {
   "cell_type": "code",
   "execution_count": null,
   "metadata": {
    "collapsed": true
   },
   "outputs": [],
   "source": [
    "def make_chair(dx,dy,dz):\n",
    "\t# This function is used to build a chair\n",
    "\tr = 0.025\n",
    "\tchair = []\n",
    "\tchairLeg = COLOR(GRAY)(CYLINDER([r,3*dz/4.0])(30))\n",
    "\tchair.append(chairLeg)\n",
    "\tchair.append(STRUCT([T([1,2,3])([dx,0,0]),COLOR(GRAY)(CYLINDER([r,3*dz/4.0])(30))]))\n",
    "\tchair.append(STRUCT([T([1,2,3])([0,dy,0]),COLOR(GRAY)(CYLINDER([r,dz/2.0])(30))]))\n",
    "\tchair.append(STRUCT([T([1,2,3])([dx,dy,0]),COLOR(GRAY)(CYLINDER([r,dz/2.0])(30))]))\n",
    "\tchair.append(STRUCT([T([1,2,3])([-r,-r,dz/2.0]),COLOR(Color4f([227/255.0,171/255.0,115/255.0,1.0]))(CUBOID([dx+2*r,dy+2*r,0.02]))]))\n",
    "\tchair.append(STRUCT([T([1,2,3])([-r,-r,3*dz/4.0]),COLOR(Color4f([227/255.0,171/255.0,115/255.0,1.0]))(CUBOID([dx+2*r,2*r,dz/4.0]))]))\n",
    "\treturn STRUCT([STRUCT(chair)])"
   ]
  },
  {
   "cell_type": "markdown",
   "metadata": {},
   "source": [
    "### 2) Blackboard"
   ]
  },
  {
   "cell_type": "markdown",
   "metadata": {},
   "source": [
    "<img src='blackboard.JPG'>"
   ]
  },
  {
   "cell_type": "markdown",
   "metadata": {},
   "source": [
    "<img src='blackboard2.jpg'>"
   ]
  },
  {
   "cell_type": "code",
   "execution_count": null,
   "metadata": {
    "collapsed": true
   },
   "outputs": [],
   "source": [
    "def make_blackboard(dx,dy,dz):\n",
    "\t# This function is used to build a blackboard\n",
    "\tblackboard = CUBOID([dx,dy,dz])\n",
    "\tskel1 = SKEL_1(blackboard)\n",
    "\tskel1=(OFFSET([.05,.05,.05])(skel1))\n",
    "\treturn STRUCT([skel1,COLOR(BLACK)(blackboard)])"
   ]
  },
  {
   "cell_type": "markdown",
   "metadata": {},
   "source": [
    "### 2) Desk"
   ]
  },
  {
   "cell_type": "markdown",
   "metadata": {},
   "source": [
    "<img src='desk.jpg'>"
   ]
  },
  {
   "cell_type": "markdown",
   "metadata": {},
   "source": [
    "<img src='desk2.jpg'>"
   ]
  },
  {
   "cell_type": "code",
   "execution_count": null,
   "metadata": {
    "collapsed": true
   },
   "outputs": [],
   "source": [
    "def make_desk(dx,dy,dz):\n",
    "\t# This function is used to build a desk\n",
    "\tr = 0.025\n",
    "\tdesk = []\n",
    "\tdeskLeg = COLOR(GRAY)(CYLINDER([r,dz])(30))\n",
    "\tdesk.append(deskLeg)\n",
    "\tdesk.append(STRUCT([T([1,2,3])([dx,0,0]),COLOR(GRAY)(deskLeg)]))\n",
    "\tdesk.append(STRUCT([(T([1,2,3]))([0,dy,0]),COLOR(GRAY)(deskLeg)]))\n",
    "\tdesk.append(STRUCT([(T([1,2,3]))([dx,dy,0]),COLOR(GRAY)(deskLeg)]))\n",
    "\tdesk.append(STRUCT([(T([1,2,3]))([-r,-r,dz]),COLOR(Color4f([3/255.0,229/255.0,121/255.0,1.0]))(CUBOID([dx+2*r,dy+2*r,0.02]))]))\n",
    "\tdesk.append(STRUCT([(T([1,2,3]))([0,0,dz-0.15]),COLOR(Color4f([202/255.0,135/255.0,53/255.0,1.0]))(CUBOID([dx,dy,0.01]))]))\n",
    "\tdesk.append(STRUCT([(T([1,2,3]))([0,0,dz-0.15]),COLOR(Color4f([202/255.0,135/255.0,53/255.0,1.0]))(CUBOID([0.01,dy,0.1]))]))\n",
    "\tdesk.append(STRUCT([(T([1,2,3]))([dx,0,dz-0.15]),COLOR(Color4f([202/255.0,135/255.0,53/255.0,1.0]))(CUBOID([0.01,dy,0.1]))]))\n",
    "\tdesk.append(STRUCT([(T([1,2,3]))([0,dy,dz-0.15]),COLOR(Color4f([202/255.0,135/255.0,53/255.0,1.0]))(CUBOID([dx,0.01,0.1]))]))\n",
    "\treturn STRUCT([STRUCT(desk)])"
   ]
  },
  {
   "cell_type": "markdown",
   "metadata": {},
   "source": [
    "### 3) Desk with two chairs"
   ]
  },
  {
   "cell_type": "markdown",
   "metadata": {},
   "source": [
    "<img src='deskwithchairs.jpg'>"
   ]
  },
  {
   "cell_type": "markdown",
   "metadata": {},
   "source": [
    "<img src='deskwithchairs2.jpg'>"
   ]
  },
  {
   "cell_type": "code",
   "execution_count": null,
   "metadata": {
    "collapsed": true
   },
   "outputs": [],
   "source": [
    "def make_desk_chair(dx,dy,dz):\n",
    "\t#this function is used to build a desk whit two chairs\n",
    "\tdeskChairs = []\n",
    "\tdeskChairs.append(STRUCT([T([1,2,3])([0,0.15,0]),make_desk(dx,dy,dz-0.15)]))\n",
    "\tdeskChairs.append(STRUCT([T([1,2,3])([(dx-2*(dx/3.30)-0.15)/2,0,0]),(make_chair(dx/3.30,2*dy/3.0,dz))]))\n",
    "\tdeskChairs.append(STRUCT([T([1,2,3])([(dx-2*(dx/3.30)-0.15)/2+dx/3.30+0.15,0,0]),(make_chair(dx/3.30,2*dy/3.0,dz))]))\n",
    "\treturn STRUCT(deskChairs)"
   ]
  },
  {
   "cell_type": "markdown",
   "metadata": {},
   "source": [
    "### 4) Teaching Post"
   ]
  },
  {
   "cell_type": "markdown",
   "metadata": {},
   "source": [
    "<img src='teachingpost.jpg'>"
   ]
  },
  {
   "cell_type": "markdown",
   "metadata": {},
   "source": [
    "<img src='teachingpost2.jpg'>"
   ]
  },
  {
   "cell_type": "code",
   "execution_count": null,
   "metadata": {
    "collapsed": true
   },
   "outputs": [],
   "source": [
    "def make_teaching_post(dx,dy,dz):\n",
    "\t#This function is used to build a teaching post\n",
    "\tr = 0.025\n",
    "\tdesk = []\n",
    "\tdeskLeg = COLOR(GRAY)(CYLINDER([r,dz])(30))\n",
    "\tdesk.append(deskLeg)\n",
    "\tdesk.append(STRUCT([T([1,2,3])([dx,0,0]),COLOR(GRAY)(deskLeg)]))\n",
    "\tdesk.append(STRUCT([(T([1,2,3]))([0,dy,0]),COLOR(GRAY)(deskLeg)]))\n",
    "\tdesk.append(STRUCT([(T([1,2,3]))([dx,dy,0]),COLOR(GRAY)(deskLeg)]))\n",
    "\tdesk.append(STRUCT([(T([1,2,3]))([-r,-r,dz]),COLOR(Color4f([202/255.0,135/255.0,53/255.0,1.0]))(CUBOID([dx+2*r,dy+2*r,0.02]))]))\n",
    "\tdesk.append(STRUCT([(T([1,2,3]))([0,0,dz-0.15]),COLOR(Color4f([202/255.0,135/255.0,53/255.0,1.0]))(CUBOID([0.01,dy,-dz+0.4]))]))\n",
    "\tdesk.append(STRUCT([(T([1,2,3]))([dx,0,dz-0.15]),COLOR(Color4f([202/255.0,135/255.0,53/255.0,1.0]))(CUBOID([0.01,dy,-dz+0.4]))]))\n",
    "\tdesk.append(STRUCT([(T([1,2,3]))([0,dy,dz]),COLOR(Color4f([202/255.0,135/255.0,53/255.0,1.0]))(CUBOID([dx,0.01,-dz+0.2]))]))\n",
    "\tdesk = STRUCT(desk)\n",
    "\tdesk = T(2)(0.15)(desk)\n",
    "\tchair = make_chair(0.7,0.8,1.3)\n",
    "\tdesk = STRUCT([desk,T([1,2,3])([(dx/2)-(0.35)]),(chair)])\n",
    "\treturn desk"
   ]
  },
  {
   "cell_type": "markdown",
   "metadata": {},
   "source": [
    "### 4) Floor "
   ]
  },
  {
   "cell_type": "markdown",
   "metadata": {},
   "source": [
    "<img src='floor.jpg'>"
   ]
  },
  {
   "cell_type": "markdown",
   "metadata": {},
   "source": [
    "<img src='floor2.jpg'>"
   ]
  },
  {
   "cell_type": "code",
   "execution_count": null,
   "metadata": {
    "collapsed": true
   },
   "outputs": [],
   "source": [
    "def make_floor(dx,dy,dz):\n",
    "\t# This function is used to build a floor\n",
    "\ttile = (CUBOID([.3,.3,0]))\n",
    "\tskel1 = SKEL_1(tile)\n",
    "\tskel1=COLOR(BLACK)(OFFSET([.005,.005,.005])(skel1))\n",
    "\ttile = STRUCT([skel1,COLOR(Color4f([210/255.0,246/255.0,249/255.0,1.0]))(tile)])\n",
    "\tfloorX = tile\n",
    "\tx = 0.3\n",
    "\twhile dx-x>=0.3:\n",
    "\t\tfloorX = STRUCT([floorX,T(1)(x),tile])\n",
    "\t\tx += 0.3\n",
    "\tif dx-x!=0:\n",
    "\t\tfinalTile = COLOR(Color4f([210/255.0,246/255.0,249/255.0,1.0]))(CUBOID([dx-x,0.3,0]))\n",
    "\t\tfinalSkel = SKEL_1(finalTile)\n",
    "\t\tskel1=COLOR(BLACK)(OFFSET([.01,.01,.01])(finalSkel))\n",
    "\t\tfinalTile = STRUCT([skel1,finalTile])\n",
    "\t\tfloorX = STRUCT([floorX,T(1)(x),finalTile])\n",
    "\ty=.3\n",
    "\tfloor = floorX\n",
    "\twhile dy-y>=0.3:\n",
    "\t\tfloor = STRUCT([floor,T(2)(y),floorX])\n",
    "\t\ty += 0.3\n",
    "\tif dy-y!=0:\n",
    "\t\tfloorY = COLOR(Color4f([210/255.0,246/255.0,249/255.0,1.0]))(CUBOID([.3,dy-y,0]))\n",
    "\t\tskel1 = SKEL_1(floorY)\n",
    "\t\tskel1=COLOR(BLACK)(OFFSET([.01,.01,.01])(skel1))\n",
    "\t\tfloorY = STRUCT([skel1,floorY])\n",
    "\t\tx = 0.3\n",
    "\t\twhile dx-x>=0.3:\n",
    "\t\t\tfloor = STRUCT([floor,T(1)(x),floorY])\n",
    "\t\t\tx += 0.3\n",
    "\treturn floor"
   ]
  },
  {
   "cell_type": "markdown",
   "metadata": {},
   "source": [
    "### 5) Bookcase"
   ]
  },
  {
   "cell_type": "markdown",
   "metadata": {},
   "source": [
    "<img src='bookcase.jpg'>"
   ]
  },
  {
   "cell_type": "markdown",
   "metadata": {},
   "source": [
    "<img src='bookcase2.jpg'>"
   ]
  },
  {
   "cell_type": "code",
   "execution_count": null,
   "metadata": {
    "collapsed": true
   },
   "outputs": [],
   "source": [
    "def make_bookcase(dx,dy,dz): \n",
    "\t# This function is used to build a bookcase\n",
    "\tpanel = COLOR(Color4f([195/255.0,125/255.0,17/255.0,1.0]))(CUBOID([0.1,dy,dz]))\n",
    "\tbookcase = STRUCT([panel,T(1)(dx-0.1),panel])\n",
    "\tpanel2 = COLOR(Color4f([195/255.0,125/255.0,17/255.0,1.0]))(CUBOID([dx,dy,0.1]))\n",
    "\tbookcase = STRUCT([bookcase,T(3)(dz/3.0),panel2])\n",
    "\tbookcase = STRUCT([bookcase,T(3)(2*dz/3.0),panel2])\n",
    "\tbookcase = STRUCT([bookcase,T(3)(dz),panel2])\n",
    "\tbook = COLOR(RED)(CUBOID([0.05,0.14,0.22]))\n",
    "\tbook2 = COLOR(YELLOW)(CUBOID([0.05,0.14,0.22]))\n",
    "\tbook3 = COLOR(GREEN)(CUBOID([0.05,0.14,0.28]))\n",
    "\tbook4 = COLOR(MAGENTA)(CUBOID([0.05,0.14,0.25]))\n",
    "\tbook5 = COLOR(BLUE)(CUBOID([0.06,0.14,0.22]))\n",
    "\tbook6 = COLOR(GREEN)(CUBOID([0.03,0.14,0.22]))\n",
    "\tbook7 = COLOR(Color4f([210/255.0,246/255.0,249/255.0,1.0]))(CUBOID([0.05,0.14,0.22]))\n",
    "\tbook8 = COLOR(Color4f([167/255.0,89/255.0,105/255.0,1.0]))(CUBOID([0.05,0.14,0.22]))\n",
    "\tbookcase = STRUCT([bookcase,T([1,2,3])([0.1,dy-0.14,dz/3.0+0.1]),book])\n",
    "\tbookcase = STRUCT([bookcase,T([1,2,3])([0.1+0.05,dy-0.14,dz/3.0+0.1]),book2])\n",
    "\tbookcase = STRUCT([bookcase,T([1,2,3])([0.1+0.05+0.05,dy-0.14,dz/3.0+0.1]),book3])\n",
    "\tbookcase = STRUCT([bookcase,T([1,2,3])([0.1+0.05+0.05+0.10,dy-0.14,dz/3.0+0.1]),book4])\n",
    "\tbookcase = STRUCT([bookcase,T([1,2,3])([0.1+0.05+0.05+0.10+0.06,dy-0.14,dz/3.0+0.1]),book5])\n",
    "\tbookcase = STRUCT([bookcase,T([1,2,3])([0.1+0.05+0.05+0.10+0.06+0.03,dy-0.14,dz/3.0+0.1]),book6])\n",
    "\tbookcase = STRUCT([bookcase,T([1,2,3])([0.1+0.05+0.05+0.10+0.06+0.03+0.05,dy-0.14,dz/3.0+0.1]),book7])\n",
    "\tbookcase = STRUCT([bookcase,T([1,2,3])([0.1+0.05+0.05+0.10+0.06+0.03+0.05+0.05,dy-0.14,dz/3.0+0.1]),book8])\n",
    "\tbookcase = STRUCT([bookcase,T([1,2,3])([0.1,dy-0.14,2*dz/3.0+0.1]),book4])\n",
    "\tbookcase = STRUCT([bookcase,T([1,2,3])([0.1+0.05,dy-0.14,2*dz/3.0+0.1]),book8])\n",
    "\tbookcase = STRUCT([bookcase,T([1,2,3])([0.1+0.05+0.05,dy-0.14,2*dz/3.0+0.1]),book2])\n",
    "\tbookcase = STRUCT([bookcase,T([1,2,3])([0.1+0.05+0.05+0.10,dy-0.14,2*dz/3.0+0.1]),book7])\n",
    "\tbookcase = STRUCT([bookcase,T([1,2,3])([0.1+0.05+0.05+0.10+0.06,dy-0.14,2*dz/3.0+0.1]),book])\n",
    "\tbookcase = STRUCT([bookcase,T([1,2,3])([0.1+0.05+0.05+0.10+0.06+0.03,dy-0.14,2*dz/3.0+0.1]),book3])\n",
    "\tbookcase = STRUCT([bookcase,T([1,2,3])([0.1+0.05+0.05+0.10+0.06+0.03+0.05,dy-0.14,2*dz/3.0+0.1]),book5])\n",
    "\tbookcase = STRUCT([bookcase,T([1,2,3])([0.1+0.05+0.05+0.10+0.06+0.03+0.05+0.05,dy-0.14,2*dz/3.0+0.1]),book6])\n",
    "\treturn bookcase"
   ]
  },
  {
   "cell_type": "markdown",
   "metadata": {},
   "source": [
    "### 6) Classroom"
   ]
  },
  {
   "cell_type": "markdown",
   "metadata": {},
   "source": [
    "<img src='classroom.jpg'>"
   ]
  },
  {
   "cell_type": "markdown",
   "metadata": {},
   "source": [
    "<img src='classroom2.jpg'>"
   ]
  },
  {
   "cell_type": "markdown",
   "metadata": {},
   "source": [
    "# Complete Code"
   ]
  },
  {
   "cell_type": "code",
   "execution_count": null,
   "metadata": {
    "collapsed": true
   },
   "outputs": [],
   "source": [
    "from larlib import *\n",
    "\n",
    "def make_blackboard(dx,dy,dz):\n",
    "\t# This function is used to build a blackboard\n",
    "\tblackboard = CUBOID([dx,dy,dz])\n",
    "\tskel1 = SKEL_1(blackboard)\n",
    "\tskel1=(OFFSET([.05,.05,.05])(skel1))\n",
    "\treturn STRUCT([skel1,COLOR(BLACK)(blackboard)])\n",
    "\n",
    "def make_chair(dx,dy,dz):\n",
    "\t# This function is used to build a chair\n",
    "\tr = 0.025\n",
    "\tchair = []\n",
    "\tchairLeg = COLOR(GRAY)(CYLINDER([r,3*dz/4.0])(30))\n",
    "\tchair.append(chairLeg)\n",
    "\tchair.append(STRUCT([T([1,2,3])([dx,0,0]),COLOR(GRAY)(CYLINDER([r,3*dz/4.0])(30))]))\n",
    "\tchair.append(STRUCT([T([1,2,3])([0,dy,0]),COLOR(GRAY)(CYLINDER([r,dz/2.0])(30))]))\n",
    "\tchair.append(STRUCT([T([1,2,3])([dx,dy,0]),COLOR(GRAY)(CYLINDER([r,dz/2.0])(30))]))\n",
    "\tchair.append(STRUCT([T([1,2,3])([-r,-r,dz/2.0]),COLOR(Color4f([227/255.0,171/255.0,115/255.0,1.0]))(CUBOID([dx+2*r,dy+2*r,0.02]))]))\n",
    "\tchair.append(STRUCT([T([1,2,3])([-r,-r,3*dz/4.0]),COLOR(Color4f([227/255.0,171/255.0,115/255.0,1.0]))(CUBOID([dx+2*r,2*r,dz/4.0]))]))\n",
    "\treturn STRUCT([STRUCT(chair)])\n",
    "\n",
    "\n",
    "def make_desk(dx,dy,dz):\n",
    "\t# This function is used to build a desk\n",
    "\tr = 0.025\n",
    "\tdesk = []\n",
    "\tdeskLeg = COLOR(GRAY)(CYLINDER([r,dz])(30))\n",
    "\tdesk.append(deskLeg)\n",
    "\tdesk.append(STRUCT([T([1,2,3])([dx,0,0]),COLOR(GRAY)(deskLeg)]))\n",
    "\tdesk.append(STRUCT([(T([1,2,3]))([0,dy,0]),COLOR(GRAY)(deskLeg)]))\n",
    "\tdesk.append(STRUCT([(T([1,2,3]))([dx,dy,0]),COLOR(GRAY)(deskLeg)]))\n",
    "\tdesk.append(STRUCT([(T([1,2,3]))([-r,-r,dz]),COLOR(Color4f([3/255.0,229/255.0,121/255.0,1.0]))(CUBOID([dx+2*r,dy+2*r,0.02]))]))\n",
    "\tdesk.append(STRUCT([(T([1,2,3]))([0,0,dz-0.15]),COLOR(Color4f([202/255.0,135/255.0,53/255.0,1.0]))(CUBOID([dx,dy,0.01]))]))\n",
    "\tdesk.append(STRUCT([(T([1,2,3]))([0,0,dz-0.15]),COLOR(Color4f([202/255.0,135/255.0,53/255.0,1.0]))(CUBOID([0.01,dy,0.1]))]))\n",
    "\tdesk.append(STRUCT([(T([1,2,3]))([dx,0,dz-0.15]),COLOR(Color4f([202/255.0,135/255.0,53/255.0,1.0]))(CUBOID([0.01,dy,0.1]))]))\n",
    "\tdesk.append(STRUCT([(T([1,2,3]))([0,dy,dz-0.15]),COLOR(Color4f([202/255.0,135/255.0,53/255.0,1.0]))(CUBOID([dx,0.01,0.1]))]))\n",
    "\treturn STRUCT([STRUCT(desk)])\n",
    "\n",
    "def make_desk_chair(dx,dy,dz):\n",
    "\t#this function is used to build a desk whit two chairs\n",
    "\tdeskChairs = []\n",
    "\tdeskChairs.append(STRUCT([T([1,2,3])([0,0.15,0]),make_desk(dx,dy,dz-0.15)]))\n",
    "\tdeskChairs.append(STRUCT([T([1,2,3])([(dx-2*(dx/3.30)-0.15)/2,0,0]),(make_chair(dx/3.30,2*dy/3.0,dz))]))\n",
    "\tdeskChairs.append(STRUCT([T([1,2,3])([(dx-2*(dx/3.30)-0.15)/2+dx/3.30+0.15,0,0]),(make_chair(dx/3.30,2*dy/3.0,dz))]))\n",
    "\treturn STRUCT(deskChairs)\n",
    "\n",
    "def make_teaching_post(dx,dy,dz):\n",
    "\t#This function is used to build a teaching post\n",
    "\tr = 0.025\n",
    "\tdesk = []\n",
    "\tdeskLeg = COLOR(GRAY)(CYLINDER([r,dz])(30))\n",
    "\tdesk.append(deskLeg)\n",
    "\tdesk.append(STRUCT([T([1,2,3])([dx,0,0]),COLOR(GRAY)(deskLeg)]))\n",
    "\tdesk.append(STRUCT([(T([1,2,3]))([0,dy,0]),COLOR(GRAY)(deskLeg)]))\n",
    "\tdesk.append(STRUCT([(T([1,2,3]))([dx,dy,0]),COLOR(GRAY)(deskLeg)]))\n",
    "\tdesk.append(STRUCT([(T([1,2,3]))([-r,-r,dz]),COLOR(Color4f([202/255.0,135/255.0,53/255.0,1.0]))(CUBOID([dx+2*r,dy+2*r,0.02]))]))\n",
    "\tdesk.append(STRUCT([(T([1,2,3]))([0,0,dz-0.15]),COLOR(Color4f([202/255.0,135/255.0,53/255.0,1.0]))(CUBOID([0.01,dy,-dz+0.4]))]))\n",
    "\tdesk.append(STRUCT([(T([1,2,3]))([dx,0,dz-0.15]),COLOR(Color4f([202/255.0,135/255.0,53/255.0,1.0]))(CUBOID([0.01,dy,-dz+0.4]))]))\n",
    "\tdesk.append(STRUCT([(T([1,2,3]))([0,dy,dz]),COLOR(Color4f([202/255.0,135/255.0,53/255.0,1.0]))(CUBOID([dx,0.01,-dz+0.2]))]))\n",
    "\tdesk = STRUCT(desk)\n",
    "\tdesk = T(2)(0.15)(desk)\n",
    "\tchair = make_chair(0.7,0.8,1.3)\n",
    "\tdesk = STRUCT([desk,T([1,2,3])([(dx/2)-(0.35)]),(chair)])\n",
    "\treturn desk\n",
    "\t\n",
    "def make_floor(dx,dy,dz):\n",
    "\t# This function is used to build a floor\n",
    "\ttile = (CUBOID([.3,.3,0]))\n",
    "\tskel1 = SKEL_1(tile)\n",
    "\tskel1=COLOR(BLACK)(OFFSET([.005,.005,.005])(skel1))\n",
    "\ttile = STRUCT([skel1,COLOR(Color4f([210/255.0,246/255.0,249/255.0,1.0]))(tile)])\n",
    "\tfloorX = tile\n",
    "\tx = 0.3\n",
    "\twhile dx-x>=0.3:\n",
    "\t\tfloorX = STRUCT([floorX,T(1)(x),tile])\n",
    "\t\tx += 0.3\n",
    "\tif dx-x!=0:\n",
    "\t\tfinalTile = COLOR(Color4f([210/255.0,246/255.0,249/255.0,1.0]))(CUBOID([dx-x,0.3,0]))\n",
    "\t\tfinalSkel = SKEL_1(finalTile)\n",
    "\t\tskel1=COLOR(BLACK)(OFFSET([.01,.01,.01])(finalSkel))\n",
    "\t\tfinalTile = STRUCT([skel1,finalTile])\n",
    "\t\tfloorX = STRUCT([floorX,T(1)(x),finalTile])\n",
    "\ty=.3\n",
    "\tfloor = floorX\n",
    "\twhile dy-y>=0.3:\n",
    "\t\tfloor = STRUCT([floor,T(2)(y),floorX])\n",
    "\t\ty += 0.3\n",
    "\tif dy-y!=0:\n",
    "\t\tfloorY = COLOR(Color4f([210/255.0,246/255.0,249/255.0,1.0]))(CUBOID([.3,dy-y,0]))\n",
    "\t\tskel1 = SKEL_1(floorY)\n",
    "\t\tskel1=COLOR(BLACK)(OFFSET([.01,.01,.01])(skel1))\n",
    "\t\tfloorY = STRUCT([skel1,floorY])\n",
    "\t\tx = 0.3\n",
    "\t\twhile dx-x>=0.3:\n",
    "\t\t\tfloor = STRUCT([floor,T(1)(x),floorY])\n",
    "\t\t\tx += 0.3\n",
    "\treturn floor\n",
    "\n",
    "def make_bookcase(dx,dy,dz): \n",
    "\t# This function is used to build a bookcase\n",
    "\tpanel = COLOR(Color4f([195/255.0,125/255.0,17/255.0,1.0]))(CUBOID([0.1,dy,dz]))\n",
    "\tbookcase = STRUCT([panel,T(1)(dx-0.1),panel])\n",
    "\tpanel2 = COLOR(Color4f([195/255.0,125/255.0,17/255.0,1.0]))(CUBOID([dx,dy,0.1]))\n",
    "\tbookcase = STRUCT([bookcase,T(3)(dz/3.0),panel2])\n",
    "\tbookcase = STRUCT([bookcase,T(3)(2*dz/3.0),panel2])\n",
    "\tbookcase = STRUCT([bookcase,T(3)(dz),panel2])\n",
    "\tbook = COLOR(RED)(CUBOID([0.05,0.14,0.22]))\n",
    "\tbook2 = COLOR(YELLOW)(CUBOID([0.05,0.14,0.22]))\n",
    "\tbook3 = COLOR(GREEN)(CUBOID([0.05,0.14,0.28]))\n",
    "\tbook4 = COLOR(MAGENTA)(CUBOID([0.05,0.14,0.25]))\n",
    "\tbook5 = COLOR(BLUE)(CUBOID([0.06,0.14,0.22]))\n",
    "\tbook6 = COLOR(GREEN)(CUBOID([0.03,0.14,0.22]))\n",
    "\tbook7 = COLOR(Color4f([210/255.0,246/255.0,249/255.0,1.0]))(CUBOID([0.05,0.14,0.22]))\n",
    "\tbook8 = COLOR(Color4f([167/255.0,89/255.0,105/255.0,1.0]))(CUBOID([0.05,0.14,0.22]))\n",
    "\tbookcase = STRUCT([bookcase,T([1,2,3])([0.1,dy-0.14,dz/3.0+0.1]),book])\n",
    "\tbookcase = STRUCT([bookcase,T([1,2,3])([0.1+0.05,dy-0.14,dz/3.0+0.1]),book2])\n",
    "\tbookcase = STRUCT([bookcase,T([1,2,3])([0.1+0.05+0.05,dy-0.14,dz/3.0+0.1]),book3])\n",
    "\tbookcase = STRUCT([bookcase,T([1,2,3])([0.1+0.05+0.05+0.10,dy-0.14,dz/3.0+0.1]),book4])\n",
    "\tbookcase = STRUCT([bookcase,T([1,2,3])([0.1+0.05+0.05+0.10+0.06,dy-0.14,dz/3.0+0.1]),book5])\n",
    "\tbookcase = STRUCT([bookcase,T([1,2,3])([0.1+0.05+0.05+0.10+0.06+0.03,dy-0.14,dz/3.0+0.1]),book6])\n",
    "\tbookcase = STRUCT([bookcase,T([1,2,3])([0.1+0.05+0.05+0.10+0.06+0.03+0.05,dy-0.14,dz/3.0+0.1]),book7])\n",
    "\tbookcase = STRUCT([bookcase,T([1,2,3])([0.1+0.05+0.05+0.10+0.06+0.03+0.05+0.05,dy-0.14,dz/3.0+0.1]),book8])\n",
    "\tbookcase = STRUCT([bookcase,T([1,2,3])([0.1,dy-0.14,2*dz/3.0+0.1]),book4])\n",
    "\tbookcase = STRUCT([bookcase,T([1,2,3])([0.1+0.05,dy-0.14,2*dz/3.0+0.1]),book8])\n",
    "\tbookcase = STRUCT([bookcase,T([1,2,3])([0.1+0.05+0.05,dy-0.14,2*dz/3.0+0.1]),book2])\n",
    "\tbookcase = STRUCT([bookcase,T([1,2,3])([0.1+0.05+0.05+0.10,dy-0.14,2*dz/3.0+0.1]),book7])\n",
    "\tbookcase = STRUCT([bookcase,T([1,2,3])([0.1+0.05+0.05+0.10+0.06,dy-0.14,2*dz/3.0+0.1]),book])\n",
    "\tbookcase = STRUCT([bookcase,T([1,2,3])([0.1+0.05+0.05+0.10+0.06+0.03,dy-0.14,2*dz/3.0+0.1]),book3])\n",
    "\tbookcase = STRUCT([bookcase,T([1,2,3])([0.1+0.05+0.05+0.10+0.06+0.03+0.05,dy-0.14,2*dz/3.0+0.1]),book5])\n",
    "\tbookcase = STRUCT([bookcase,T([1,2,3])([0.1+0.05+0.05+0.10+0.06+0.03+0.05+0.05,dy-0.14,2*dz/3.0+0.1]),book6])\n",
    "\treturn bookcase\n",
    "\n",
    "\n",
    "def make_class(dx,dy,dz):\n",
    "\t# This function is to build a fully equipped classroom\n",
    "\tdeskWidth = 1.5\n",
    "\tdeskLength = 0.5\n",
    "\tawayFromTheWall = 0.5\n",
    "\tdeskRow = T([1,2])([awayFromTheWall,0.4])(make_desk_chair(deskWidth,deskLength,0.7))\n",
    "\tdistanceBetweenDesks = 0.5\n",
    "\tbox = SKEL_1(CUBOID([dx,dy,dz]))\n",
    "\tlx = deskWidth+awayFromTheWall+distanceBetweenDesks\n",
    "\twhile lx < (dx-awayFromTheWall):\n",
    "\t\tdeskRow = STRUCT([deskRow,T([1,2])([lx,0.4]),make_desk_chair(deskWidth,deskLength,0.7)])\n",
    "\t\tlx += deskWidth+distanceBetweenDesks\n",
    "\troom = deskRow \n",
    "\tly = 0\n",
    "\tawayFromTheBlackboard = 3\n",
    "\twhile ly < (dy-awayFromTheBlackboard):\n",
    "\t\troom = STRUCT([room,T(2)(ly),deskRow])\n",
    "\t\tly += deskLength+distanceBetweenDesks\n",
    "\n",
    "\tteachingPost = T(1)(2.5)(R([1,2])(PI)(make_teaching_post(2.5,0.8,0.9)))\n",
    "\tblackboard = make_blackboard(dx/2,dz/3,0)\n",
    "\tblackboard = R([2,3])(PI/2)(blackboard)\n",
    "\troom = STRUCT([room,T([1,2,3])([dx/2-1.25,dy-1.5,0]),teachingPost])\n",
    "\troom = STRUCT([room,T([1,2,3])([dx/2-dx/4,dy,dz/2-dz/6]),blackboard])\n",
    "\n",
    "\troom = STRUCT([room,make_floor(dx,dy,dz)])\n",
    "\tbookcase = make_bookcase(1,0.2,1.5)\n",
    "\tbookcase = T([1,2,3])([0.2,2.5,0])(R([1,2])(PI/2)(bookcase))\n",
    "\troom = STRUCT([room,bookcase])\n",
    "\tVIEW(STRUCT([box,room]))\n",
    "\t\n",
    "\n",
    "def main():\n",
    "\tmake_class(12,8,3.2)\n",
    "\t\n",
    "\n",
    "\t\n",
    "\t\n",
    "if __name__=='__main__':\n",
    "\tmain()\n"
   ]
  }
 ],
 "metadata": {
  "anaconda-cloud": {},
  "kernelspec": {
   "display_name": "Python [default]",
   "language": "python",
   "name": "python2"
  },
  "language_info": {
   "codemirror_mode": {
    "name": "ipython",
    "version": 2
   },
   "file_extension": ".py",
   "mimetype": "text/x-python",
   "name": "python",
   "nbconvert_exporter": "python",
   "pygments_lexer": "ipython2",
   "version": "2.7.12"
  }
 },
 "nbformat": 4,
 "nbformat_minor": 1
}
