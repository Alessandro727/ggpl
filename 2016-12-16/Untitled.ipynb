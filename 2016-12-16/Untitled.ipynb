{
 "cells": [
  {
   "cell_type": "markdown",
   "metadata": {},
   "source": [
    "# Modeling mansard roofs"
   ]
  },
  {
   "cell_type": "markdown",
   "metadata": {},
   "source": [
    "The following workshop aims to model different mansard roofs starting from a .lines file containing the measures of the final roof to achieve. An example of the type of roof which is to be realized is present in the next picture."
   ]
  },
  {
   "cell_type": "markdown",
   "metadata": {},
   "source": [
    "## Example:"
   ]
  },
  {
   "cell_type": "markdown",
   "metadata": {},
   "source": [
    "<img src='img/mansard_roof.jpg'>"
   ]
  },
  {
   "cell_type": "markdown",
   "metadata": {},
   "source": [
    "## Execution:"
   ]
  },
  {
   "cell_type": "markdown",
   "metadata": {},
   "source": [
    "To make the final roof the following steps were followed:\n",
    "\n",
    "    1)It realized the shape of the roof base through .lines file;\n",
    "    \n",
    "    2)It made the top of the roof going to resize the previous form;\n",
    "    \n",
    "    3)Calculated the centroid of both figures;\n",
    "    \n",
    "    4)Translate the forms so as to match the respective centroid;\n",
    "    \n",
    "    5)Calculated and ordered the vertex of both figures;\n",
    "    \n",
    "    6)Realized the roof pitches;\n",
    "    \n",
    "    7)Added top of the roof;"
   ]
  },
  {
   "cell_type": "markdown",
   "metadata": {},
   "source": [
    "## Support code:"
   ]
  },
  {
   "cell_type": "code",
   "execution_count": null,
   "metadata": {
    "collapsed": true
   },
   "outputs": [],
   "source": [
    "def make_unique(original_list):\n",
    "    \"\"\"Removes duplicates from a list.\n",
    "       @param original_list: startlist \"\"\"\n",
    "    unique_list = []\n",
    "    [unique_list.append(obj) for obj in original_list if obj not in unique_list]\n",
    "    return unique_list\n",
    "\n",
    "def area_of_polygon(x, y):\n",
    "    \"\"\"Calculates the signed area of an arbitrary polygon given its verticies.\n",
    "       @param x: x coordinates of the vertices\n",
    "       @param y: y coordinates of the vertices \"\"\"\n",
    "    area = 0.0\n",
    "    for i in xrange(-1, len(x) - 1):\n",
    "        area += x[i] * (y[i + 1] - y[i - 1])\n",
    "    return area / 2.0\n",
    "\n",
    "def centroid_of_polygon(points):\n",
    "    \"\"\"Calculates the centroid of an arbitrary polygon given its verticies.\n",
    "       @param points: vertices of an arbitrary polygon \"\"\"\n",
    "    area = area_of_polygon(*zip(*points))\n",
    "    result_x = 0\n",
    "    result_y = 0\n",
    "    N = len(points)\n",
    "    points = cycle(points)\n",
    "    x1, y1 = next(points)\n",
    "    for i in range(N):\n",
    "        x0, y0 = x1, y1\n",
    "        x1, y1 = next(points)\n",
    "        cross = (x0 * y1) - (x1 * y0)\n",
    "        result_x += (x0 + x1) * cross\n",
    "        result_y += (y0 + y1) * cross\n",
    "    result_x /= (area * 6.0)\n",
    "    result_y /= (area * 6.0)\n",
    "    return (result_x, result_y)\n",
    "\n",
    "def clockwise_order(points):\n",
    "    \"\"\"Order the vertices of a polygon in a clockwise direction from the first vertex in the list.\n",
    "       @param points: vertices of an arbitrary polygon \"\"\"\n",
    "\tfirstPoint = points[0]\n",
    "\tcentroid = [firstPoint[0],firstPoint[1]+0.0000001]\n",
    "\tprint centroid\n",
    "\tfirstLength = distance(centroid,firstPoint)\n",
    "\tnew_points = []\n",
    "\n",
    "\twhile len(points)>0:\n",
    "\t\tcos = 400\n",
    "\t\tfor j in range(len(points)):\n",
    "\t\t\tcos2 = find_angle(points[j],centroid)\n",
    "\t\t\t\n",
    "\t\t\tif cos2 < cos:\n",
    "\t\t\t\tcos = cos2\n",
    "\t\t\t\tnew_add = points[j]\n",
    "\t\tnew_points.append(new_add)\n",
    "\t\tfor t in range(len(points)):\n",
    "\t\t\tif points[t]==new_add:\n",
    "\t\t\t\tel = t\n",
    "\t\t\n",
    "\t\tpoints.pop(el)\n",
    "\t\t\n",
    "\n",
    "\treturn new_points \n",
    "\n",
    "def distance(p1,p2):\n",
    "    \"\"\"Calculates the distance between two vertices.\n",
    "        @param p1: first vertex\n",
    "        @param p2: second vertex \"\"\"\n",
    "\treturn float(math.sqrt(math.pow((p1[0] - p2[0]), 2)+math.pow((p1[1] - p2[1]), 2)))\n",
    "\n",
    "def find_angle(p1,p2):\n",
    "    \"\"\"Calculates the angle between two vertices through arctangent function with two arguments.\n",
    "        @param p1: first vertex\n",
    "        @param p2: second vertex \"\"\"\n",
    "\treturn math.atan2(p1[1]-p2[1],p1[0]-p2[0])"
   ]
  },
  {
   "cell_type": "markdown",
   "metadata": {},
   "source": [
    "## Main code:"
   ]
  },
  {
   "cell_type": "code",
   "execution_count": null,
   "metadata": {
    "collapsed": true
   },
   "outputs": [],
   "source": [
    "def builder_roof(fileName):\n",
    "\tj=0\n",
    "\ts=0\n",
    "\tt=0\n",
    "\tfirst_shape = []\n",
    "\tfalde = []\n",
    "\ttop_shape = []\n",
    "\tpol= []\n",
    "\tpol2 = []\n",
    "    \"\"\"Reading .lines files to achieve the shape and the centroid of the roof\"\"\"\n",
    "\twith open(\"polygon/\"+fileName +  \".lines\", \"rb\") as file:\n",
    "\t\treader = csv.reader(file, delimiter=\",\")\n",
    "\t\tpolylineList = []\n",
    "\t\treader2 = reader\n",
    "\t\trow1=next(reader2)\n",
    "\t\tpx = row1[0]\n",
    "\t\tpy = row1[1]\n",
    "\twith open(\"polygon/\"+fileName +  \".lines\", \"rb\") as file:\n",
    "\t\treader = csv.reader(file, delimiter=\",\")\n",
    "\t\tfor row in reader:\n",
    "\t\t\tfirst_shape.append([float(row[0])-float(px),float(row[1])-float(py)])\n",
    "\t\t\tfirst_shape.append([float(row[2])-float(px),float(row[3])-float(py)])\n",
    "\tcentroid = centroid_of_polygon(first_shape)\n",
    "\t[x,y] = centroid\n",
    "\tcentroid = [x,y]\n",
    "    \"\"\"Translational first shape\"\"\"\n",
    "\tfor f in range(len(first_shape)):\n",
    "\t\tfirst_shape[f][0]=first_shape[f][0]-centroid[0]\n",
    "\t\tfirst_shape[f][1]=first_shape[f][1]-centroid[1]\n",
    "    \"\"\"Modeling firts shape\"\"\"\n",
    "\twhile j<len(first_shape):\n",
    "\t\tpol.append(POLYLINE([first_shape[j],first_shape[j+1]]))\n",
    "\t\tj=j+2\n",
    "\tpol = STRUCT(pol)\n",
    "\n",
    "\t\"\"\"Modeling top of the roof\"\"\"\n",
    "\tfor i in range(len(first_shape)):\n",
    "\t\ttop_shape.append([first_shape[i][0]/2.0,first_shape[i][1]/2.0])\n",
    "\n",
    "\tfirst_shape = make_unique(first_shape)\n",
    "\n",
    "\ttop_shape = make_unique(top_shape)\n",
    "\ttop_shape= clockwise_order(top_shape)\n",
    "\tfirst_shape = clockwise_order(first_shape)\n",
    "\ttop_shape = top_shape + [top_shape[0]]\n",
    "\twhile t<len(top_shape)-1:\n",
    "\t\tpol2.append(POLYLINE([top_shape[t],top_shape[t+1]]))\n",
    "\t\tt=t+1\n",
    "\n",
    "\tpiano = SOLIDIFY(STRUCT(pol2))\n",
    "\tpiano = T(3)(10)(piano)\n",
    "\tfirst_shape = first_shape+ [first_shape[0]]\n",
    "\tfor p in range(len(first_shape)):\n",
    "\t\tfirst_shape[p]=first_shape[p]+[float(0)]\n",
    "\tfor k in range(len(top_shape)):\n",
    "\t\ttop_shape[k]=top_shape[k]+[float(10)]\n",
    "    \"\"\"Construction flaps\"\"\"\n",
    "\twhile s<len(make_unique(first_shape)):\n",
    "\t\tfalde.append(MKPOL([[first_shape[s],first_shape[s+1],top_shape[s],top_shape[s+1]],[[1,2,3,4]],None]))\n",
    "\t\ts = s+1\n",
    "\tfalde = STRUCT(falde)\n",
    "    \n",
    "    \"\"\"The HPC model of the generated roof\"\"\"\n",
    "\treturn STRUCT([falde,piano])"
   ]
  },
  {
   "cell_type": "markdown",
   "metadata": {},
   "source": [
    "## Results:"
   ]
  },
  {
   "cell_type": "markdown",
   "metadata": {},
   "source": [
    "The following images show the execution of the main code to build roofs with a different number of layers, concave or convex."
   ]
  },
  {
   "cell_type": "markdown",
   "metadata": {},
   "source": [
    "<img src='img/l_roof.jpg'>"
   ]
  },
  {
   "cell_type": "markdown",
   "metadata": {},
   "source": [
    "<img src='img/roof1.jpg'>"
   ]
  },
  {
   "cell_type": "markdown",
   "metadata": {},
   "source": [
    "<img src='img/2roof.jpg'>"
   ]
  },
  {
   "cell_type": "markdown",
   "metadata": {},
   "source": [
    "<img src='img/3roof.jpg'>"
   ]
  }
 ],
 "metadata": {
  "anaconda-cloud": {},
  "kernelspec": {
   "display_name": "Python [default]",
   "language": "python",
   "name": "python2"
  },
  "language_info": {
   "codemirror_mode": {
    "name": "ipython",
    "version": 2
   },
   "file_extension": ".py",
   "mimetype": "text/x-python",
   "name": "python",
   "nbconvert_exporter": "python",
   "pygments_lexer": "ipython2",
   "version": "2.7.12"
  }
 },
 "nbformat": 4,
 "nbformat_minor": 1
}
