{
 "cells": [
  {
   "cell_type": "markdown",
   "metadata": {},
   "source": [
    "# Modeling mansard roofs"
   ]
  },
  {
   "cell_type": "markdown",
   "metadata": {},
   "source": [
    "The following workshop aims to model different mansard roofs starting from a .lines file containing the measures of the final roof to achieve. An example of the type of roof which is to be realized is present in the next picture."
   ]
  },
  {
   "cell_type": "markdown",
   "metadata": {},
   "source": [
    "## Example:"
   ]
  },
  {
   "cell_type": "markdown",
   "metadata": {},
   "source": [
    "<img src='img/mansard_roof.jpg'>"
   ]
  },
  {
   "cell_type": "markdown",
   "metadata": {},
   "source": [
    "## Execution:"
   ]
  },
  {
   "cell_type": "markdown",
   "metadata": {},
   "source": [
    "To make the final roof i followed the following steps:\n",
    "\n",
    "    1)I realized the shape of the roof base through .lines file;\n",
    "    \n",
    "    2)I made the top of the roof going to resize the previous form;\n",
    "    \n",
    "    3)I calculated the centroid of both figures;\n",
    "    \n",
    "    4)I traslate the forms so as to match the respective centroid;\n",
    "    \n",
    "    5)I calculated and ordered the vertex of both figures;\n",
    "    \n",
    "    6)I realized the roof pitches;\n",
    "    \n",
    "    7)I added top of the roof;"
   ]
  },
  {
   "cell_type": "markdown",
   "metadata": {},
   "source": [
    "## Support code:"
   ]
  },
  {
   "cell_type": "code",
   "execution_count": null,
   "metadata": {
    "collapsed": true
   },
   "outputs": [],
   "source": [
    "def make_unique(original_list):\n",
    "    \"\"\"Removes duplicates from a list.\n",
    "       @param original_list: startlist \"\"\"\n",
    "    uniqueList = []\n",
    "    [uniqueList.append(obj) for obj in original_list if obj not in uniqueList]\n",
    "    return uniqueList\n",
    "\n",
    "def area_of_polygon(x, y):\n",
    "    \"\"\"Calculates the signed area of an arbitrary polygon given its verticies.\n",
    "       @param x: x coordinates of the vertices\n",
    "       @param y: y coordinates of the vertices \"\"\"\n",
    "    area = 0.0\n",
    "    for i in xrange(-1, len(x) - 1):\n",
    "        area += x[i] * (y[i + 1] - y[i - 1])\n",
    "    return area / 2.0\n",
    "\n",
    "def centroid_of_polygon(points):\n",
    "    \"\"\"Calculates the centroid of an arbitrary polygon given its verticies.\n",
    "       @param points: vertices of an arbitrary polygon \"\"\"\n",
    "    area = area_of_polygon(*zip(*points))\n",
    "    resultX = 0\n",
    "    resultY = 0\n",
    "    N = len(points)\n",
    "    points = cycle(points)\n",
    "    x1, y1 = next(points)\n",
    "    for i in range(N):\n",
    "        x0, y0 = x1, y1\n",
    "        x1, y1 = next(points)\n",
    "        cross = (x0 * y1) - (x1 * y0)\n",
    "        resultX += (x0 + x1) * cross\n",
    "        resultY += (y0 + y1) * cross\n",
    "    resultX /= (area * 6.0)\n",
    "    resultY /= (area * 6.0)\n",
    "    return (resultX, resultY)\n",
    "\n",
    "def clockwise_order(points):\n",
    "    \"\"\"Order the vertices of a polygon in a clockwise direction from the first vertex in the list.\n",
    "       @param points: vertices of an arbitrary polygon \"\"\"\n",
    "\tfirstPoint = points[0]\n",
    "\tcentroid = [firstPoint[0],firstPoint[1]+0.0000001]\n",
    "\tfirstLength = distance(centroid,firstPoint)\n",
    "\tnewPoints = []\n",
    "\n",
    "\twhile len(points)>0:\n",
    "\t\tcos = 400\n",
    "\t\tfor j in range(len(points)):\n",
    "\t\t\tcos2 = find_angle(points[j],centroid)\n",
    "\t\t\t\n",
    "\t\t\tif cos2 < cos:\n",
    "\t\t\t\tcos = cos2\n",
    "\t\t\t\tnewAdd = points[j]\n",
    "\t\tnewPoints.append(newAdd)\n",
    "\t\tfor t in range(len(points)):\n",
    "\t\t\tif points[t]==newAdd:\n",
    "\t\t\t\tel = t\n",
    "\t\t\n",
    "\t\tpoints.pop(el)\n",
    "\t\t\n",
    "\n",
    "\treturn newPoints \n",
    "\n",
    "def distance(p1,p2):\n",
    "    \"\"\"Calculates the distance between two vertices.\n",
    "        @param p1: first vertex\n",
    "        @param p2: second vertex \"\"\"\n",
    "\treturn float(math.sqrt(math.pow((p1[0] - p2[0]), 2)+math.pow((p1[1] - p2[1]), 2)))\n",
    "\n",
    "def find_angle(p1,p2):\n",
    "    \"\"\"Calculates the angle between two vertices through arctangent function with two arguments.\n",
    "        @param p1: first vertex\n",
    "        @param p2: second vertex \"\"\"\n",
    "\treturn math.atan2(p1[1]-p2[1],p1[0]-p2[0])"
   ]
  },
  {
   "cell_type": "markdown",
   "metadata": {},
   "source": [
    "## Main code:"
   ]
  },
  {
   "cell_type": "code",
   "execution_count": null,
   "metadata": {
    "collapsed": true
   },
   "outputs": [],
   "source": [
    "def builder_roof(fileName):\n",
    "\tj=0\n",
    "\ts=0\n",
    "\tt=0\n",
    "\tfirstShape = []\n",
    "\tfalde = []\n",
    "\ttopShape = []\n",
    "\tpol= []\n",
    "\tpol2 = []\n",
    "\twith open(\"polygons/\"+fileName +  \".lines\", \"rb\") as file:\n",
    "\t\treader = csv.reader(file, delimiter=\",\")\n",
    "\t\tpolylineList = []\n",
    "\t\treader2 = reader\n",
    "\t\trow1=next(reader2)\n",
    "\t\tpx = row1[0]\n",
    "\t\tpy = row1[1]\n",
    "\twith open(\"polygons/\"+fileName +  \".lines\", \"rb\") as file:\n",
    "\t\treader = csv.reader(file, delimiter=\",\")\n",
    "\t\tfor row in reader:\n",
    "\t\t\tfirstShape.append([float(row[0])-float(px),float(row[1])-float(py)])\n",
    "\t\t\tfirstShape.append([float(row[2])-float(px),float(row[3])-float(py)])\n",
    "\tcentroid = centroid_of_polygon(firstShape)\n",
    "\t[x,y] = centroid\n",
    "\tcentroid = [x,y]\n",
    "\tfor f in range(len(firstShape)):\n",
    "\t\tfirstShape[f][0]=firstShape[f][0]-centroid[0]\n",
    "\t\tfirstShape[f][1]=firstShape[f][1]-centroid[1]\n",
    "\twhile j<len(firstShape):\n",
    "\t\tpol.append(POLYLINE([firstShape[j],firstShape[j+1]]))\n",
    "\t\tj=j+2\n",
    "\tpol = STRUCT(pol)\n",
    "\n",
    "\tfirstShape = make_unique(firstShape)\n",
    "\tfor i in range(len(firstShape)):\n",
    "\t\ttopShape.append([firstShape[i][0]/2.0,firstShape[i][1]/2.0])\n",
    "\t\n",
    "\t\n",
    "\ttopShape = topShape + [topShape[0]]\n",
    "\twhile t<len(topShape)-1:\n",
    "\t\tpol2.append(POLYLINE([topShape[t],topShape[t+1]]))\n",
    "\t\tt=t+1\n",
    "\n",
    "\tpiano = SOLIDIFY(STRUCT(pol2))\n",
    "\tpiano = T(3)(200)(piano)\n",
    "\tfirstShape = firstShape+ [firstShape[0]]\n",
    "\tfor p in range(len(firstShape)):\n",
    "\t\tfirstShape[p]=firstShape[p]+[float(0)]\n",
    "\tfor k in range(len(topShape)):\n",
    "\t\ttopShape[k]=topShape[k]+[float(200)]\n",
    "\n",
    "\twhile s<len(make_unique(firstShape)):\n",
    "\t\tfalde.append(MKPOL([[firstShape[s],firstShape[s+1],topShape[s],topShape[s+1]],[[1,2,3,4]],None]))\n",
    "\t\ts = s+1\n",
    "\tfalde = STRUCT(falde)\n",
    "\treturn STRUCT([falde,piano])"
   ]
  },
  {
   "cell_type": "markdown",
   "metadata": {},
   "source": [
    "## Results:"
   ]
  },
  {
   "cell_type": "markdown",
   "metadata": {},
   "source": [
    "The following images show the execution of the main code to build roofs with a different number of layers, concave or convex."
   ]
  },
  {
   "cell_type": "markdown",
   "metadata": {},
   "source": [
    "<table> <tbody> <tr> <td> <img src='img/l_roof.jpg'> </td> <td> <img src='img/roof1.jpg'> </td> </tr> <tr> <td> <img src='img/2roof.jpg'> </td> <td> <img src='img/3roof.jpg'> </td> </tr> </tbody> </table>"
   ]
  },
  {
   "cell_type": "markdown",
   "metadata": {},
   "source": [
    "During the construction of the concave roofs some faces do not have the right inclination. This problem is not found in the convex roof."
   ]
  }
 ],
 "metadata": {
  "anaconda-cloud": {},
  "kernelspec": {
   "display_name": "Python [default]",
   "language": "python",
   "name": "python2"
  },
  "language_info": {
   "codemirror_mode": {
    "name": "ipython",
    "version": 2
   },
   "file_extension": ".py",
   "mimetype": "text/x-python",
   "name": "python",
   "nbconvert_exporter": "python",
   "pygments_lexer": "ipython2",
   "version": "2.7.12"
  }
 },
 "nbformat": 4,
 "nbformat_minor": 1
}
