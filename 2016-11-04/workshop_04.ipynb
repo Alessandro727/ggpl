{
 "cells": [
  {
   "cell_type": "markdown",
   "metadata": {},
   "source": [
    "# Parametric House Roofs"
   ]
  },
  {
   "cell_type": "markdown",
   "metadata": {},
   "source": [
    "## Immagini di riferimento da realizzare:"
   ]
  },
  {
   "cell_type": "markdown",
   "metadata": {},
   "source": [
    "<img src=\"img/tetti.jpg\">"
   ]
  },
  {
   "cell_type": "markdown",
   "metadata": {},
   "source": [
    "## Descrizione"
   ]
  },
  {
   "cell_type": "markdown",
   "metadata": {},
   "source": [
    "La funzione ggpl_build_roof() prende in input un ogetto HPC (un blocco rappresentante il tetto) e restituisce come output un'altro oggetto HPC che rappresenta il tetto finale che può essere realizzato a partire dall'ogetto in input. \n",
    "La seguente funzione è in grado di realizzare tetti del tipo Shed, Gamble, Mansard, Gambrel, Flat, Butterfly, Hip, Combination e ad L."
   ]
  },
  {
   "cell_type": "markdown",
   "metadata": {},
   "source": [
    "## Codice Utilizzato"
   ]
  },
  {
   "cell_type": "code",
   "execution_count": null,
   "metadata": {
    "collapsed": true
   },
   "outputs": [],
   "source": [
    "from pyplasm import *\n",
    "import math\n",
    "\n",
    "\"\"\" The following function takes as input a list of vertices and returns as output the same list \n",
    "with values adjusted to eliminate the wrong values caused by UKPOL function.\"\"\"\n",
    "def fixVerts(verts):\n",
    "\tfor v in verts:\n",
    "\t\tv[0]=math.fabs(round(v[0],2))\n",
    "\t\tv[1]=math.fabs(round(v[1],2))\n",
    "\t\tv[2]=math.fabs(round(v[2],2))\n",
    "\treturn verts\n",
    "\n",
    "\"\"\" The following function deletes duplicates vertices within the \"verts\" list made by UKPOL function.\"\"\"\n",
    "def deleteDuplicates(verts):\n",
    "\tvertsNoDuplicates = []\n",
    "\tfor n in verts:\n",
    "\t\texists = 0\n",
    "\t\tfor g in vertsNoDuplicates:\n",
    "\t\t\tif n==g:\n",
    "\t\t\t\texists = 1\n",
    "\t\tif exists == 0:\n",
    "\t\t\tvertsNoDuplicates.append(n)\n",
    "\treturn vertsNoDuplicates\n",
    "\n",
    "\"\"\" The 'order ()' function takes as input a list of vertices and sorts them according to the value of the z component. \n",
    "If two or more vertices have the same z then they are sorted according to their x component. \n",
    "Finally, even if they have the same x, they are sorted according to the y component. \"\"\"\n",
    "def order(verts):\n",
    "\tnewVerts = sorted(verts, key=lambda item: (item[2],item[0],item[1]))\n",
    "\treturn newVerts\n",
    "\n",
    "\n",
    "\"\"\" The 'ggpl_build_roof ()' function takes as input a HPC object (the Polygonal shape of the roof)\n",
    "and returns outputs a HPC object (the roof builded).\n",
    "Depending on the type of the input object the function is able to create a different type of roof. \"\"\"\n",
    "def ggpl_build_roof(roof):\n",
    "\t\n",
    "\t# skeleton of the roff in 2D \n",
    "\tskel2 = SKEL_2(roof)\n",
    "\tverts, cells, pol = UKPOL(skel2)\n",
    "\t\n",
    "\t# adjusted to the values of the vertices\n",
    "\tverts = fixVerts(verts)\n",
    "\t\n",
    "\t# roof structure\n",
    "\tskel1 = SKEL_1(roof)\n",
    "\tskel1=COLOR(RED)(OFFSET([.1,.1,.3])(skel1))\n",
    "\n",
    "\t# order verts whitout duplicates\n",
    "\tvertsNoDuplicates = order(deleteDuplicates(verts))\n",
    "\n",
    "\t\n",
    "\"\"\" Depending on the verts length field used to realize the input object in the function realizes a different type of roof. \n",
    "Finally he realizes the ultimate roof ordering every time the list of vertices to it being given the correct place in the list. \"\"\"\n",
    "\n",
    "\tif len(vertsNoDuplicates)==6: #Gamble/Hip\n",
    "\t\tcellsTemp = []\n",
    "\t\tcellsTemp.append([5,2,1])\n",
    "\t\tcellsTemp.append([6,3,4])\n",
    "\t\tcellsTemp.append([6,5,3,1])\n",
    "\t\tcellsTemp.append([2,4,5,6])\n",
    "\t\tfinalRoof = MKPOL([vertsNoDuplicates,cellsTemp,1])\n",
    "\t\treturn [skel1,COLOR(RED)(finalRoof)]\n",
    "\n",
    "\tif len(vertsNoDuplicates)==4: #Shed\n",
    "\t\tcellsTemp = []\n",
    "\t\tcellsTemp.append([1,2,3,4])\n",
    "\t\tfinalRoof = MKPOL([vertsNoDuplicates,cellsTemp,1])\n",
    "\t\treturn [skel1,COLOR(RED)(finalRoof)]\n",
    "\n",
    "\tif len(vertsNoDuplicates)==8: #Mansard/Flat\n",
    "\t\tcellsTemp = []\n",
    "\t\tcellsTemp.append([2,1,5,6])\n",
    "\t\tcellsTemp.append([3,4,7,8])\n",
    "\t\tcellsTemp.append([7,5,3,1])\n",
    "\t\tcellsTemp.append([2,4,6,8])\n",
    "\t\tcellsTemp.append([5,6,7,8])\n",
    "\t\tfinalRoof = MKPOL([vertsNoDuplicates,cellsTemp,1])\n",
    "\t\treturn [skel1,COLOR(RED)(finalRoof)]\n",
    "\n",
    "\tif len(vertsNoDuplicates)==9: #Lroof\n",
    "\t\tcellsTemp = []\n",
    "\t\tcellsTemp.append([7,2,1,8])\n",
    "\t\tcellsTemp.append([8,4,2])\n",
    "\t\tcellsTemp.append([7,4,3,8])\n",
    "\t\tcellsTemp.append([3,6,7,9])\n",
    "\t\tcellsTemp.append([5,6,9])\n",
    "\t\tcellsTemp.append([1,5,7,9])\n",
    "\t\tfinalRoof = MKPOL([vertsNoDuplicates,cellsTemp,1])\n",
    "\t\treturn [skel1,COLOR(RED)(finalRoof)]\n",
    "\n",
    "\tif len(vertsNoDuplicates)==10: #Gambrel\n",
    "\t\tprint 10\n",
    "\t\tcellsTemp = []\n",
    "\t\tcellsTemp.append([1,5,3,7])\n",
    "\t\tcellsTemp.append([5,7,9,10])\n",
    "\t\tcellsTemp.append([10,9,8,6])\n",
    "\t\tcellsTemp.append([2,4,6,8])\n",
    "\t\tfinalRoof = MKPOL([vertsNoDuplicates,cellsTemp,1])\n",
    "\t\treturn [skel1,COLOR(RED)(finalRoof)]\n",
    "\n",
    "\tif len(vertsNoDuplicates)==12: #Butterfly\n",
    "\t\tcellsTemp = []\n",
    "\t\tcellsTemp.append([1,3,5,9])\n",
    "\t\tcellsTemp.append([1,3,6,10])\n",
    "\t\tcellsTemp.append([5,7,9,11])\n",
    "\t\tcellsTemp.append([6,8,10,12])\n",
    "\t\tcellsTemp.append([2,4,8,12])\n",
    "\t\tcellsTemp.append([2,4,7,11])\n",
    "\t\tcellsTemp.append([1,2,5,7])\n",
    "\t\tcellsTemp.append([1,2,6,8])\n",
    "\t\tcellsTemp.append([3,4,9,11])\n",
    "\t\tcellsTemp.append([3,4,10,12])\n",
    "\t\tfinalRoof = MKPOL([vertsNoDuplicates,cellsTemp,1])\n",
    "\t\treturn [skel1,COLOR(RED)(finalRoof)]\n",
    "\n",
    "\tif len(vertsNoDuplicates)==14: #CombinationRoof\n",
    "\t\tcellsTemp = []\n",
    "\t\tcellsTemp.append([1,5,6,2])\n",
    "\t\tcellsTemp.append([3,4,7,8])\n",
    "\t\tcellsTemp.append([7,3,5,1])\n",
    "\t\tcellsTemp.append([2,4,6,8])\n",
    "\t\tcellsTemp.append([10,9,6,5])\n",
    "\t\tcellsTemp.append([7,8,11,12])\n",
    "\t\tcellsTemp.append([12,10,8,6])\n",
    "\t\tcellsTemp.append([5,7,9,11])\n",
    "\t\tcellsTemp.append([13,10,9])\n",
    "\t\tcellsTemp.append([11,12,14])\n",
    "\t\tcellsTemp.append([9,13,11,14])\n",
    "\t\tcellsTemp.append([14,13,12,10])\n",
    "\t\tfinalRoof = MKPOL([vertsNoDuplicates,cellsTemp,1])\n",
    "\t\treturn [skel1,COLOR(RED)(finalRoof)]\n",
    "\n",
    "\n",
    "def main():\n",
    "\tverts = [[0,0,0],[0,4,7],[0,8,0],[12,0,0],[12,4,7],[12,8,0]]\n",
    "\tcells = [[1,2,3,4,5,6]]\n",
    "\troof = MKPOL([verts,cells,None])\n",
    "\tVIEW(STRUCT(ggpl_build_roof(roof)))\n",
    "\n",
    "if __name__=='__main__':\n",
    "\tmain()"
   ]
  },
  {
   "cell_type": "markdown",
   "metadata": {},
   "source": [
    "## Funzione 'order()'"
   ]
  },
  {
   "cell_type": "markdown",
   "metadata": {},
   "source": [
    "La funzione 'order()' riceve in input una lista di vertici e restituisce la medesima lista con i vertici ordinati. Conoscendo il criterio di ordinamento è possibile conoscere in anticipo in che posizione all'interno della lista si trovano i diversi vertici ed in questo modo è possibile realizzare le varie \"facce\" del tetto per ogni tipo di tetto.\n",
    "Si è scelto di ordinare i vertici principalmente in base alla z in modo da non avere problemi con i tetti di tipo Flat e quelli di tipo Mansard. Se due o più vertici dovessero avere la medesima componente z si ordinano prima in base alla componente x e se necessario anche in base alla componente y."
   ]
  },
  {
   "cell_type": "code",
   "execution_count": null,
   "metadata": {
    "collapsed": true
   },
   "outputs": [],
   "source": [
    "def order(verts):\n",
    "\tnewVerts = sorted(verts, key=lambda item: (item[2],item[0],item[1]))\n",
    "\treturn newVerts"
   ]
  },
  {
   "cell_type": "markdown",
   "metadata": {},
   "source": [
    "# Esempi:"
   ]
  },
  {
   "cell_type": "markdown",
   "metadata": {},
   "source": [
    "### Gamble/Hip:"
   ]
  },
  {
   "cell_type": "code",
   "execution_count": null,
   "metadata": {
    "collapsed": true
   },
   "outputs": [],
   "source": [
    "def main():\n",
    "\tverts = [[0,0,0],[0,4,7],[0,8,0],[12,0,0],[12,4,7],[12,8,0]]\n",
    "\tcells = [[1,2,3,4,5,6]]\n",
    "\troof = MKPOL([verts,cells,None])\n",
    "\tVIEW(STRUCT(ggpl_build_roof(roof)))"
   ]
  },
  {
   "cell_type": "markdown",
   "metadata": {},
   "source": [
    "<img src=\"img/gamblehip.jpg\">"
   ]
  },
  {
   "cell_type": "markdown",
   "metadata": {},
   "source": [
    "### Shed:"
   ]
  },
  {
   "cell_type": "code",
   "execution_count": null,
   "metadata": {
    "collapsed": true
   },
   "outputs": [],
   "source": [
    "def main():\n",
    "\tverts = [[0,0,0],[0,8,0],[12,8,7],[12,0,7]]\n",
    "\tcells = [[1,2,3,4]]\n",
    "\troof = MKPOL([verts,cells,None])\n",
    "\tVIEW(STRUCT(ggpl_build_roof(roof)))"
   ]
  },
  {
   "cell_type": "markdown",
   "metadata": {},
   "source": [
    "<img src='img/shed.jpg'>"
   ]
  },
  {
   "cell_type": "markdown",
   "metadata": {},
   "source": [
    "### Mansard/Flat:"
   ]
  },
  {
   "cell_type": "code",
   "execution_count": null,
   "metadata": {
    "collapsed": true
   },
   "outputs": [],
   "source": [
    "def main():\n",
    "\tverts = [[0,0,0],[0,3,5],[0,6,5],[0,9,0],[12,0,0],[12,3,5],[12,6,5],[12,9,0]]\n",
    "\tcells = [[1,2,3,4,5,6,7,8]]\n",
    "\troof = MKPOL([verts,cells,None])\n",
    "\tVIEW(STRUCT(ggpl_build_roof(roof)))"
   ]
  },
  {
   "cell_type": "markdown",
   "metadata": {},
   "source": [
    "<img src='img/mansardflat.jpg'>"
   ]
  },
  {
   "cell_type": "markdown",
   "metadata": {},
   "source": [
    "### Lroof:"
   ]
  },
  {
   "cell_type": "code",
   "execution_count": null,
   "metadata": {
    "collapsed": true
   },
   "outputs": [],
   "source": [
    "def main():\n",
    "\tverts = [[0,0,0],[0,10,0],[4,10,0],[4,4,0],[12,0,0],[12,4,0],[12,2,5],[2,2,5],[2,10,5]]\n",
    "\tcells = [[1, 2, 8, 9],[2,3,9], [3,4,8,9],[4,6,7,8],[5,6,7],[1,5,7,8]]\n",
    "\troof = MKPOL([verts,cells,None])\n",
    "\tVIEW(STRUCT(ggpl_build_roof(roof)))"
   ]
  },
  {
   "cell_type": "markdown",
   "metadata": {},
   "source": [
    "<img src='img/lroof.jpg'>"
   ]
  },
  {
   "cell_type": "markdown",
   "metadata": {},
   "source": [
    "### Gambrel:"
   ]
  },
  {
   "cell_type": "code",
   "execution_count": null,
   "metadata": {
    "collapsed": true
   },
   "outputs": [],
   "source": [
    "def main():\n",
    "\tverts = [[0,0,0],[0,1.5,4],[0,4.5,7],[0,7.5,4],[0,9,0],[12,0,0],[12,1.5,4],[12,4.5,7],[12,7.5,4],[12,9,0]]\n",
    "\tcells = [[1,2,3,4,5,6,7,8,9,10]]\n",
    "\troof = MKPOL([verts,cells,None])\n",
    "\tVIEW(STRUCT(ggpl_build_roof(roof)))"
   ]
  },
  {
   "cell_type": "markdown",
   "metadata": {},
   "source": [
    "<img src='img/gambler.jpg'>"
   ]
  },
  {
   "cell_type": "markdown",
   "metadata": {},
   "source": [
    "### Butterfly:"
   ]
  },
  {
   "cell_type": "code",
   "execution_count": null,
   "metadata": {
    "collapsed": true
   },
   "outputs": [],
   "source": [
    "def main():\n",
    "\tverts = [[0,0,3],[0,0,5],[0,5,0],[0,5,2],[0,10,3],[0,10,5],[15,0,3],[15,0,5],[15,5,0],[15,5,2],[15,10,3],[15,10,5]]\n",
    "\tcells = [[1,2,3,4],[3,4,5,6],[7,8,9,10],[9,10,11,12],[1,2,7,8],[5,6,11,12],[3,5,9,11],[1,3,7,9],[2,4,8,10],[4,10,6,12]]\n",
    "\troof = MKPOL([verts,cells,None])\n",
    "\tVIEW(STRUCT(ggpl_build_roof(roof)))"
   ]
  },
  {
   "cell_type": "markdown",
   "metadata": {},
   "source": [
    "<img src='img/butterfly.jpg'>"
   ]
  },
  {
   "cell_type": "markdown",
   "metadata": {},
   "source": [
    "### CombinationRoof:"
   ]
  },
  {
   "cell_type": "code",
   "execution_count": null,
   "metadata": {
    "collapsed": true
   },
   "outputs": [],
   "source": [
    "def main():\n",
    "\tverts = [[0,0,0],[0,8,0],[0,0,2],[0,8,2],[16,0,0],[16,8,0],[16,0,2],[16,8,2],[4,3,5],[12,3,5],[4,5,5],[12,5,5],[5,4,8],[11,4,8]]\n",
    "\tcells = [[1,3,4,2],[7,5,3,1],[5,7,6,8],[2,4,6,8],[11,9,4,3],[3,7,9,10],[7,8,10,12],[8,4,11,12],[9,10,13,14],[14,13,12,11],[11,9,13],[10,12,14],[2,6,1,5]]\n",
    "\troof = MKPOL([verts,cells,None])\n",
    "\tVIEW(STRUCT(ggpl_build_roof(roof)))"
   ]
  },
  {
   "cell_type": "markdown",
   "metadata": {},
   "source": [
    "<img src='img/combinationroof.jpg'>"
   ]
  }
 ],
 "metadata": {
  "anaconda-cloud": {},
  "kernelspec": {
   "display_name": "Python [default]",
   "language": "python",
   "name": "python2"
  },
  "language_info": {
   "codemirror_mode": {
    "name": "ipython",
    "version": 2
   },
   "file_extension": ".py",
   "mimetype": "text/x-python",
   "name": "python",
   "nbconvert_exporter": "python",
   "pygments_lexer": "ipython2",
   "version": "2.7.12"
  }
 },
 "nbformat": 4,
 "nbformat_minor": 1
}
