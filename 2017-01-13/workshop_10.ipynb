{
 "cells": [
  {
   "cell_type": "markdown",
   "metadata": {},
   "source": [
    "# Housing: coherent assembly of plugins"
   ]
  },
  {
   "cell_type": "markdown",
   "metadata": {},
   "source": [
    "## Esempi di riferimento:"
   ]
  },
  {
   "cell_type": "markdown",
   "metadata": {},
   "source": [
    "<table> <tbody> <tr> <td> <img src='planimetria.png'> </td> <td> <img src='planimetria2.jpg'> </td> </tr> </tbody> </table>"
   ]
  },
  {
   "cell_type": "markdown",
   "metadata": {},
   "source": [
    "Il seguente workshop ha l'obiettivo di realizzare un'intera abitazione composta da più piani utilizzando le funzioni realizzate nei precedenti workshop. Si è scelto di non modificare il codice delle precedenti funzioni ma di adattare i risultati per rendere il codice del workshop 10 parametrico ed in grado di realizzare differenti abitazioni a seconda dei file passati come parametri. Viene utilizzato anche un flag in modo da poter essere in grado di realizzare abitazioni che hanno piani superiori con muri esterni differenti dal primo in piano in quando potrebbero contenere terrazze od altro."
   ]
  },
  {
   "cell_type": "markdown",
   "metadata": {},
   "source": [
    "## Workshop utilizzati:"
   ]
  },
  {
   "cell_type": "markdown",
   "metadata": {},
   "source": [
    "I codici dei workshop utilizzati non sono stati modificati ed è possibile visualizzarli nelle precedentei cartelle del repository."
   ]
  },
  {
   "cell_type": "markdown",
   "metadata": {},
   "source": [
    "### Workshop_03:"
   ]
  },
  {
   "cell_type": "markdown",
   "metadata": {},
   "source": [
    "Il seguente workshop è stato utilizzato per la realizzazione delle scale all'interno dell'abitazione. Il seguente codice è in grado di generare scale parametri utilizzando come input le dimensioni di una scatola in grado di contenere totalmente la scala finale. Attraverso l'utilizzo del flag è stato possibile ridimensionare le scale e ruotarle a seconda delle esigenze strutturali."
   ]
  },
  {
   "cell_type": "markdown",
   "metadata": {
    "collapsed": true
   },
   "source": [
    "#### Esempi:"
   ]
  },
  {
   "cell_type": "markdown",
   "metadata": {},
   "source": [
    "<table> <tbody> <tr> <td> <img src='img2/scala1.jpg'> </td> <td> <img src='img2/scala2.jpg'> </td> </tr> </tbody> </table>"
   ]
  },
  {
   "cell_type": "markdown",
   "metadata": {},
   "source": [
    "### Workshop_07:"
   ]
  },
  {
   "cell_type": "markdown",
   "metadata": {},
   "source": [
    "Il workshop_07 è stato utilizzato per realizzare le porte e le finestre dell'edificio. "
   ]
  },
  {
   "cell_type": "markdown",
   "metadata": {},
   "source": [
    "#### Esempi:"
   ]
  },
  {
   "cell_type": "markdown",
   "metadata": {},
   "source": [
    "<table> <tbody> <tr> <td> <img src='img2/finestrePorta.jpg'> </td> <td> <img src='img2/finestrePorta2.jpg'> </td> </tr> </tbody> </table>"
   ]
  },
  {
   "cell_type": "markdown",
   "metadata": {},
   "source": [
    "### Workshop_08:"
   ]
  },
  {
   "cell_type": "markdown",
   "metadata": {},
   "source": [
    "Il codice di questo workshop è stato utilizzato per realizzare le mura interne ed esterne dell'abitazione."
   ]
  },
  {
   "cell_type": "markdown",
   "metadata": {},
   "source": [
    "#### Esempi:"
   ]
  },
  {
   "cell_type": "markdown",
   "metadata": {},
   "source": [
    "<table> <tbody> <tr> <td> <img src='img2/muri1.jpg'> </td> <td> <img src='img2/muri2.jpg'> </td> </tr> </tbody> </table>"
   ]
  },
  {
   "cell_type": "markdown",
   "metadata": {},
   "source": [
    "### Workshop_09:"
   ]
  },
  {
   "cell_type": "markdown",
   "metadata": {},
   "source": [
    "Il seguente workshop è stato utilizzato per la realizzazione del tetto finale dell'abitazione. Il tetto finale è stato poi ridimensionato in modo da poter coprire interamente la struttura."
   ]
  },
  {
   "cell_type": "markdown",
   "metadata": {},
   "source": [
    "#### Esempi:"
   ]
  },
  {
   "cell_type": "markdown",
   "metadata": {},
   "source": [
    "<table> <tbody> <tr> <td> <img src='img2/tetto1.jpg'> </td> <td> <img src='img2/tetto2.jpg'> </td> </tr> </tbody> </table>"
   ]
  },
  {
   "cell_type": "markdown",
   "metadata": {},
   "source": [
    "## Codice finale:"
   ]
  },
  {
   "cell_type": "markdown",
   "metadata": {},
   "source": [
    "#### Parametri:\n",
    "    @param storyes: numero di piani\n",
    "    @param flag: flag necessario per scegliere per il tipo di edificio da realizzare\n",
    "    @param extWalls: file .lines per realizzare i muri esterni del primo piano\n",
    "    @param intWalls: file .lines per realizzare i muri interni del primo piano\n",
    "    @param doors: file .lines per realizzare le porte\n",
    "    @param windows: file .lines per realizzare le finestre\n",
    "    @param hfloor: file .lines per realizzare il pavimento\n",
    "    @param xWindow: array contenente le misure necessarie sull'asse x per realizzare il tipo di finestra scelta\n",
    "    @param yWindow: array contenente le misure necessarie sull'asse y per realizzare il tipo di finestra scelta\n",
    "    @param occurrencyWindow: array contenente le occorrenze per realizzare la finestra\n",
    "    @param xDoor: array contenente le misure necessarie sull'asse x per realizzare il tipo di porta scelto\n",
    "    @param yDoor: array contenente le misure necessarie sull'asse y per realizzare il tipo di porta scelto\n",
    "    @param occurrencyDoor: array contenente le occorrenze per realizzare la porta\n",
    "    @param stair: file .lines per realizzare le scale\n",
    "    @param roofPol: file .lines per realizzare il tetto\n",
    "    @param garden: file .lines per realizzare il vialetto/giardino"
   ]
  },
  {
   "cell_type": "code",
   "execution_count": null,
   "metadata": {
    "collapsed": true
   },
   "outputs": [],
   "source": [
    "def fullHouseBuilder(storeys,flag):\n",
    "\tdef singleStoreyBuilder(extWalls,intWalls,doors,windows,secondFloor):\n",
    "\t\tdef houseFloor(hFloor):\n",
    "\t\t\tdef houseWindows(xWindow,yWindow,occurrencyWindow):\n",
    "\t\t\t\tdef houseDoors(xDoor,yDoor,occurrencyDoor):\n",
    "\t\t\t\t\tdef houseStair(stair):\n",
    "\t\t\t\t\t\tdef houseRoof(roofPol):\n",
    "\t\t\t\t\t\t\tdef garden(garden):\n",
    "\n",
    "\t\t\t\t\t\t\t\t\"\"\" Realizzazione mura interne ed esterne primo piano \"\"\"\n",
    "\t\t\t\t\t\t\t\tgroundFloor = house.house_builder(extWalls,intWalls,doors,windows)\n",
    "\t\t\t\t\t\t\t\t\"\"\" Realizzazione mura interne ed esterne piani successivi \"\"\"\n",
    "\t\t\t\t\t\t\t\tif flag!= 1:\n",
    "\t\t\t\t\t\t\t\t\tgroundFloor2 = house.house_builder(extWalls,intWalls,secondFloor,windows)\n",
    "\t\t\t\t\t\t\t\telse:\n",
    "\t\t\t\t\t\t\t\t\tgroundFloor2 = house.house_builder(secondFloor,intWalls,doors,windows)\n",
    "\t\t\t\t\t\t\t\tgroundFloor = TEXTURE(\"texture/mura2.jpg\")(groundFloor)\n",
    "\t\t\t\t\t\t\t\tgroundFloor2 = TEXTURE(\"texture/mura2.jpg\")(groundFloor2)\n",
    "\t\t\t\t\t\t\t\t\"\"\" Realizzazione pavimento \"\"\"\n",
    "\t\t\t\t\t\t\t\tfloor = house.builder_2D(hFloor)\n",
    "\t\t\t\t\t\t\t\tfloor = SOLIDIFY(floor)\n",
    "\t\t\t\t\t\t\t\tstairFloor = house.builder_2D(stair)\n",
    "\t\t\t\t\t\t\t\tstairFloor = SOLIDIFY(stairFloor)\n",
    "\t\t\t\t\t\t\t\tfloor = DIFFERENCE([floor,stairFloor])\n",
    "\t\t\t\t\t\t\t\tf = floor\n",
    "\t\t\t\t\t\t\t\tfloor = T([1,2])([0.5,0.5])(floor)\n",
    "\t\t\t\t\t\t\t\tfloor = TEXTURE(\"texture/pavimento.jpg\")(floor)\n",
    "\t\t\t\t\t\t\t\tfloor2 = T([1,2,3])([6,6,150])(floor)\n",
    "\n",
    "\t\t\t\t\t\t\t\tgroundFloor = STRUCT([groundFloor,floor])\n",
    "\t\t\t\t\t\t\t\tgroundFloor = STRUCT([groundFloor,floor2])\n",
    "\t\t\t\t\t\t\t\tgroundFloor2 = STRUCT([groundFloor2,floor2])\n",
    "\n",
    "\t\t\t\t\t\t\t\t\"\"\" Inserimento finestre all'interno dei piani dell'abitazione \"\"\"\n",
    "\n",
    "\t\t\t\t\t\t\t\twith open(\"lines/\"+windows + \".lines\", \"rb\") as file:\n",
    "\t\t\t\t\t\t\t\t\treader = csv.reader(file, delimiter=\",\")\n",
    "\t\t\t\t\t\t\t\t\tbasePol = []\n",
    "\t\t\t\t\t\t\t\t\tcont = 0\n",
    "\t\t\t\t\t\t\t\t\tfor line in reader:\n",
    "\t\t\t\t\t\t\t\t\t\tcont +=1\n",
    "\t\t\t\t\t\t\t\t\t\t#creating polygon base using vertices\n",
    "\t\t\t\t\t\t\t\t\t\tbasePol.append([float(line[0]),float(line[1])])\n",
    "\t\t\t\t\t\t\t\t\t\t#create a cube with 4 vertices and restart finding\n",
    "\t\t\t\t\t\t\t\t\t\tif(cont == 4):\n",
    "\t\t\t\t\t\t\t\t\t\t\txDist = math.fabs(basePol[0][0]-basePol[1][0])\n",
    "\t\t\t\t\t\t\t\t\t\t\tyDist = math.fabs(basePol[1][1]-basePol[2][1])\n",
    "\n",
    "\t\t\t\t\t\t\t\t\t\t\t\"\"\" Condizioni per il tipo di casa da realizzare e per la diversa dimensione delle tracce \n",
    "\t\t\t\t\t\t\t\t\t\t\t\tper realizzare le finestre nei file svg \"\"\"\n",
    "\t\t\t\t\t\t\t\t\t\t\tif (flag != 1):\n",
    "\t\t\t\t\t\t\t\t\t\t\t\tif (xDist<yDist):\n",
    "\t\t\t\t\t\t\t\t\t\t\t\t\tyWin = 15.5\n",
    "\t\t\t\t\t\t\t\t\t\t\t\t\txWin = yDist\n",
    "\t\t\t\t\t\t\t\t\t\t\t\telse:\n",
    "\t\t\t\t\t\t\t\t\t\t\t\t\tyWin = yDist\n",
    "\t\t\t\t\t\t\t\t\t\t\t\t\txWin = 15.5\n",
    "\t\t\t\t\t\t\t\t\t\t\telse:\n",
    "\t\t\t\t\t\t\t\t\t\t\t\tif (xDist>yDist):\n",
    "\t\t\t\t\t\t\t\t\t\t\t\t\tyWin = 15.5\n",
    "\t\t\t\t\t\t\t\t\t\t\t\t\txWin = yDist\n",
    "\t\t\t\t\t\t\t\t\t\t\t\telse:\n",
    "\t\t\t\t\t\t\t\t\t\t\t\t\tyWin = yDist\n",
    "\t\t\t\t\t\t\t\t\t\t\t\t\txWin = 15.5\n",
    "\t\t\t\t\t\t\t\t\t\t\tfirstWindow = doorwindow.ggplWindow(xWindow,yWindow,occurrencyWindow)(xWin,yWin,80)\n",
    "\t\t\t\t\t\t\t\t\t\t\tfirstWindow = R([1,2])(-PI/2)(firstWindow)\n",
    "\t\t\t\t\t\t\t\t\t\t\tfirstWindow = T([1,2,3])([((basePol[0][0]+basePol[1][0])/2)-2,((basePol[1][1]+basePol[2][1])/2)+yDist/2,35])(firstWindow)\n",
    "\t\t\t\t\t\t\t\t\t\t\t\n",
    "\t\t\t\t\t\t\t\t\t\t\t\n",
    "\t\t\t\t\t\t\t\t\t\t\tgroundFloor = STRUCT([groundFloor,firstWindow])\n",
    "\t\t\t\t\t\t\t\t\t\t\tgroundFloor2 = STRUCT([groundFloor2,firstWindow])\n",
    "\t\t\t\t\t\t\t\t\t\t\tbasePol = []\n",
    "\t\t\t\t\t\t\t\t\t\t\tcont = 0 \n",
    "\n",
    "\t\t\t\t\t\t\t\t\"\"\" Inserimento porte all'interno dei piani dell'abitazione \"\"\"\n",
    "\n",
    "\t\t\t\t\t\t\t\twith open(\"lines/\"+doors + \".lines\", \"rb\") as file:\n",
    "\t\t\t\t\t\t\t\t\treader = csv.reader(file, delimiter=\",\")\n",
    "\t\t\t\t\t\t\t\t\tbasePol = []\n",
    "\t\t\t\t\t\t\t\t\tcont = 0\n",
    "\t\t\t\t\t\t\t\t\tfor line in reader:\n",
    "\t\t\t\t\t\t\t\t\t\tcont +=1\n",
    "\t\t\t\t\t\t\t\t\t\t#creating polygon base using vertices\n",
    "\t\t\t\t\t\t\t\t\t\tbasePol.append([float(line[0]),float(line[1])])\n",
    "\t\t\t\t\t\t\t\t\t\t#create a cube with 4 vertices and restart finding\n",
    "\t\t\t\t\t\t\t\t\t\tif(cont == 4):\n",
    "\t\t\t\t\t\t\t\t\t\t\txDist = math.fabs(basePol[0][0]-basePol[1][0])\n",
    "\t\t\t\t\t\t\t\t\t\t\tyDist = math.fabs(basePol[1][1]-basePol[2][1])\n",
    "\n",
    "\t\t\t\t\t\t\t\t\t\t\t\"\"\" Condizioni per il tipo di casa da realizzare e per la diversa dimensione delle tracce \n",
    "\t\t\t\t\t\t\t\t\t\t\t\tper realizzare le porte nei file svg \"\"\"\n",
    "\t\t\t\t\t\t\t\t\t\t\tif flag != 1:\n",
    "\t\t\t\t\t\t\t\t\t\t\t\tif (xDist<yDist):\n",
    "\t\t\t\t\t\t\t\t\t\t\t\t\tyDo = 12\n",
    "\t\t\t\t\t\t\t\t\t\t\t\t\txDo = yDist\n",
    "\t\t\t\t\t\t\t\t\t\t\t\t\tfirstDoor = doorwindow.ggplDoor(xDoor,yDoor,occurrencyDoor)(xDo,yDo,130)\n",
    "\t\t\t\t\t\t\t\t\t\t\t\t\tfirstDoor = R([1,2])(-PI/2)(firstDoor)\n",
    "\t\t\t\t\t\t\t\t\t\t\t\t\tfirstDoor = T([1,2,3])([((basePol[0][0]+basePol[1][0])/2)-1,((basePol[1][1]+basePol[2][1])/2)+yDist/2,0])(firstDoor)\n",
    "\t\t\t\t\t\t\t\t\t\t\t\telse:\n",
    "\t\t\t\t\t\t\t\t\t\t\t\t\tyDo = xDist\n",
    "\t\t\t\t\t\t\t\t\t\t\t\t\txDo = 12\n",
    "\t\t\t\t\t\t\t\t\t\t\t\t\tfirstDoor = doorwindow.ggplDoor(xDoor,yDoor,occurrencyDoor)(yDo,xDo,130)\n",
    "\t\t\t\t\t\t\t\t\t\t\t\t\tfirstDoor = R([1,2])(PI)(firstDoor)\n",
    "\t\t\t\t\t\t\t\t\t\t\t\t\tfirstDoor = T([1,2,3])([((basePol[0][0]+basePol[1][0])/2)+xDist/2,((basePol[1][1]+basePol[2][1])/2)+12,0])(firstDoor)\n",
    "\t\t\t\t\t\t\t\t\t\t\telse:\n",
    "\t\t\t\t\t\t\t\t\t\t\t\tif (xDist>yDist):\n",
    "\t\t\t\t\t\t\t\t\t\t\t\t\tyDo = 12\n",
    "\t\t\t\t\t\t\t\t\t\t\t\t\txDo = yDist\n",
    "\t\t\t\t\t\t\t\t\t\t\t\t\tfirstDoor = doorwindow.ggplDoor(xDoor,yDoor,occurrencyDoor)(xDo,yDo,130)\n",
    "\t\t\t\t\t\t\t\t\t\t\t\t\tfirstDoor = R([1,2])(-PI/2)(firstDoor)\n",
    "\t\t\t\t\t\t\t\t\t\t\t\t\tfirstDoor = T([1,2,3])([((basePol[0][0]+basePol[1][0])/2)-1,((basePol[1][1]+basePol[2][1])/2)+yDist/2,0])(firstDoor)\n",
    "\t\t\t\t\t\t\t\t\t\t\t\telse:\n",
    "\t\t\t\t\t\t\t\t\t\t\t\t\tyDo = xDist\n",
    "\t\t\t\t\t\t\t\t\t\t\t\t\txDo = 12\n",
    "\t\t\t\t\t\t\t\t\t\t\t\t\tfirstDoor = doorwindow.ggplDoor(xDoor,yDoor,occurrencyDoor)(yDo,xDo,130)\n",
    "\t\t\t\t\t\t\t\t\t\t\t\t\tfirstDoor = R([1,2])(PI)(firstDoor)\n",
    "\t\t\t\t\t\t\t\t\t\t\t\t\tfirstDoor = T([1,2,3])([((basePol[0][0]+basePol[1][0])/2)+xDist/2,((basePol[1][1]+basePol[2][1])/2)+12,0])(firstDoor)\n",
    "\n",
    "\t\t\t\t\t\t\t\t\t\t\tgroundFloor = STRUCT([groundFloor,firstDoor])\n",
    "\t\t\t\t\t\t\t\t\t\t\tif flag == 1:\n",
    "\t\t\t\t\t\t\t\t\t\t\t\tgroundFloor2 = STRUCT([groundFloor2,firstDoor])\n",
    "\t\t\t\t\t\t\t\t\t\t\t\n",
    "\t\t\t\t\t\t\t\t\t\t\tbasePol = []\n",
    "\t\t\t\t\t\t\t\t\t\t\tcont = 0\n",
    "\t\t\t\t\t\t\t\t\n",
    "\t\t\t\t\t\t\t\t\"\"\" Inserimento porte all'interno dei piani dell'abitazione con muri interni differenti \"\"\"\n",
    "\t\t\t\t\t\t\t\tif flag != 1:\n",
    "\t\t\t\t\t\t\t\t\twith open(\"lines/\"+secondFloor + \".lines\", \"rb\") as file:\n",
    "\t\t\t\t\t\t\t\t\t\treader = csv.reader(file, delimiter=\",\")\n",
    "\t\t\t\t\t\t\t\t\t\tbasePol = []\n",
    "\t\t\t\t\t\t\t\t\t\tcont = 0\n",
    "\t\t\t\t\t\t\t\t\t\tfor line in reader:\n",
    "\t\t\t\t\t\t\t\t\t\t\tcont +=1\n",
    "\t\t\t\t\t\t\t\t\t\t\t#creating polygon base using vertices\n",
    "\t\t\t\t\t\t\t\t\t\t\tbasePol.append([float(line[0]),float(line[1])])\n",
    "\t\t\t\t\t\t\t\t\t\t\t#create a cube with 4 vertices and restart finding\n",
    "\t\t\t\t\t\t\t\t\t\t\tif(cont == 4):\n",
    "\t\t\t\t\t\t\t\t\t\t\t\txDist = math.fabs(basePol[0][0]-basePol[1][0])\n",
    "\t\t\t\t\t\t\t\t\t\t\t\tyDist = math.fabs(basePol[1][1]-basePol[2][1])\n",
    "\t\t\t\t\t\t\t\t\t\t\t\tif (xDist<yDist):\n",
    "\t\t\t\t\t\t\t\t\t\t\t\t\tyDo = 12\n",
    "\t\t\t\t\t\t\t\t\t\t\t\t\txDo = yDist\n",
    "\t\t\t\t\t\t\t\t\t\t\t\t\tfirstDoor = doorwindow.ggplDoor(xDoor,yDoor,occurrencyDoor)(xDo,yDo,130)\n",
    "\t\t\t\t\t\t\t\t\t\t\t\t\tfirstDoor = R([1,2])(-PI/2)(firstDoor)\n",
    "\t\t\t\t\t\t\t\t\t\t\t\t\tfirstDoor = T([1,2,3])([((basePol[0][0]+basePol[1][0])/2)-1,((basePol[1][1]+basePol[2][1])/2)+yDist/2,0])(firstDoor)\n",
    "\t\t\t\t\t\t\t\t\t\t\t\telse:\n",
    "\t\t\t\t\t\t\t\t\t\t\t\t\tyDo = xDist\n",
    "\t\t\t\t\t\t\t\t\t\t\t\t\txDo = 12\n",
    "\t\t\t\t\t\t\t\t\t\t\t\t\tfirstDoor = doorwindow.ggplDoor(xDoor,yDoor,occurrencyDoor)(yDo,xDo,130)\n",
    "\t\t\t\t\t\t\t\t\t\t\t\t\tfirstDoor = R([1,2])(PI)(firstDoor)\n",
    "\t\t\t\t\t\t\t\t\t\t\t\t\tfirstDoor = T([1,2,3])([((basePol[0][0]+basePol[1][0])/2)+xDist/2,((basePol[1][1]+basePol[2][1])/2)+12,0])(firstDoor)\n",
    "\t\t\t\t\t\t\t\t\t\t\t\t\n",
    "\n",
    "\t\t\t\t\t\t\t\t\t\t\t\t\n",
    "\t\t\t\t\t\t\t\t\t\t\t\tgroundFloor2 = STRUCT([groundFloor2,firstDoor])\n",
    "\t\t\t\t\t\t\t\t\t\t\t\tbasePol = []\n",
    "\t\t\t\t\t\t\t\t\t\t\t\tcont = 0\n",
    "\n",
    "\t\t\t\t\t\t\t\t\"\"\" Realizzazione scale \"\"\"\n",
    "\n",
    "\t\t\t\t\t\t\t\twith open(\"lines/\"+stair + \".lines\", \"rb\") as file:\n",
    "\t\t\t\t\t\t\t\t\treader = csv.reader(file, delimiter=\",\")\n",
    "\t\t\t\t\t\t\t\t\tstairPol = []\n",
    "\t\t\t\t\t\t\t\t\tfor line in reader:\n",
    "\t\t\t\t\t\t\t\t\t\tstairPol.append([float(line[0]),float(line[1])])\n",
    "\t\t\t\t\t\t\t\txStair =  math.fabs(stairPol[0][0]-stairPol[1][0])\n",
    "\t\t\t\t\t\t\t\tyStair =  math.fabs(stairPol[1][1]-stairPol[2][1])\n",
    "\t\t\t\t\t\t\t\tzStair = storeys*150/2\n",
    "\t\t\t\t\t\t\t\tif xStair ==0 or yStair ==0:\n",
    "\t\t\t\t\t\t\t\t\tif flag==1:\n",
    "\t\t\t\t\t\t\t\t\t\txStair =  math.fabs(stairPol[0][0]-stairPol[2][0])-5\n",
    "\t\t\t\t\t\t\t\t\t\tyStair =  math.fabs(stairPol[0][1]-stairPol[1][1])-5\n",
    "\t\t\t\t\t\t\t\t\t\t\n",
    "\t\t\t\t\t\t\t\t\telse:\n",
    "\t\t\t\t\t\t\t\t\t\txStair =  math.fabs(stairPol[0][0]-stairPol[2][0])\n",
    "\t\t\t\t\t\t\t\t\t\tyStair =  math.fabs(stairPol[0][1]-stairPol[1][1])\n",
    "\t\t\t\t\t\t\t\t\n",
    "\t\t\t\t\t\t\t\t\"\"\" Condizione per realizzare il tipo di scala congeniale con l'abitazione per rotazione e posizione del pianerottolo di uscita\"\"\"\n",
    "\t\t\t\t\t\t\t\tif flag!=1:\n",
    "\t\t\t\t\t\t\t\t\thouseStair = stairs.ggpl_spiral_staircase(xStair*0.015,yStair*0.015,150*0.017*storeys*2)\n",
    "\t\t\t\t\t\t\t\t\thouseStair = S(3)(0.5)(houseStair)\n",
    "\t\t\t\t\t\t\t\t\thouseStair = R([1,2])(PI)(houseStair)\n",
    "\t\t\t\t\t\t\t\t\thouseStair = T([1,2])([stairPol[2][0]*0.015+6*0.015,stairPol[2][1]*0.015+6*0.015])(houseStair)\n",
    "\t\t\t\t\t\t\t\telse:\n",
    "\t\t\t\t\t\t\t\t\thouseStair = stairs.ggpl_spiral_staircase(yStair*0.015,xStair*0.015,150*0.0125*storeys*2)\n",
    "\t\t\t\t\t\t\t\t\thouseStair = S(3)(0.5)(houseStair)\n",
    "\t\t\t\t\t\t\t\t\thouseStair = R([1,2])(PI/2)(houseStair)\n",
    "\t\t\t\t\t\t\t\t\thouseStair = T([1,2])([stairPol[2][0]*0.015+6*0.015,stairPol[2][1]*0.015+6*0.015-yStair*0.015])(houseStair)\n",
    "\n",
    "\t\t\t\t\t\t\t\t\"\"\" Realizzazione tetto \"\"\"\n",
    "\n",
    "\t\t\t\t\t\t\t\twith open(\"lines/\"+roofPol + \".lines\", \"rb\") as file:\n",
    "\t\t\t\t\t\t\t\t\treader = csv.reader(file, delimiter=\",\")\n",
    "\t\t\t\t\t\t\t\t\troofArray = []\n",
    "\t\t\t\t\t\t\t\t\tfor line in reader:\n",
    "\t\t\t\t\t\t\t\t\t\troofArray.append([float(line[0]),float(line[1])])\n",
    "\t\t\t\t\t\t\t\thfloor = 0.0118\n",
    "\t\t\t\t\t\t\t\tif flag != 1:\n",
    "\t\t\t\t\t\t\t\t\thfloor = 0.0171\n",
    "\n",
    "\t\t\t\t\t\t\t\tgroundFloor = S([1,2,3])([0.015,0.015,hfloor])(groundFloor)\n",
    "\t\t\t\t\t\t\t\tgroundFloor2 = S([1,2,3])([0.015,0.015,hfloor])(groundFloor2)\n",
    "\t\t\t\t\t\t\t\t\n",
    "\t\t\t\t\t\t\t\tg = groundFloor2\n",
    "\t\t\t\t\t\t\t\tfor i in range(storeys-1):\n",
    "\t\t\t\t\t\t\t\t\totherFloor = T(3)((i+1)*150*hfloor)(g)\n",
    "\t\t\t\t\t\t\t\t\tgroundFloor = STRUCT([groundFloor,otherFloor])\n",
    "\n",
    "\t\t\t\t\t\t\t\thouseRoof = roof.builder_roof(roofPol)\n",
    "\t\t\t\t\t\t\t\thouseRoof = S([1,2,3])([0.015,0.015,hfloor])(houseRoof)\n",
    "\t\t\t\t\t\t\t\tfinalHouse = STRUCT([groundFloor,houseStair])\n",
    "\t\t\t\t\t\t\t\t\n",
    "\t\t\t\t\t\t\t\tcentroid = roof.centroid_of_polygon(roofArray)\n",
    "\t\t\t\t\t\t\t\thouseRoof= T([1,2,3])([centroid[0]*0.015+27*0.015,centroid[1]*0.015+9*0.015,zStair*hfloor*4])(houseRoof)\n",
    "\t\t\t\t\t\t\t\thouseRoof = TEXTURE(\"texture/tetto3.jpg\")(houseRoof)\n",
    "\t\t\t\t\t\t\t\thouseRoof = S([1,2,3])([1.15,1.15,0.5])(houseRoof)\n",
    "\n",
    "\t\t\t\t\t\t\t\t\"\"\" Condizione per ridimensionare il tetto in maniera opportuna a seconda del tipo di casa \"\"\"\n",
    "\n",
    "\t\t\t\t\t\t\t\tif flag == 1:\n",
    "\t\t\t\t\t\t\t\t\thouseRoof = T([1,2])([-SIZE([1])(houseRoof)[0]*0.095,-SIZE([2])(houseRoof)[0]*0.095]) (houseRoof)\n",
    "\t\t\t\t\t\t\t\telse:\n",
    "\t\t\t\t\t\t\t\t\thouseRoof = T([1,2])([-SIZE([1])(houseRoof)[0]*0.245,-SIZE([2])(houseRoof)[0]*0.075]) (houseRoof)\n",
    "\n",
    "\t\t\t\t\t\t\t\t\"\"\" Creazione vialetto/giardino di casa \"\"\"\n",
    "\t\t\t\t\t\t\t\thouseGarden = house.builder_2D(garden)\n",
    "\t\t\t\t\t\t\t\thouseGarden = S([1,2])([2,2])(houseGarden)\n",
    "\t\t\t\t\t\t\t\thouseGarden = T([1,2])([-(SIZE([1])(houseGarden)[0])/4,-(SIZE([2])(houseGarden)[0])/4])(houseGarden)\n",
    "\t\t\t\t\t\t\t\thouseGarden = SOLIDIFY(houseGarden)\n",
    "\t\t\t\t\t\t\t\thouseGarden = DIFFERENCE([houseGarden,f])\n",
    "\t\t\t\t\t\t\t\thouseGarden = S([1,2])([0.015,0.015])(houseGarden)\n",
    "\n",
    "\t\t\t\t\t\t\t\t\"\"\" Valore randomico per la scelta della texture da utilizzare \"\"\"\n",
    "\t\t\t\t\t\t\t\trandom = randint(1,4)\n",
    "\t\t\t\t\t\t\t\thouseGarden = TEXTURE(\"textureVialetto/vialetto\"+str(random)+\".jpg\")(houseGarden)\n",
    "\t\t\t\t\t\t\t\tfinalHouse = STRUCT([finalHouse,houseGarden])\n",
    "\t\t\t\t\t\t\t\tfinalHouse = STRUCT([finalHouse,houseRoof])\n",
    "\t\t\t\t\t\t\t\tfinalHouse = S([1,2,3])([2,2,1.5])(finalHouse)\n",
    "\t\t\t\t\t\t\t\treturn finalHouse\n",
    "\t\t\t\t\t\t\treturn garden\n",
    "\t\t\t\t\t\treturn houseRoof\n",
    "\t\t\t\t\treturn houseStair\n",
    "\t\t\t\treturn houseDoors\n",
    "\t\t\treturn houseWindows\n",
    "\t\treturn houseFloor\n",
    "\treturn singleStoreyBuilder\n",
    "\n",
    "\n",
    "if __name__=='__main__':\n",
    "\tVIEW(fullHouseBuilder(1,0)(\"muri_esterni\",\"muri_interni\",\"doors\",\"windows\",\"doors2\")(\"muri_esterni\")(xWindow,yWindow,occurrencyWindow)(xDoor,yDoor,occurrencyDoor)(\"stair\")(\"muri_esterni\")(\"garden\"))\n",
    "\tVIEW(fullHouseBuilder(1,1)(\"muri_esterniCasa2\",\"muri_interniCasa2\",\"doorsCasa2\",\"windowsCasa2\",\"muri_esterni_2Casa2\")(\"perimetroCasa2\")(xWindow,yWindow,occurrencyWindow)(xDoor,yDoor,occurrencyDoor)(\"stairCasa2\")(\"roofCasa2\")(\"gardenCasa2\"))"
   ]
  },
  {
   "cell_type": "markdown",
   "metadata": {},
   "source": [
    "## Risultato finale:"
   ]
  },
  {
   "cell_type": "markdown",
   "metadata": {},
   "source": [
    "<table> <tbody> <tr> <td> <img src='img2/casa1.jpg'> </td> <td> <img src='img2/casa2.jpg'> </td> </tr> <tr> <td> <img src='img2/casa1_2.jpg'> </td> <td> <img src='img2/casa2_2.jpg'> </td> </tr> </tbody> </table>"
   ]
  }
 ],
 "metadata": {
  "anaconda-cloud": {},
  "kernelspec": {
   "display_name": "Python [default]",
   "language": "python",
   "name": "python2"
  },
  "language_info": {
   "codemirror_mode": {
    "name": "ipython",
    "version": 2
   },
   "file_extension": ".py",
   "mimetype": "text/x-python",
   "name": "python",
   "nbconvert_exporter": "python",
   "pygments_lexer": "ipython2",
   "version": "2.7.12"
  }
 },
 "nbformat": 4,
 "nbformat_minor": 1
}
