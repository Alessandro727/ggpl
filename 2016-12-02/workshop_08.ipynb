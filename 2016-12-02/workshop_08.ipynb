{
 "cells": [
  {
   "cell_type": "markdown",
   "metadata": {},
   "source": [
    "# Solid models from .SVG drawings"
   ]
  },
  {
   "cell_type": "markdown",
   "metadata": {},
   "source": [
    " The goal of this workshop is to quickly produce a solid model of a house starting from an image of its plan drawing."
   ]
  },
  {
   "cell_type": "markdown",
   "metadata": {},
   "source": [
    "## Reference image"
   ]
  },
  {
   "cell_type": "markdown",
   "metadata": {},
   "source": [
    "<img src='img/plan.jpg'>"
   ]
  },
  {
   "cell_type": "markdown",
   "metadata": {},
   "source": [
    "### Files"
   ]
  },
  {
   "cell_type": "markdown",
   "metadata": {},
   "source": [
    "Through the use of some .lines files the code can create a solid model of a house. The .lines files were made by applying a script to some .svg files made through the use of Inkscape software."
   ]
  },
  {
   "cell_type": "markdown",
   "metadata": {},
   "source": [
    "### Code"
   ]
  },
  {
   "cell_type": "code",
   "execution_count": null,
   "metadata": {
    "collapsed": true
   },
   "outputs": [],
   "source": [
    "from larlib import *\n",
    "import csv\n",
    "\n",
    "def builder_2D(fileName):\n",
    "\twith open(\"lines/\"+fileName +  \".lines\", \"rb\") as file:\n",
    "\t\treader = csv.reader(file, delimiter=\",\")\n",
    "\t\twall = []\n",
    "\t\tfor row in reader:\n",
    "\t\t\twall.append(POLYLINE([[float(row[0]), float(row[1])],[float(row[2]), float(row[3])]]))\n",
    "\twall = STRUCT(wall)\n",
    "\n",
    "\treturn wall\n",
    "\n",
    "def hole_builder(fileName):\n",
    "\twith open(\"lines/\"+fileName + \".lines\", \"rb\") as file:\n",
    "\t\treader = csv.reader(file, delimiter=\",\")\n",
    "\t\tholes = []\n",
    "\t\tbasePol = []\n",
    "\t\tcont = 0\n",
    "\t\tfor line in reader:\n",
    "\t\t\tcont +=1\n",
    "\t\t\t#creating polygon base using vertices\n",
    "\t\t\tbasePol.append([float(line[0]),float(line[1])])\n",
    "\t\t\t#create a cube with 4 vertices and restart finding\n",
    "\t\t\tif(cont == 4):\n",
    "\t\t\t\tholes.append(MKPOL([basePol,[[1,2,3,4]],None]))\n",
    "\t\t\t\tbasePol = []\n",
    "\t\t\t\tcont = 0\n",
    "\tholes = STRUCT(holes)\n",
    "\treturn holes\n",
    "\n",
    "def house_builder():\n",
    "\n",
    "\text_wall_2D = builder_2D(\"ext_wall\")\n",
    "\tfloor = SOLIDIFY(ext_wall_2D)\n",
    "\tfloor = TEXTURE(\"texture/parquet.jpg\")(floor)\n",
    "\n",
    "\n",
    "\textwalls = OFFSET([12,12])(ext_wall_2D)\n",
    "\textwalls = PROD([extwalls, Q(150)])\n",
    "\t\n",
    "\tint_wall_2D = builder_2D(\"int_wall\")\n",
    "\n",
    "\tintwalls = OFFSET([12,12])(int_wall_2D)\n",
    "\tintwalls = PROD([intwalls, Q(150)])\n",
    "\n",
    "\tdoor = hole_builder(\"doors\")\n",
    "\tdoor = PROD([door, Q(130)])\n",
    "\n",
    "\twindow = hole_builder(\"window\")\n",
    "\twindow = PROD([window, Q(80)])\n",
    "\twindow = T(3)(35)(window)\n",
    "\n",
    "\twalls = STRUCT([extwalls,intwalls])\n",
    "\n",
    "\thouse = DIFFERENCE([walls,door,window])\n",
    "\thouse = TEXTURE(\"texture/ext_wall.jpg\")(house)\n",
    "\n",
    "\treturn STRUCT([house,floor])\n",
    "\n",
    "\n",
    "if __name__=='__main__':\n",
    "\tVIEW(house_builder())"
   ]
  },
  {
   "cell_type": "markdown",
   "metadata": {},
   "source": [
    "## Result"
   ]
  },
  {
   "cell_type": "markdown",
   "metadata": {},
   "source": [
    "<img src='img/pianta.jpg'>\n",
    "<img src='img/pianta2.jpg'>"
   ]
  }
 ],
 "metadata": {
  "anaconda-cloud": {},
  "kernelspec": {
   "display_name": "Python [default]",
   "language": "python",
   "name": "python2"
  },
  "language_info": {
   "codemirror_mode": {
    "name": "ipython",
    "version": 2
   },
   "file_extension": ".py",
   "mimetype": "text/x-python",
   "name": "python",
   "nbconvert_exporter": "python",
   "pygments_lexer": "ipython2",
   "version": "2.7.12"
  }
 },
 "nbformat": 4,
 "nbformat_minor": 1
}
