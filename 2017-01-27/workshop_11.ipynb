{
 "cells": [
  {
   "cell_type": "markdown",
   "metadata": {},
   "source": [
    "# Workshop N.11 -- Housing: suburban neighborhood design"
   ]
  },
  {
   "cell_type": "markdown",
   "metadata": {},
   "source": [
    "Lo scopo di questo workshop è quello di realizzare un intero vicinato o quartiere andando ad inserire all'interno di quest ultimo diversi elementi realizzati anche attraverso l'utilizzo dei precedenti workshop.\n",
    "\n",
    "E' stato scelto di creare una rappresentazione di una parte del quartiere EUR di roma. L'immagine di riferimento è quindi la seguente:"
   ]
  },
  {
   "cell_type": "markdown",
   "metadata": {},
   "source": [
    "## Quartiere da realizzare:"
   ]
  },
  {
   "cell_type": "markdown",
   "metadata": {},
   "source": [
    "<img src='img/planimetriaEur.jpg'>"
   ]
  },
  {
   "cell_type": "markdown",
   "metadata": {},
   "source": [
    "## Anteprima risultato finale:"
   ]
  },
  {
   "cell_type": "markdown",
   "metadata": {},
   "source": [
    "<table> <tbody> <tr> <td> <img src='img/img3.jpg'> </td> <td> <img src='img/img2.jpg'> </td> </tr> <tr> <td> <img src='img/fotoAlto.jpg'> </td> <td> <img src='img/img1.jpg'> </td> </tr> </tbody> </table>"
   ]
  },
  {
   "cell_type": "markdown",
   "metadata": {},
   "source": [
    "Il numero di oggetti inseriti è limitato in quanto già con questa composizione il codice produce un input di quasi 500000 batches. "
   ]
  },
  {
   "cell_type": "markdown",
   "metadata": {},
   "source": [
    "## Dettagli del modello:"
   ]
  },
  {
   "cell_type": "markdown",
   "metadata": {},
   "source": [
    "### Strade:"
   ]
  },
  {
   "cell_type": "markdown",
   "metadata": {},
   "source": [
    "Le strade sono state realizzate attravero l'utilizzo del software Inskscape per la creazione di un file .lines. Quest'ultimo è stato poi utilizzato per ricavare i punti da applicare alla funzione in grado di generare le curve di Bézier. Di seguito è presente la parte di codice incaricata di eseguire quanto spiegato."
   ]
  },
  {
   "cell_type": "code",
   "execution_count": null,
   "metadata": {
    "collapsed": true
   },
   "outputs": [],
   "source": [
    "with open(\"lines/\"+filename + \".lines\", \"rb\") as file:\n",
    "\t\treader = csv.reader(file, delimiter=\",\")\n",
    "\t\tstreet = []\n",
    "\t\tfor line in reader:\n",
    "\t\t\tstreet.append([float(line[0]),float(line[1])])\n",
    "\t\t\tstreet.append([float(line[2]),float(line[3])])\n",
    "\n",
    "\tcurve = []\n",
    "\tcurva = []\n",
    "\tcont = 0\n",
    "\tfor i in range(len(street)):\n",
    "\t\tcurva.append(street[i])\n",
    "\t\tcont += 1\n",
    "\t\tif cont == 2:\n",
    "\t\t\tstrada = MAP(BEZIER(S1)(curva))(INTERVALS(1)(5))\n",
    "\t\t\tcurva = []\n",
    "\t\t\tcurve.append(strada)\n",
    "\t\t\tcont= 0\n",
    "\tcurve = STRUCT(curve)"
   ]
  },
  {
   "cell_type": "markdown",
   "metadata": {},
   "source": [
    "<table> <tbody> <tr> <td> <img src='img/strada.jpg'> </td> <td> <img src='img/strada2.jpg'> </td> </tr> </tbody> </table>"
   ]
  },
  {
   "cell_type": "markdown",
   "metadata": {},
   "source": [
    "Sempre attraverso lo stesso file .lines è stato realizzato un secondo complesso di strade che è stato successivamente colorato di bianco, ingrandita e opportunamente traslata per aumentare l'effetto finale."
   ]
  },
  {
   "cell_type": "markdown",
   "metadata": {},
   "source": [
    "### Edifici:"
   ]
  },
  {
   "cell_type": "markdown",
   "metadata": {},
   "source": [
    "Gli edifici presenti nel modello sono stati realizzati utilizzando la funzione realizzata per il workshop 10."
   ]
  },
  {
   "cell_type": "markdown",
   "metadata": {},
   "source": [
    "<table> <tbody> <tr> <td> <img src='img/edifici.jpg'> </td> <td> <img src='img/edifici2.jpg'> </td> </tr> </tbody> </table>"
   ]
  },
  {
   "cell_type": "markdown",
   "metadata": {},
   "source": [
    "### PalaLottomatica:"
   ]
  },
  {
   "cell_type": "markdown",
   "metadata": {},
   "source": [
    "Nella zona rappresentata è presente il Palazzo dello Sport di Roma, conosciuto anche come PalaLottomatica. E' stata quindi ricreata una rappresentazione il più simile possibile anche di quest'ultimo."
   ]
  },
  {
   "cell_type": "markdown",
   "metadata": {},
   "source": [
    "<table> <tbody> <tr> <td> <img src='img/palalottomatica.jpg'> </td> <td> <img src='img/palalottomatica2.jpg'> </td> </tr> </tbody> </table>"
   ]
  },
  {
   "cell_type": "markdown",
   "metadata": {},
   "source": [
    "La funzione per realizzare tale struttura è la seguente:"
   ]
  },
  {
   "cell_type": "code",
   "execution_count": null,
   "metadata": {
    "collapsed": true
   },
   "outputs": [],
   "source": [
    "from src import albero as al\n",
    "\n",
    "def palalottomatica():\n",
    "\tpala0 = CYLINDER([30,1])(30)\n",
    "\tpala = pala0\n",
    "\tfor i in range(5):\n",
    "\t    pala = TOP([pala,pala0])\n",
    "\tpala = COLOR(WHITE)(SKELETON(1)(pala))\n",
    "\tinterno = CYLINDER([30,6])(30)\n",
    "\tpala = COLOR(GRAY)(OFFSET([0.3,0.3,0.3])(pala))\n",
    "\tinterno = COLOR([90/255.0,118/255.0,150/255.0,1])(interno)\n",
    "\tcopertura = CONE([30,3.5])(50)\n",
    "\tcopertura = T(3)([6])(copertura)\n",
    "\tcopertura2 = CONE([8,3.5])(50)\n",
    "\tcopertura2 = T(3)([7.5])(copertura2)\n",
    "\tcopertura = STRUCT([copertura,copertura2])\n",
    "\talbero = al.albero()\n",
    "\talbero = T(1)([40])(albero)\n",
    "\talberi = STRUCT([albero])\n",
    "\tfor i in range(17):\n",
    "\t\talbero2 = R([1,2])((i+1)*20/57.324)(albero)\n",
    "\t\talberi = STRUCT([alberi,albero2])\n",
    "\tpala = STRUCT([pala,interno,copertura])\n",
    "\tpala = S(3)([2])(pala)\n",
    "\tpala = STRUCT([pala,alberi])\n",
    "\treturn pala"
   ]
  },
  {
   "cell_type": "markdown",
   "metadata": {},
   "source": [
    "### Alberi ed automobili:"
   ]
  },
  {
   "cell_type": "markdown",
   "metadata": {},
   "source": [
    "All'interno del modello sono stati inseriti alcuni modelli più piccoli di alberi ed automobili per cercare di rendere la rappresentazione del quartiere finale più realistica. I colori con cui vengono realizzati le macchine e le foglie degli alberi sono randomici."
   ]
  },
  {
   "cell_type": "markdown",
   "metadata": {},
   "source": [
    "<table> <tbody> <tr> <td> <img src='img/autoalb.jpg'> </td> <td> <img src='img/albero.jpg'> <td> <img src='img/auto.jpg'> </td> </tr> </tbody> </table>"
   ]
  },
  {
   "cell_type": "markdown",
   "metadata": {},
   "source": [
    "Le funzioni per ricreare alberi ed automobili sono i seguenti:"
   ]
  },
  {
   "cell_type": "code",
   "execution_count": null,
   "metadata": {
    "collapsed": true
   },
   "outputs": [],
   "source": [
    "\"\"\" Albero \"\"\"\n",
    "def base():\n",
    "    return STRUCT([COLOR([161/255.0,111/255.0,78/255.0,1])((PROD([CIRCLE(0.95)([30,1]),Q(0.02)]))),\n",
    "           T(3)(0.03)(COLOR(RED)(TORUS([0.9,1.0])([30,3])))\n",
    "           ])\n",
    "\n",
    "def foglie():\n",
    "    celement = T(3)(0.2)(R([1,2])(PI)(S(3)(2)(SPHERE(0.3)([8,8]))))\n",
    "    sramo = (CYLINDER([0.1,0.8])(15))\n",
    "    sram = STRUCT([sramo,S([1,2,3])([2.9,2.9,2.3])(celement)])\n",
    "    sramo = T(1)(0.15)(R([1,3])(-1*PI/4)(sramo))\n",
    "    sramo = STRUCT([sramo,T(1)(0.7)(S([1,2,3])([3,3,2])(celement))])\n",
    "    for i in range(5):\n",
    "        el = R([1,2])(i*2*PI/5)(sramo)\n",
    "        sram = STRUCT([sram,el])\n",
    "    sram = T(3)(4.5)(sram)\n",
    "    random = randint(1,4)\n",
    "    sram = TEXTURE(\"texture/foglie\"+str(random)+\".jpg\")(sram)\n",
    "    return sram\n",
    "\n",
    "def tronco():\n",
    "\treturn TEXTURE(\"texture/tronco.jpg\")(CYLINDER([0.2,5])(40))\n",
    "\n",
    "def albero():\n",
    "\treturn STRUCT([base(),foglie(),tronco()])\n",
    "\n",
    "\"\"\" Automobile \"\"\"\n",
    "def car():\n",
    "\ttelaio = CUBOID([1.8,4.5,0.05])\n",
    "\ttelaio = T(3)([0.35]) (telaio)\n",
    "\truota = CIRCLE(0.35)([40,40])\n",
    "\n",
    "\truota = PROD([Q(0.4),ruota])\n",
    "\truota1 = T([1,2,3])([0,0.9,0.35])(ruota)\n",
    "\truota2 = T([1,2,3])([0,3.6,0.35])(ruota)\n",
    "\t\n",
    "\truote = STRUCT([ruota1,ruota2])\n",
    "\truote = T(1)([-0.05])(ruote)\n",
    "\truote3_4 = T(1)([1.5])(ruote)\n",
    "\truote = STRUCT([ruote,ruote3_4])\n",
    "\truote = COLOR(BLACK)(ruote)\n",
    "\n",
    "\tparaurtiAnteriore = CUBOID([1.8,0.05,0.8])\n",
    "\tparaurtiPosteriore = CUBOID([1.8,0.05,0.7])\n",
    "\tparaurtiPosteriore = T(3)([0.35])(paraurtiPosteriore)\n",
    "\tparaurtiAnteriore = R([2,3])(0.3489)(paraurtiAnteriore)\n",
    "\tparaurtiAnteriore = T([2,3])([4.5,0.35])(paraurtiAnteriore)\n",
    "\n",
    "\tportabagagli = CUBOID([1.8,0.9,0.05])\n",
    "\tportabagagli = T(3)([1.05])(portabagagli)\n",
    "\n",
    "\tcofano = CUBOID([1.8,1.5,0.05])\n",
    "\tcofano = T([2,3])([2.8,1.05])(cofano)\n",
    "\t\n",
    "\n",
    "\tcar = STRUCT([telaio,paraurtiAnteriore,paraurtiPosteriore])\n",
    "\tcar = STRUCT([car,portabagagli,cofano])\n",
    "\n",
    "\tscocca = MKPOL([[[0,0.9,0],[0.3,1.2,0.7],[0.3,2.5,0.7],[0,2.8,0]],[[1,2,3,4]],None])\n",
    "\tscocca2 = MKPOL([[[0,2.8,0],[0.3,2.5,0.7],[1.5,2.5,0.7],[1.8,2.8,0]],[[1,2,3,4]],None])\n",
    "\tscocca3 = MKPOL([[[1.8,0.9,0],[1.5,1.2,0.7],[1.5,2.5,0.7],[1.8,2.8,0]],[[1,2,3,4]],None])\n",
    "\tscocca4 = MKPOL([[[1.8,0.9,0],[1.5,1.2,0.7],[0.3,1.2,0.7],[0,0.9,0]],[[1,2,3,4]],None])\n",
    "\tscocca = STRUCT([scocca,scocca2,scocca3])\n",
    "\tscocca = STRUCT([scocca,scocca4])\n",
    "\tscocca = T(3)([1.05])(scocca)\n",
    "\tvetri = COLOR([93/255.0,188/255.0,210/255.0,1])(scocca)\n",
    "\tscoccaskel = SKELETON(1)(scocca)\n",
    "\t\n",
    "\ttetto = MKPOL([[[0.3,1.2,1.75],[0.3,2.5,1.75],[1.5,2.5,1.75],[1.5,1.2,1.75]],[[1,2,3,4]],None])\n",
    "\tcar = STRUCT([car,tetto,scoccaskel])\n",
    "\trandom1=randint(0,255)\n",
    "\trandom2=randint(0,255)\n",
    "\trandom3=randint(0,255)\n",
    "\n",
    "\t\n",
    "\tfiancata = MKPOL([[[0,0,0.35],[0,4.5,0.35],[0,4.3,1.05],[0,0,1.05]],[[1,2,3,4]],None])\n",
    "\tfiancata1 = MKPOL([[[0,0,0.35],[0,4.5,1.05],[0,4.3,0.35],[0,0,1.05]],[[1,2,3,4]],None])\n",
    "\tfiancata1 = R([1,3])(PI)(fiancata1)\n",
    "\tfiancata1 = T(3)([01.4])(fiancata1)\n",
    "\tfiancata2 = T(1)([1.8])(fiancata)\n",
    "\tcar = STRUCT([car,fiancata1,fiancata2])\n",
    "\n",
    "\tcar = MATERIAL([.01,.01,.01,1,  random1/255.0,random2/255.0,random3/255.0,1,  0,0,0,1, 0,0,0,1, 1])(car)\n",
    "\n",
    "\tfaroPosteriore = CUBOID([0.4,0.05,0.2])\n",
    "\tfaroPosteriore = T([1,2,3])([0.2,-0.05,0.7])(faroPosteriore)\n",
    "\tfaroPosteriore2 = T([1,2,3])([1,0,0])(faroPosteriore)\n",
    "\n",
    "\tfari = STRUCT([faroPosteriore,faroPosteriore2])\n",
    "\t\n",
    "\tfariAnteriori = R([2,3])(0.3489)(fari)\n",
    "\tfariAnteriori = T(2)([4.7])(fariAnteriori)\n",
    "\n",
    "\tfariAnteriori = COLOR([236/255.0,237/255.0,280/255.0,1])(fariAnteriori)\n",
    "\tfari = COLOR(RED)(fari)\n",
    "\n",
    "\tcar = STRUCT([car,fari,fariAnteriori])\n",
    "\n",
    "\treturn STRUCT([car,ruote,vetri])"
   ]
  },
  {
   "cell_type": "markdown",
   "metadata": {},
   "source": [
    "### Fermata metro EUR Palasport"
   ]
  },
  {
   "cell_type": "markdown",
   "metadata": {},
   "source": [
    "All'interno del quartiere è presenre la fermata della metro EUR Palasport. E' stato deciso di rappresentarla andando ad inserire due cartelli contenenti il logo della metro."
   ]
  },
  {
   "cell_type": "markdown",
   "metadata": {},
   "source": [
    "<table> <tbody> <tr> <td> <img src='img/metro.jpg'> </td> <td> <img src='img/metro2.jpg'> </td> </tr> </tbody> </table>"
   ]
  },
  {
   "cell_type": "markdown",
   "metadata": {},
   "source": [
    "Il codice per realizzare la segnaletica della metropolitana è il seguente:"
   ]
  },
  {
   "cell_type": "code",
   "execution_count": null,
   "metadata": {
    "collapsed": true
   },
   "outputs": [],
   "source": [
    "def metro():\n",
    "\tpalo = COLOR(BLACK)(CYLINDER([0.05,3])(40))\n",
    "\tinsegna = TEXTURE(\"texture/metro.png\")(CUBOID([0.6,0.1,0.6]))\n",
    "\tinsegna = T([1,2,3])([-0.3,-0.05,3])(insegna)\n",
    "\treturn STRUCT([insegna,palo])"
   ]
  },
  {
   "cell_type": "markdown",
   "metadata": {},
   "source": [
    "### Distributore benzina:"
   ]
  },
  {
   "cell_type": "markdown",
   "metadata": {},
   "source": [
    "Come ultimo modello è stto scelto di rappresentare un distributore di benzina come è possibile vedere nella seguente immagine."
   ]
  },
  {
   "cell_type": "markdown",
   "metadata": {},
   "source": [
    "<table> <tbody> <tr> <td> <img src='img/eni.jpg'> </td> <td> <img src='img/eni2.jpg'> </td> </tr> </tbody> </table>"
   ]
  },
  {
   "cell_type": "markdown",
   "metadata": {},
   "source": [
    "La funzione è la seguente:"
   ]
  },
  {
   "cell_type": "code",
   "execution_count": null,
   "metadata": {
    "collapsed": true
   },
   "outputs": [],
   "source": [
    "def distributore():\n",
    "\tpompa = CUBOID([2,8,0.25])\n",
    "\tpilastri = CUBOID([0.6,0.6,5])\n",
    "\tpilastri = T([1,2,3])([0.7,3.7,0])(pilastri)\n",
    "\tdistributore = COLOR(GRAY)(CUBOID([0.8,0.6,1.5]))\n",
    "\tdistributore2 = distributore\n",
    "\tdistributore = T([1,2,3])([0.6,2.6,0])(distributore)\n",
    "\tdistributore2 = T([1,2,3])([0.6,4.8,0])(distributore2)\n",
    "\tdistributore = STRUCT([distributore,distributore2])\n",
    "\tstazione = STRUCT([pompa,pilastri,distributore])\n",
    "\tstazione2 = T(1)(4)(stazione)\n",
    "\tstazione3 = T(1)(7)(stazione)\n",
    "\tcopertura = CUBOID([15,12,1])\n",
    "\tcopertura = T([1,2,3])([-3,-2,5])(copertura)\n",
    "\tcopertura = COLOR(YELLOW)(copertura)\n",
    "\tstazione = STRUCT([stazione,stazione2,stazione3])\n",
    "\tpalo = (CYLINDER([0.3,5])(40))\n",
    "\tinsegna = (CUBOID([2.5,0.6,2.5]))\n",
    "\tinsegna = T([1,2,3])([-0.3,-0.3,5])(insegna)\n",
    "\tinsegna = STRUCT([palo,insegna])\n",
    "\tinsegna = T(2)(-5)(insegna)\n",
    "\tlogo = TEXTURE(\"texture/logoEni.png\")(CUBOID([2.5,0.1,2.5]))\n",
    "\tlogo2 = logo\n",
    "\tlogo = T([1,2,3])([-0.3,-5.4,5])(logo)\n",
    "\tlogo2 = T([1,2,3])([-0.3,-4.6,5])(logo2)\n",
    "\tinsegna = STRUCT([insegna,logo,logo2])\n",
    "\tlogo3 = TEXTURE(\"texture/logoEni2.jpg\")(CUBOID([0.1,2.5,1]))\n",
    "\tlogo3 = T([1,2,3])([12,-2,5])(logo3)\n",
    "\tlogo4 = T(1)(-15.1)(logo3)\n",
    "\tinsegna = STRUCT([insegna,logo3,logo4])\n",
    "\treturn STRUCT([stazione,copertura,insegna])"
   ]
  },
  {
   "cell_type": "markdown",
   "metadata": {},
   "source": [
    "## Risultato finale:"
   ]
  },
  {
   "cell_type": "markdown",
   "metadata": {},
   "source": [
    "<table> <tbody> <tr> <td> <img src='img/fine.jpg'> </td> <td> <img src='img/fine2.jpg'> </td> </tr> </tbody> </table>"
   ]
  }
 ],
 "metadata": {
  "anaconda-cloud": {},
  "kernelspec": {
   "display_name": "Python [default]",
   "language": "python",
   "name": "python2"
  },
  "language_info": {
   "codemirror_mode": {
    "name": "ipython",
    "version": 2
   },
   "file_extension": ".py",
   "mimetype": "text/x-python",
   "name": "python",
   "nbconvert_exporter": "python",
   "pygments_lexer": "ipython2",
   "version": "2.7.12"
  }
 },
 "nbformat": 4,
 "nbformat_minor": 1
}
