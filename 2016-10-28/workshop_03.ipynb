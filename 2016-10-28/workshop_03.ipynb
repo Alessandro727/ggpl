{
 "cells": [
  {
   "cell_type": "markdown",
   "metadata": {},
   "source": [
    "# Workshop N.3: Parametric concrete stairs"
   ]
  },
  {
   "cell_type": "markdown",
   "metadata": {},
   "source": [
    "## Immagine di riferimento:"
   ]
  },
  {
   "cell_type": "markdown",
   "metadata": {},
   "source": [
    "<img src='http://invisibili.corriere.it/files/2013/06/Scale.jpg'>"
   ]
  },
  {
   "cell_type": "markdown",
   "metadata": {},
   "source": [
    "## Funzione per la realizzazione della scala:\n",
    "@param dx : lunghezza lato x della scatola\n",
    "@param dy : lunghezza lato y della scatola\n",
    "@param dz : lunghezza lato z della scatola"
   ]
  },
  {
   "cell_type": "code",
   "execution_count": null,
   "metadata": {
    "collapsed": true
   },
   "outputs": [],
   "source": [
    "from larlib import *\n",
    "\n",
    "def ggpl_spiral_staircase(dx,dy,dz):\n",
    "\t\"\"\"ogni 3 metri di piano 8 scalini\"\"\"\n",
    "\tnstep = int(dy*2.7)-1\n",
    "\t\"\"\" steps parameters \"\"\"\n",
    "\tstepWidth = dx*0.33\n",
    "\triserHeight = (0.50*dy)/nstep\n",
    "\ttreadDept = (0.6300-riserHeight)/2.0\n",
    "\t\"\"\" number of steps and length of landing for each side \"\"\"\n",
    "\tnsteplatox = int(((dx-2*stepWidth)/treadDept)+0.5) \n",
    "\tlandingLengthX=dy-((nstep+1)*treadDept)\n",
    "\tlandingLengthY=dx-((nsteplatox)*treadDept)-stepWidth\n",
    "\tnsteplatoy = int(((dy-stepWidth-landingLengthX)/treadDept)+0.5)\n",
    "\t\"\"\" skeleton of the box that contains the stair \"\"\"\n",
    "\tbox = SKEL_1(CUBOID([dx,dy,dz]))\n",
    "\t\"\"\" total steps \"\"\"\n",
    "\ttotalSteps = int((dz/riserHeight))\n",
    "\t\"\"\" number of floor \"\"\"\n",
    "\tnfloor = int(round(dz/2)+1)\n",
    "\t\"\"\" first stair \"\"\"\n",
    "\tfirstStair=make_stair(nstep-1,treadDept,riserHeight,landingLengthX+treadDept,stepWidth,1)\n",
    "\tstairs = [firstStair]\n",
    "\t\"\"\" variable that takes into account the number of steps made \"\"\"\n",
    "\trealizedStep = nstep\n",
    "\tx=0\n",
    "\tsideX=0\n",
    "\tfloorX = 0\n",
    "\tfloorY = 0\n",
    "\n",
    "\t\"\"\" realization of the stairs \"\"\"\n",
    "\tfor j in range(int(nfloor+2)):\n",
    "\t\t\"\"\" condition for the realization of the final stair \"\"\"\n",
    "\t\tif (totalSteps-realizedStep<=nsteplatox) or (totalSteps-realizedStep<=nsteplatoy):\n",
    "\t\t\tnfloor = floorX+floorY+1\n",
    "\t\t\tfinalStair= make_stair((totalSteps-realizedStep-nfloor+1),treadDept,riserHeight,0,stepWidth,2)\n",
    "\t\t\t\n",
    "\t\t\tif nfloor%2==0:\n",
    "\t\t\t\tif (nfloor-2)%4==0:\n",
    "\t\t\t\t\t\"\"\" rotation and translation of the scale in the correct position \"\"\"\n",
    "\t\t\t\t\tfinalStair = R([1,2])((PI))(finalStair)\n",
    "\t\t\t\t\tfinalStair = STRUCT([(T([1,2,3])([dx,dy-stepWidth+treadDept,(floorX)*(nsteplatox)*riserHeight+(floorY)*(nsteplatoy+1)*riserHeight+nstep*riserHeight+riserHeight])),finalStair])\n",
    "\t\t\t\tif (nfloor-2)%4==2:\n",
    "\t\t\t\t\t\"\"\" rotation and translation of the scale in the correct position \"\"\"\n",
    "\t\t\t\t\tfinalStair = R([1,2])((2*PI))(finalStair)\n",
    "\t\t\t\t\tfinalStair = STRUCT([(T([1,2,3])([0,stepWidth,(floorX)*(nsteplatox+1)*riserHeight+(floorY)*(nsteplatoy+1)*riserHeight+(nstep)*riserHeight])),finalStair])\n",
    "\t\t\t\n",
    "\t\t\telse:\n",
    "\t\t\t\tif (nfloor-2)%4==1:\n",
    "\t\t\t\t\t\"\"\" rotation and translation of the scale in the correct position \"\"\"\n",
    "\t\t\t\t\tfinalStair = R([1,2])(PI/2)(finalStair)\n",
    "\t\t\t\t\tfinalStair = STRUCT([(T([1,2,3])([dx-stepWidth,0,nstep*riserHeight+(floorX)*(nsteplatox+1)*riserHeight+(floorY)*(nsteplatoy+1)*riserHeight-riserHeight])),finalStair])\n",
    "\t\t\t\tif (nfloor-2)%4==3:\n",
    "\t\t\t\t\t\"\"\" rotation and translation of the scale in the correct position \"\"\"\n",
    "\t\t\t\t\tfinalStair = R([1,2])(3*PI/2)(finalStair)\n",
    "\t\t\t\t\tfinalStair = STRUCT([(T([1,2,3])([stepWidth,dy,nstep*riserHeight+(floorX)*(nsteplatox+1)*riserHeight+(floorY)*(nsteplatoy+1)*riserHeight-riserHeight])),finalStair])\t\n",
    "\t\t\t\t\n",
    "\t\t\tstairs.append(finalStair)\n",
    "\t\t\treturn STRUCT([STRUCT(stairs),box])\n",
    "\t\telse:\n",
    "\t\t\tif j%2==0: \n",
    "\t\t\t\tstairx = make_stair(nsteplatox,treadDept,riserHeight,landingLengthY,stepWidth,0)\n",
    "\t\t\t\t\"\"\" rotation of the scale in the correct position \"\"\"\n",
    "\t\t\t\tstairx = R([1,2])((j+1)*3*PI/2)(stairx)\n",
    "\t\t\t\tstair2 = stairx\n",
    "\t\t\t\tif j == 0:\n",
    "\t\t\t\t\t\"\"\" translation of the scale in the correct position \"\"\"\n",
    "\t\t\t\t\tstair2 = STRUCT([(T([1,2,3])([(stepWidth-treadDept),dy-(j)*(dy-landingLengthX+treadDept),(j+1)*((nstep-1)*riserHeight)])),stair2])\n",
    "\t\t\t\t\t\n",
    "\t\t\t\telse:\n",
    "\t\t\t\t\tif j%4==0:\n",
    "\t\t\t\t\t\t\"\"\" translation of the scale in the correct position \"\"\"\n",
    "\t\t\t\t\t\tstair2 = STRUCT([(T([1,2,3])([(stepWidth-treadDept),dy,(j-2)*((nsteplatoy+nsteplatox+1)*riserHeight)+nstep*riserHeight])),stair2])\n",
    "\t\t\t\t\t\t\n",
    "\t\t\t\t\telse:\n",
    "\t\t\t\t\t\t\"\"\" translation of the scale in the correct position \"\"\"\n",
    "\t\t\t\t\t\tstair2 = STRUCT([(T([1,2,3])([dx-stepWidth+treadDept,0,((j-1)*((nsteplatoy+nsteplatox+1)*riserHeight))+(nstep)*riserHeight])),stair2])\n",
    "\t\t\t\t\t\t\n",
    "\t\t\t\tstairs.append(stair2)\n",
    "\t\t\t\t\"\"\" addition number of realizaed steps \"\"\"\n",
    "\t\t\t\trealizedStep += nsteplatox\n",
    "\t\t\t\t\"\"\" addition number of stairs on x-side \"\"\"\n",
    "\t\t\t\tfloorX += 1\n",
    "\n",
    "\t\t\telse:\n",
    "\t\t\t\tstairy = make_stair(nsteplatoy,treadDept,riserHeight,landingLengthX,stepWidth,1)\n",
    "\t\t\t\t\"\"\" rotation of the scale in the correct position \"\"\"\n",
    "\t\t\t\tstairy = R([1,2])((j+1)*PI/2)(stairy)\n",
    "\t\t\t\tstair3 = stairy\n",
    "\t\t\t\tif (j+1)%4!=0:\n",
    "\t\t\t\t\t\"\"\" translation of the scale in the correct position \"\"\"\n",
    "\t\t\t\t\tstair3 = STRUCT([(T([1,2,3])([dx,dy-stepWidth+treadDept,nstep*riserHeight+(j-x)*(nsteplatox+1)*riserHeight+(j-x-1)*nsteplatoy*riserHeight])),stair3])\n",
    "\t\t\t\t\tx+=2\n",
    "\t\t\t\telse:\n",
    "\t\t\t\t\t\"\"\" translation of the scale in the correct position \"\"\"\n",
    "\t\t\t\t\tstair3 = STRUCT([(T([1,2,3])([0,stepWidth-treadDept,nstep*riserHeight+(j-1)*(nsteplatox+1)*riserHeight+(j-2)*nsteplatoy*riserHeight])),stair3])\n",
    "\t\t\t\t\t\n",
    "\t\t\t\trealizedStep += nsteplatoy\n",
    "\t\t\t\tfloorY += 1\n",
    "\t\t\t\tstairs.append(stair3)\n",
    "\n",
    "\treturn STRUCT([STRUCT(stairs),box])\n",
    "\n",
    "\"\"\" function for the realization of the stair \"\"\"\n",
    "def make_stair(nstep,treadDept,riserHeight,landingLength,stepWidth,n):\n",
    "\t\"\"\" realization of the first step \"\"\"\n",
    "\tstep = MKPOL([[[0,0],[0,riserHeight],[2*treadDept,riserHeight], [treadDept,0]],[[1,2,3,4]],1])\n",
    "\tstep = PROD([QUOTE([stepWidth]),step])\n",
    "\tstair = [step]\n",
    "\tif n == 0:\n",
    "\t\tstair = []\n",
    "\t\"\"\" realization total step \"\"\"\n",
    "\tfor i in range(nstep):\n",
    "\t\tstair.append(T([2,3])([treadDept,riserHeight]))\n",
    "\t\tstair.append(step)\n",
    "\tif n!=2 :\n",
    "\t\tstair.append(T([2,3])([(treadDept),(riserHeight)]))\n",
    "\t\tstair.append(CUBOID([stepWidth,landingLength,riserHeight]))\n",
    "\treturn STRUCT(stair)\n",
    "\n",
    "\n",
    "def main():\n",
    "\tVIEW(ggpl_spiral_staircase(6,5,10))\n",
    "\n",
    "if __name__=='__main__':\n",
    "\tmain()"
   ]
  },
  {
   "cell_type": "markdown",
   "metadata": {},
   "source": [
    "## Spiegazione codice:"
   ]
  },
  {
   "cell_type": "markdown",
   "metadata": {},
   "source": [
    "La seguente parte di codice ha il compito di inizializzare le dimensioni dei singoli scalini, il numero totale di scalini, la lunghezza dei pianerottoli, il numero di scalini per ogni lato della scala ed alcune variabili necessarie per la corretta esecuzione e realizzazione della scala finale."
   ]
  },
  {
   "cell_type": "code",
   "execution_count": null,
   "metadata": {
    "collapsed": true
   },
   "outputs": [],
   "source": [
    "\t\"\"\"ogni 3 metri di piano 8 scalini\"\"\"\n",
    "\tnstep = int(dy*2.7)-1\n",
    "\t\"\"\" steps parameters \"\"\"\n",
    "\tstepWidth = dx*0.33\n",
    "\triserHeight = (0.50*dy)/nstep\n",
    "\ttreadDept = (0.6300-riserHeight)/2.0\n",
    "\t\"\"\" number of steps and length of landing for each side \"\"\"\n",
    "\tnsteplatox = int(((dx-2*stepWidth)/treadDept)+0.5) \n",
    "\tlandingLengthX=dy-((nstep+1)*treadDept)\n",
    "\tlandingLengthY=dx-((nsteplatox)*treadDept)-stepWidth\n",
    "\tnsteplatoy = int(((dy-stepWidth-landingLengthX)/treadDept)+0.5)\n",
    "\t\"\"\" skeleton of the box that contains the stair \"\"\"\n",
    "\tbox = SKEL_1(CUBOID([dx,dy,dz]))\n",
    "\t\"\"\" total steps \"\"\"\n",
    "\ttotalSteps = int((dz/riserHeight))\n",
    "\t\"\"\" number of floor \"\"\"\n",
    "\tnfloor = int(round(dz/2)+1)\n",
    "\t\"\"\" first stair \"\"\"\n",
    "\tfirstStair=make_stair(nstep-1,treadDept,riserHeight,landingLengthX+treadDept,stepWidth,1)\n",
    "\tstairs = [firstStair]\n",
    "\t\"\"\" variable that takes into account the number of steps made \"\"\"\n",
    "\trealizedStep = nstep\n",
    "\tx=0\n",
    "\tsideX=0\n",
    "\tfloorX = 0\n",
    "\tfloorY = 0"
   ]
  },
  {
   "cell_type": "markdown",
   "metadata": {},
   "source": [
    "La seguente pare di codice ha il compito di realizzare la scala attraverso l'unione di varie scale opportunamente ruotate e posizionate.\n",
    "\n",
    "La prima condizione serve per capire quando si è arrivati alla fine della scatola per realizzare l'ultima parte di scalini. Se non viene verificata si parte con la realizzazione delle altre scale a seconda del lato della scatola in cui ci si trova in base al parametro j che sarà positivo se deve essere realizzata una scala sul lato x o negativo se deve essere realizzata sul lato y."
   ]
  },
  {
   "cell_type": "code",
   "execution_count": null,
   "metadata": {
    "collapsed": true
   },
   "outputs": [],
   "source": [
    "\t\"\"\" realization of the stairs \"\"\"\n",
    "\tfor j in range(int(nfloor+2)):\n",
    "\t\t\"\"\" condition for the realization of the final stair \"\"\"\n",
    "\t\tif (totalSteps-realizedStep<=nsteplatox) or (totalSteps-realizedStep<=nsteplatoy):\n",
    "\t\t\tnfloor = floorX+floorY+1\n",
    "\t\t\tfinalStair= make_stair((totalSteps-realizedStep-nfloor+1),treadDept,riserHeight,0,stepWidth,2)\n",
    "\t\t\t\n",
    "\t\t\tif nfloor%2==0:\n",
    "\t\t\t\tif (nfloor-2)%4==0:\n",
    "\t\t\t\t\t\"\"\" rotation and translation of the scale in the correct position \"\"\"\n",
    "\t\t\t\t\tfinalStair = R([1,2])((PI))(finalStair)\n",
    "\t\t\t\t\tfinalStair = STRUCT([(T([1,2,3])([dx,dy-stepWidth+treadDept,(floorX)*(nsteplatox)*riserHeight+(floorY)*(nsteplatoy+1)*riserHeight+nstep*riserHeight+riserHeight])),finalStair])\n",
    "\t\t\t\tif (nfloor-2)%4==2:\n",
    "\t\t\t\t\t\"\"\" rotation and translation of the scale in the correct position \"\"\"\n",
    "\t\t\t\t\tfinalStair = R([1,2])((2*PI))(finalStair)\n",
    "\t\t\t\t\tfinalStair = STRUCT([(T([1,2,3])([0,stepWidth,(floorX)*(nsteplatox+1)*riserHeight+(floorY)*(nsteplatoy+1)*riserHeight+(nstep)*riserHeight])),finalStair])\n",
    "\t\t\t\n",
    "\t\t\telse:\n",
    "\t\t\t\tif (nfloor-2)%4==1:\n",
    "\t\t\t\t\t\"\"\" rotation and translation of the scale in the correct position \"\"\"\n",
    "\t\t\t\t\tfinalStair = R([1,2])(PI/2)(finalStair)\n",
    "\t\t\t\t\tfinalStair = STRUCT([(T([1,2,3])([dx-stepWidth,0,nstep*riserHeight+(floorX)*(nsteplatox+1)*riserHeight+(floorY)*(nsteplatoy+1)*riserHeight-riserHeight])),finalStair])\n",
    "\t\t\t\tif (nfloor-2)%4==3:\n",
    "\t\t\t\t\t\"\"\" rotation and translation of the scale in the correct position \"\"\"\n",
    "\t\t\t\t\tfinalStair = R([1,2])(3*PI/2)(finalStair)\n",
    "\t\t\t\t\tfinalStair = STRUCT([(T([1,2,3])([stepWidth,dy,nstep*riserHeight+(floorX)*(nsteplatox+1)*riserHeight+(floorY)*(nsteplatoy+1)*riserHeight-riserHeight])),finalStair])\t\n",
    "\t\t\t\t\n",
    "\t\t\tstairs.append(finalStair)\n",
    "\t\t\treturn STRUCT([STRUCT(stairs),box])\n",
    "\t\telse:\n",
    "\t\t\tif j%2==0: \n",
    "\t\t\t\tstairx = make_stair(nsteplatox,treadDept,riserHeight,landingLengthY,stepWidth,0)\n",
    "\t\t\t\t\"\"\" rotation of the scale in the correct position \"\"\"\n",
    "\t\t\t\tstairx = R([1,2])((j+1)*3*PI/2)(stairx)\n",
    "\t\t\t\tstair2 = stairx\n",
    "\t\t\t\tif j == 0:\n",
    "\t\t\t\t\t\"\"\" translation of the scale in the correct position \"\"\"\n",
    "\t\t\t\t\tstair2 = STRUCT([(T([1,2,3])([(stepWidth-treadDept),dy-(j)*(dy-landingLengthX+treadDept),(j+1)*((nstep-1)*riserHeight)])),stair2])\n",
    "\t\t\t\t\t\n",
    "\t\t\t\telse:\n",
    "\t\t\t\t\tif j%4==0:\n",
    "\t\t\t\t\t\t\"\"\" translation of the scale in the correct position \"\"\"\n",
    "\t\t\t\t\t\tstair2 = STRUCT([(T([1,2,3])([(stepWidth-treadDept),dy,(j-2)*((nsteplatoy+nsteplatox+1)*riserHeight)+nstep*riserHeight])),stair2])\n",
    "\t\t\t\t\t\t\n",
    "\t\t\t\t\telse:\n",
    "\t\t\t\t\t\t\"\"\" translation of the scale in the correct position \"\"\"\n",
    "\t\t\t\t\t\tstair2 = STRUCT([(T([1,2,3])([dx-stepWidth+treadDept,0,((j-1)*((nsteplatoy+nsteplatox+1)*riserHeight))+(nstep)*riserHeight])),stair2])\n",
    "\t\t\t\t\t\t\n",
    "\t\t\t\tstairs.append(stair2)\n",
    "\t\t\t\t\"\"\" addition number of realizaed steps \"\"\"\n",
    "\t\t\t\trealizedStep += nsteplatox\n",
    "\t\t\t\t\"\"\" addition number of stairs on x-side \"\"\"\n",
    "\t\t\t\tfloorX += 1\n",
    "\n",
    "\t\t\telse:\n",
    "\t\t\t\tstairy = make_stair(nsteplatoy,treadDept,riserHeight,landingLengthX,stepWidth,1)\n",
    "\t\t\t\t\"\"\" rotation of the scale in the correct position \"\"\"\n",
    "\t\t\t\tstairy = R([1,2])((j+1)*PI/2)(stairy)\n",
    "\t\t\t\tstair3 = stairy\n",
    "\t\t\t\tif (j+1)%4!=0:\n",
    "\t\t\t\t\t\"\"\" translation of the scale in the correct position \"\"\"\n",
    "\t\t\t\t\tstair3 = STRUCT([(T([1,2,3])([dx,dy-stepWidth+treadDept,nstep*riserHeight+(j-x)*(nsteplatox+1)*riserHeight+(j-x-1)*nsteplatoy*riserHeight])),stair3])\n",
    "\t\t\t\t\tx+=2\n",
    "\t\t\t\telse:\n",
    "\t\t\t\t\t\"\"\" translation of the scale in the correct position \"\"\"\n",
    "\t\t\t\t\tstair3 = STRUCT([(T([1,2,3])([0,stepWidth-treadDept,nstep*riserHeight+(j-1)*(nsteplatox+1)*riserHeight+(j-2)*nsteplatoy*riserHeight])),stair3])\n",
    "\t\t\t\t\t\n",
    "\t\t\t\trealizedStep += nsteplatoy\n",
    "\t\t\t\tfloorY += 1\n",
    "\t\t\t\tstairs.append(stair3)\n",
    "\n",
    "\treturn STRUCT([STRUCT(stairs),box])"
   ]
  },
  {
   "cell_type": "markdown",
   "metadata": {},
   "source": [
    "##### Funzione per la realizzazione di una singola scala:\n",
    "@param nstep : numero scalini\n",
    "\n",
    "@param tradDept : lunghezza pedata\n",
    "\n",
    "@param riserHeight: lunghezza alzata\n",
    "\n",
    "@param landingLength: lunghezza pianerottolo\n",
    "\n",
    "@param stepWidth: larghezza scalino\n",
    "\n",
    "@param n: variabile per capire il tipo di scala da realizzare"
   ]
  },
  {
   "cell_type": "code",
   "execution_count": null,
   "metadata": {
    "collapsed": true
   },
   "outputs": [],
   "source": [
    "\"\"\" function for the realization of the stair \"\"\"\n",
    "def make_stair(nstep,treadDept,riserHeight,landingLength,stepWidth,n):\n",
    "\t\"\"\" realization of the first step \"\"\"\n",
    "\tstep = MKPOL([[[0,0],[0,riserHeight],[2*treadDept,riserHeight], [treadDept,0]],[[1,2,3,4]],1])\n",
    "\tstep = PROD([QUOTE([stepWidth]),step])\n",
    "\tstair = [step]\n",
    "\tif n == 0:\n",
    "\t\tstair = []\n",
    "\t\"\"\" realization total step \"\"\"\n",
    "\tfor i in range(nstep):\n",
    "\t\tstair.append(T([2,3])([treadDept,riserHeight]))\n",
    "\t\tstair.append(step)\n",
    "\tif n!=2 :\n",
    "\t\tstair.append(T([2,3])([(treadDept),(riserHeight)]))\n",
    "\t\tstair.append(CUBOID([stepWidth,landingLength,riserHeight]))\n",
    "\treturn STRUCT(stair)"
   ]
  },
  {
   "cell_type": "markdown",
   "metadata": {},
   "source": [
    "## Esempi:"
   ]
  },
  {
   "cell_type": "markdown",
   "metadata": {},
   "source": [
    "### Esempio 1:\n",
    "VIEW(ggpl_spiral_staircase(6,5,10))"
   ]
  },
  {
   "cell_type": "markdown",
   "metadata": {},
   "source": [
    "<img src='img/esempio1.jpg'>"
   ]
  },
  {
   "cell_type": "markdown",
   "metadata": {},
   "source": [
    "### Esempio 2:\n",
    "VIEW(ggpl_spiral_staircase(6,5,6))"
   ]
  },
  {
   "cell_type": "markdown",
   "metadata": {},
   "source": [
    "<img src='img/esempio2.jpg'>"
   ]
  },
  {
   "cell_type": "markdown",
   "metadata": {},
   "source": [
    "### Esempio 3:\n",
    "VIEW(ggpl_spiral_staircase(6,10,8))"
   ]
  },
  {
   "cell_type": "markdown",
   "metadata": {},
   "source": [
    "<img src='img/esempio3.jpg'>"
   ]
  }
 ],
 "metadata": {
  "anaconda-cloud": {},
  "kernelspec": {
   "display_name": "Python [default]",
   "language": "python",
   "name": "python2"
  },
  "language_info": {
   "codemirror_mode": {
    "name": "ipython",
    "version": 2
   },
   "file_extension": ".py",
   "mimetype": "text/x-python",
   "name": "python",
   "nbconvert_exporter": "python",
   "pygments_lexer": "ipython2",
   "version": "2.7.12"
  }
 },
 "nbformat": 4,
 "nbformat_minor": 1
}
