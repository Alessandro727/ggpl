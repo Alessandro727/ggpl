{
 "cells": [
  {
   "cell_type": "markdown",
   "metadata": {},
   "source": [
    "# Workshop N.3: Parametric concrete stairs"
   ]
  },
  {
   "cell_type": "markdown",
   "metadata": {},
   "source": [
    "## Immagine di riferimento:"
   ]
  },
  {
   "cell_type": "markdown",
   "metadata": {},
   "source": [
    "<img src='http://invisibili.corriere.it/files/2013/06/Scale.jpg'>"
   ]
  },
  {
   "cell_type": "markdown",
   "metadata": {},
   "source": [
    "## Funzione per la realizzazione della scala:\n",
    "    @param dx : lunghezza lato x della scatola\n",
    "    @param dy : lunghezza lato y della scatola\n",
    "    @param dz : lunghezza lato z della scatola"
   ]
  },
  {
   "cell_type": "code",
   "execution_count": null,
   "metadata": {
    "collapsed": true
   },
   "outputs": [],
   "source": [
    "def ggpl_spiral_staircase(dx,dy,dz):\n",
    "    \"\"\"ogni 3 metri di piano 8 scalini\"\"\"\n",
    "\tnstep = int(dy*2.7)+1\n",
    "    \"\"\" steps parameters \"\"\"\n",
    "\triserHeight = (0.50*dy)/nstep\n",
    "\ttreadDept = (0.6300-riserHeight)/2.0\n",
    "    \"\"\" number of steps and length of landing for each side \"\"\"\n",
    "\tlandingLengthY=dy-((nstep+1)*treadDept)\n",
    "\tif dx>dy:\n",
    "\t\tstepWidth = landingLengthY\n",
    "\telse:\n",
    "\t\tstepWidth = dx/2.5\n",
    "\t\tlandingLengthY = stepWidth\n",
    "\tnsteplatox = int(((dx-2*stepWidth)/treadDept)+0.5) \n",
    "\tlandingLengthX=stepWidth\n",
    "\tnsteplatoy = int(((dy-stepWidth-landingLengthY)/treadDept)+0.5)\n",
    "    \"\"\" skeleton of the box that contains the stair \"\"\"\n",
    "\tbox = SKEL_1(CUBOID([dx,dy,dz]))\n",
    "    \"\"\" total steps \"\"\"\n",
    "\ttotalSteps = int((dz/riserHeight))\n",
    "    \"\"\" number and height of floor \"\"\"\n",
    "\tnfloor = int(round(dz/2)+1)\n",
    "\theightfloor = (nsteplatoy)*riserHeight\n",
    "    \"\"\" first stair \"\"\"\n",
    "\tstair=make_stair(nsteplatoy,treadDept,riserHeight,landingLengthY+treadDept,stepWidth,1)\n",
    "\tstair = T(2)([dy-((nsteplatoy+2)*treadDept)-landingLengthY]) (stair)\n",
    "    \"\"\" variable that takes into account the number of steps made \"\"\"\n",
    "\trealizedStep = nsteplatoy\n",
    "\tr =4\n",
    "    \n",
    "    \"\"\" realization of the stairs \"\"\"\n",
    "\tfor j in range(int(nfloor)*2):\n",
    "        \"\"\" condition for the realization of the final stair \"\"\"\n",
    "\t\tif (totalSteps-realizedStep<=nsteplatox) or (totalSteps-realizedStep<=nsteplatoy):\n",
    "\t\t\tif (totalSteps-realizedStep<=nsteplatox) and r%2==1:\n",
    "\t\t\t\tfinalStair = make_stair((totalSteps-realizedStep-1),treadDept,riserHeight,dy-stepWidth-(totalSteps-realizedStep-1)*treadDept,stepWidth,2)\n",
    "\t\t\telse:\n",
    "\t\t\t\tfinalStair = make_stair((totalSteps-realizedStep-1),treadDept,riserHeight,dx-stepWidth-(totalSteps-realizedStep-1)*treadDept,stepWidth,2)\n",
    "            \"\"\" rotation and translation of the scale in the correct position \"\"\"\n",
    "\t\t\tif r==4:\n",
    "\t\t\t\tfinalStair=R([1,2])(3*PI/2)(finalStair)\n",
    "\t\t\t\tfinalStair = T([1,2,3])([stepWidth-treadDept,dy,heightfloor])(finalStair)\n",
    "\t\t\t\tstair = STRUCT([stair,finalStair])\n",
    "\t\t\t\tbreak\n",
    "\t\t\tif r==1:\n",
    "\t\t\t\tfinalStair = R([1,2])(PI)(finalStair)\n",
    "\t\t\t\tfinalStair = T([1,2,3])([dx,dy-landingLengthY+treadDept ,heightfloor])(finalStair)\n",
    "\t\t\t\tstair = STRUCT([stair,finalStair])\n",
    "\t\t\t\tbreak\n",
    "\t\t\tif r==2:\n",
    "\t\t\t\tfinalStair = R([1,2])(PI/2)(finalStair)\n",
    "\t\t\t\tfinalStair = T([1,2,3])([dx-landingLengthY+treadDept,0,heightfloor])(finalStair)\n",
    "\t\t\t\tstair = STRUCT([stair,finalStair])\n",
    "\t\t\t\tbreak\n",
    "\t\t\tif r==3:\n",
    "\t\t\t\tfinalStair = T([1,2,3])([0,stepWidth-treadDept,heightfloor])(finalStair)\n",
    "\t\t\t\tstair = STRUCT([stair,finalStair])\n",
    "\t\t\t\tbreak\n",
    "\n",
    "\t\telse:\n",
    "\t\t\tif j%4== 0:\n",
    "\t\t\t\tstepsX = make_stair(nsteplatox,treadDept,riserHeight,landingLengthX,stepWidth,1)\n",
    "\t\t\t\tstepsX = R([1,2])(3*PI/2)(stepsX)\n",
    "\t\t\t\tstepsX = T([1,2,3])([stepWidth-treadDept,dy,heightfloor])(stepsX)\n",
    "\t\t\t\tstair = STRUCT([stair,stepsX])\n",
    "\t\t\t\theightfloor += (nsteplatox+1)*riserHeight \n",
    "\t\t\t\trealizedStep += nsteplatox+1\n",
    "\t\t\t\tr=1\n",
    "\t\t\tif j%4== 1:\n",
    "\t\t\t\tstepsY = make_stair(nsteplatoy,treadDept,riserHeight,dy-nsteplatoy*treadDept-stepWidth,stepWidth,1)\n",
    "\t\t\t\tstepsY = R([1,2])(PI)(stepsY)\n",
    "\t\t\t\tstepsY = T([1,2,3])([dx,dy-landingLengthY+treadDept ,heightfloor])(stepsY)\n",
    "\t\t\t\tstair = STRUCT([stair,stepsY])\n",
    "\t\t\t\theightfloor += (nsteplatoy+1)*riserHeight \n",
    "\t\t\t\trealizedStep += nsteplatoy+1\n",
    "\t\t\t\tr=2\n",
    "\t\t\tif j%4== 2:\n",
    "\t\t\t\tstepsX = make_stair(nsteplatox,treadDept,riserHeight,landingLengthX,stepWidth,1)\n",
    "\t\t\t\tstepsX = R([1,2])(PI/2)(stepsX)\n",
    "\t\t\t\tstepsX = T([1,2,3])([dx-landingLengthY+treadDept,0,heightfloor])(stepsX)\n",
    "\t\t\t\tstair = STRUCT([stair,stepsX])\n",
    "\t\t\t\theightfloor += (nsteplatox+1)*riserHeight \n",
    "\t\t\t\trealizedStep += nsteplatox+1\n",
    "\t\t\t\tr=3\n",
    "\t\t\tif j%4== 3:\n",
    "\t\t\t\tstepsY = make_stair(nsteplatoy,treadDept,riserHeight,landingLengthY,stepWidth,1)\n",
    "\t\t\t\tstepsY = T([1,2,3])([0,stepWidth-treadDept,heightfloor])(stepsY)\n",
    "\t\t\t\tstair = STRUCT([stair,stepsY])\n",
    "\t\t\t\theightfloor += (nsteplatoy+1)*riserHeight \n",
    "\t\t\t\trealizedStep += nsteplatoy+1\n",
    "\t\t\t\tr=4\n",
    "\t\"\"\"floor of the stair\"\"\"\n",
    "\tfloor = CUBOID([dx,dy,0.05])\n",
    "\tfloor = TEXTURE(\"texture/floorStair.jpg\")(floor)\n",
    "\n",
    "\treturn STRUCT([stair,floor])"
   ]
  },
  {
   "cell_type": "markdown",
   "metadata": {},
   "source": [
    "## Spiegazione codice:"
   ]
  },
  {
   "cell_type": "markdown",
   "metadata": {},
   "source": [
    "La seguente parte di codice ha il compito di inizializzare le dimensioni dei singoli scalini, il numero totale di scalini, la lunghezza dei pianerottoli, il numero di scalini per ogni lato della scala ed alcune variabili necessarie per la corretta esecuzione e realizzazione della scala finale."
   ]
  },
  {
   "cell_type": "code",
   "execution_count": null,
   "metadata": {
    "collapsed": true
   },
   "outputs": [],
   "source": [
    "  \"\"\"ogni 3 metri di piano 8 scalini\"\"\"\n",
    "\tnstep = int(dy*2.7)+1\n",
    "    \"\"\" steps parameters \"\"\"\n",
    "\triserHeight = (0.50*dy)/nstep\n",
    "\ttreadDept = (0.6300-riserHeight)/2.0\n",
    "    \"\"\" number of steps and length of landing for each side \"\"\"\n",
    "\tlandingLengthY=dy-((nstep+1)*treadDept)\n",
    "\tstepWidth = landingLengthY\n",
    "\tnsteplatox = int(((dx-2*stepWidth)/treadDept)+0.5) \n",
    "\tlandingLengthX=stepWidth\n",
    "\tnsteplatoy = int(((dy-stepWidth-landingLengthY)/treadDept)+0.5)\n",
    "    \"\"\" skeleton of the box that contains the stair \"\"\"\n",
    "\tbox = SKEL_1(CUBOID([dx,dy,dz]))\n",
    "    \"\"\" total steps \"\"\"\n",
    "\ttotalSteps = int((dz/riserHeight))\n",
    "    \"\"\" number and height of floor \"\"\"\n",
    "\tnfloor = int(round(dz/2)+1)\n",
    "\theightfloor = (nsteplatoy)*riserHeight\n",
    "    \"\"\" first stair \"\"\"\n",
    "\tstair=make_stair(nsteplatoy,treadDept,riserHeight,landingLengthY+treadDept,stepWidth,1)\n",
    "\tstair = T(2)([dy-((nsteplatoy+2)*treadDept)-landingLengthY]) (stair)\n",
    "    \"\"\" variable that takes into account the number of steps made \"\"\"\n",
    "\trealizedStep = nsteplatoy\n",
    "\tr =4"
   ]
  },
  {
   "cell_type": "markdown",
   "metadata": {},
   "source": [
    "La seguente pare di codice ha il compito di realizzare la scala attraverso l'unione di varie scale opportunamente ruotate e posizionate.\n",
    "\n",
    "La prima condizione serve per capire quando si è arrivati alla fine della scatola per realizzare l'ultima parte di scalini. Se non viene verificata si parte con la realizzazione delle altre scale a seconda del lato della scatola in cui ci si trova in base al parametro j che sarà positivo se deve essere realizzata una scala sul lato x o negativo se deve essere realizzata sul lato y. Alla fine viene realizzato anche un pavimento."
   ]
  },
  {
   "cell_type": "code",
   "execution_count": null,
   "metadata": {
    "collapsed": true
   },
   "outputs": [],
   "source": [
    " \"\"\" realization of the stairs \"\"\"\n",
    "\tfor j in range(int(nfloor)*2):\n",
    "        \"\"\" condition for the realization of the final stair \"\"\"\n",
    "\t\tif (totalSteps-realizedStep<=nsteplatox) or (totalSteps-realizedStep<=nsteplatoy):\n",
    "\t\t\tif (totalSteps-realizedStep<=nsteplatox) and r%2==1:\n",
    "\t\t\t\tfinalStair = make_stair((totalSteps-realizedStep-1),treadDept,riserHeight,dy-stepWidth-(totalSteps-realizedStep-1)*treadDept,stepWidth,2)\n",
    "\t\t\telse:\n",
    "\t\t\t\tfinalStair = make_stair((totalSteps-realizedStep-1),treadDept,riserHeight,dx-stepWidth-(totalSteps-realizedStep-1)*treadDept,stepWidth,2)\n",
    "            \"\"\" rotation and translation of the scale in the correct position \"\"\"\n",
    "\t\t\tif r==4:\n",
    "\t\t\t\tfinalStair=R([1,2])(3*PI/2)(finalStair)\n",
    "\t\t\t\tfinalStair = T([1,2,3])([stepWidth-treadDept,dy,heightfloor])(finalStair)\n",
    "\t\t\t\tstair = STRUCT([stair,finalStair])\n",
    "\t\t\t\tbreak\n",
    "\t\t\tif r==1:\n",
    "\t\t\t\tfinalStair = R([1,2])(PI)(finalStair)\n",
    "\t\t\t\tfinalStair = T([1,2,3])([dx,dy-landingLengthY+treadDept ,heightfloor])(finalStair)\n",
    "\t\t\t\tstair = STRUCT([stair,finalStair])\n",
    "\t\t\t\tbreak\n",
    "\t\t\tif r==2:\n",
    "\t\t\t\tfinalStair = R([1,2])(PI/2)(finalStair)\n",
    "\t\t\t\tfinalStair = T([1,2,3])([dx-landingLengthY+treadDept,0,heightfloor])(finalStair)\n",
    "\t\t\t\tstair = STRUCT([stair,finalStair])\n",
    "\t\t\t\tbreak\n",
    "\t\t\tif r==3:\n",
    "\t\t\t\tfinalStair = T([1,2,3])([0,stepWidth-treadDept,heightfloor])(finalStair)\n",
    "\t\t\t\tstair = STRUCT([stair,finalStair])\n",
    "\t\t\t\tbreak\n",
    "\n",
    "\t\telse:\n",
    "\t\t\tif j%4== 0:\n",
    "\t\t\t\tstepsX = make_stair(nsteplatox,treadDept,riserHeight,landingLengthX,stepWidth,1)\n",
    "\t\t\t\tstepsX = R([1,2])(3*PI/2)(stepsX)\n",
    "\t\t\t\tstepsX = T([1,2,3])([stepWidth-treadDept,dy,heightfloor])(stepsX)\n",
    "\t\t\t\tstair = STRUCT([stair,stepsX])\n",
    "\t\t\t\theightfloor += (nsteplatox+1)*riserHeight \n",
    "\t\t\t\trealizedStep += nsteplatox+1\n",
    "\t\t\t\tr=1\n",
    "\t\t\tif j%4== 1:\n",
    "\t\t\t\tstepsY = make_stair(nsteplatoy,treadDept,riserHeight,dy-nsteplatoy*treadDept-stepWidth,stepWidth,1)\n",
    "\t\t\t\tstepsY = R([1,2])(PI)(stepsY)\n",
    "\t\t\t\tstepsY = T([1,2,3])([dx,dy-landingLengthY+treadDept ,heightfloor])(stepsY)\n",
    "\t\t\t\tstair = STRUCT([stair,stepsY])\n",
    "\t\t\t\theightfloor += (nsteplatoy+1)*riserHeight \n",
    "\t\t\t\trealizedStep += nsteplatoy+1\n",
    "\t\t\t\tr=2\n",
    "\t\t\tif j%4== 2:\n",
    "\t\t\t\tstepsX = make_stair(nsteplatox,treadDept,riserHeight,landingLengthX,stepWidth,1)\n",
    "\t\t\t\tstepsX = R([1,2])(PI/2)(stepsX)\n",
    "\t\t\t\tstepsX = T([1,2,3])([dx-landingLengthY+treadDept,0,heightfloor])(stepsX)\n",
    "\t\t\t\tstair = STRUCT([stair,stepsX])\n",
    "\t\t\t\theightfloor += (nsteplatox+1)*riserHeight \n",
    "\t\t\t\trealizedStep += nsteplatox+1\n",
    "\t\t\t\tr=3\n",
    "\t\t\tif j%4== 3:\n",
    "\t\t\t\tstepsY = make_stair(nsteplatoy,treadDept,riserHeight,landingLengthY,stepWidth,1)\n",
    "\t\t\t\tstepsY = T([1,2,3])([0,stepWidth-treadDept,heightfloor])(stepsY)\n",
    "\t\t\t\tstair = STRUCT([stair,stepsY])\n",
    "\t\t\t\theightfloor += (nsteplatoy+1)*riserHeight \n",
    "\t\t\t\trealizedStep += nsteplatoy+1\n",
    "\t\t\t\tr=4\n",
    "\t\"\"\"floor of the stair\"\"\"\n",
    "\tfloor = CUBOID([dx,dy,0.05])\n",
    "\tfloor = TEXTURE(\"texture/floorStair.jpg\")(floor)\n",
    "\n",
    "\treturn STRUCT([stair,floor])"
   ]
  },
  {
   "cell_type": "markdown",
   "metadata": {},
   "source": [
    "##### Funzione per la realizzazione di una singola scala:\n",
    "@param nstep : numero scalini\n",
    "\n",
    "@param tradDept : lunghezza pedata\n",
    "\n",
    "@param riserHeight: lunghezza alzata\n",
    "\n",
    "@param landingLength: lunghezza pianerottolo\n",
    "\n",
    "@param stepWidth: larghezza scalino\n",
    "\n",
    "@param n: variabile per capire il tipo di scala da realizzare"
   ]
  },
  {
   "cell_type": "code",
   "execution_count": null,
   "metadata": {
    "collapsed": true
   },
   "outputs": [],
   "source": [
    "def make_stair(nstep,treadDept,riserHeight,landingLength,stepWidth,n):\n",
    "\t\"\"\" realization of the first step \"\"\"\n",
    "\tstep = MKPOL([[[0,0],[0,riserHeight],[2*treadDept,riserHeight], [treadDept,0]],[[1,2,3,4]],1])\n",
    "\tstep1 = MKPOL([[[0,0],[0,riserHeight],[treadDept,2*riserHeight], [treadDept,riserHeight]],[[1,2,3,4]],1])\n",
    "\tstep = PROD([QUOTE([stepWidth]),step])\n",
    "\tstep = TEXTURE(\"texture/Liptus.jpg\")(step)\n",
    "\thandrailTop = PROD([QUOTE([stepWidth/15.0]),step1])\n",
    "\thandrail = CIRCLE(stepWidth/30.0)([20,20])\n",
    "\n",
    "\thandrail = PROD([QUOTE([1]),handrail])\n",
    "\t\n",
    "\thandrail = R([1,3])(PI/2)(handrail)\n",
    "\thandrail = T([1,2,3])([stepWidth-(stepWidth/30.0),treadDept/2,riserHeight])(handrail)\n",
    "\thandrail = COLOR(BLACK)(handrail)\n",
    "\tstep = STRUCT([step,handrail])\n",
    "\thandrailTop = R([2,3])(PI)(handrailTop)\n",
    "\thandrailTop = T([1,2,3])([stepWidth-(stepWidth/15.0),treadDept,1+2*riserHeight])(handrailTop)\n",
    "\thandrailTop = TEXTURE(\"texture/Liptus.jpg\")(handrailTop)\n",
    "\tstep = STRUCT([step,handrailTop])\n",
    "\tstair = [step]\n",
    "\tif n == 0:\n",
    "\t\tstair = []\n",
    "\t\"\"\" realization total step \"\"\"\n",
    "\tfor i in range(nstep):\n",
    "\t\tstep = T([2,3])([treadDept,riserHeight])(step)\n",
    "\t\tstair.append(step)\n",
    "\tfinalStep = T([2,3])([(treadDept*(nstep+1)),(riserHeight*(nstep))])(CUBOID([stepWidth,landingLength,riserHeight]))\n",
    "\tfinalStep = TEXTURE(\"texture/Liptus.jpg\")(finalStep)\n",
    "\tstair.append(finalStep)\n",
    "\treturn STRUCT(stair)"
   ]
  },
  {
   "cell_type": "markdown",
   "metadata": {},
   "source": [
    "## Esempi:"
   ]
  },
  {
   "cell_type": "markdown",
   "metadata": {},
   "source": [
    "### Esempio 1:\n",
    "VIEW(ggpl_spiral_staircase(6,4,20))"
   ]
  },
  {
   "cell_type": "markdown",
   "metadata": {},
   "source": [
    "<img src='img/esempio1.jpg'>"
   ]
  },
  {
   "cell_type": "markdown",
   "metadata": {},
   "source": [
    "### Esempio 2:\n",
    "VIEW(ggpl_spiral_staircase(6,10,10))"
   ]
  },
  {
   "cell_type": "markdown",
   "metadata": {},
   "source": [
    "<img src='img/esempio2.jpg'>"
   ]
  },
  {
   "cell_type": "markdown",
   "metadata": {},
   "source": [
    "### Esempio 3:\n",
    "VIEW(ggpl_spiral_staircase(6,8,40))"
   ]
  },
  {
   "cell_type": "markdown",
   "metadata": {},
   "source": [
    "<img src='img/esempio3.jpg'>"
   ]
  },
  {
   "cell_type": "code",
   "execution_count": null,
   "metadata": {
    "collapsed": true
   },
   "outputs": [],
   "source": []
  }
 ],
 "metadata": {
  "anaconda-cloud": {},
  "kernelspec": {
   "display_name": "Python [default]",
   "language": "python",
   "name": "python2"
  },
  "language_info": {
   "codemirror_mode": {
    "name": "ipython",
    "version": 2
   },
   "file_extension": ".py",
   "mimetype": "text/x-python",
   "name": "python",
   "nbconvert_exporter": "python",
   "pygments_lexer": "ipython2",
   "version": "2.7.12"
  }
 },
 "nbformat": 4,
 "nbformat_minor": 1
}
